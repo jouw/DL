{
 "cells": [
  {
   "cell_type": "markdown",
   "metadata": {
    "collapsed": true,
    "deletable": true,
    "editable": true
   },
   "source": [
    "# Image Classification\n",
    "In this project, you'll classify images from the [CIFAR-10 dataset](https://www.cs.toronto.edu/~kriz/cifar.html).  The dataset consists of airplanes, dogs, cats, and other objects. You'll preprocess the images, then train a convolutional neural network on all the samples. The images need to be normalized and the labels need to be one-hot encoded.  You'll get to apply what you learned and build a convolutional, max pooling, dropout, and fully connected layers.  At the end, you'll get to see your neural network's predictions on the sample images.\n",
    "## Get the Data\n",
    "Run the following cell to download the [CIFAR-10 dataset for python](https://www.cs.toronto.edu/~kriz/cifar-10-python.tar.gz)."
   ]
  },
  {
   "cell_type": "code",
   "execution_count": 7,
   "metadata": {
    "collapsed": false,
    "deletable": true,
    "editable": true
   },
   "outputs": [
    {
     "name": "stdout",
     "output_type": "stream",
     "text": [
      "All files found!\n"
     ]
    }
   ],
   "source": [
    "\"\"\"\n",
    "DON'T MODIFY ANYTHING IN THIS CELL THAT IS BELOW THIS LINE\n",
    "\"\"\"\n",
    "from urllib.request import urlretrieve\n",
    "from os.path import isfile, isdir\n",
    "from tqdm import tqdm\n",
    "import problem_unittests as tests\n",
    "import tarfile\n",
    "\n",
    "cifar10_dataset_folder_path = 'cifar-10-batches-py'\n",
    "\n",
    "# Use Floyd's cifar-10 dataset if present\n",
    "floyd_cifar10_location = '/input/cifar-10/python.tar.gz'\n",
    "if isfile(floyd_cifar10_location):\n",
    "    tar_gz_path = floyd_cifar10_location\n",
    "else:\n",
    "    tar_gz_path = 'cifar-10-python.tar.gz'\n",
    "\n",
    "class DLProgress(tqdm):\n",
    "    last_block = 0\n",
    "\n",
    "    def hook(self, block_num=1, block_size=1, total_size=None):\n",
    "        self.total = total_size\n",
    "        self.update((block_num - self.last_block) * block_size)\n",
    "        self.last_block = block_num\n",
    "\n",
    "if not isfile(tar_gz_path):\n",
    "    with DLProgress(unit='B', unit_scale=True, miniters=1, desc='CIFAR-10 Dataset') as pbar:\n",
    "        urlretrieve(\n",
    "            'https://www.cs.toronto.edu/~kriz/cifar-10-python.tar.gz',\n",
    "            tar_gz_path,\n",
    "            pbar.hook)\n",
    "\n",
    "if not isdir(cifar10_dataset_folder_path):\n",
    "    with tarfile.open(tar_gz_path) as tar:\n",
    "        tar.extractall()\n",
    "        tar.close()\n",
    "\n",
    "\n",
    "tests.test_folder_path(cifar10_dataset_folder_path)"
   ]
  },
  {
   "cell_type": "markdown",
   "metadata": {
    "deletable": true,
    "editable": true
   },
   "source": [
    "## Explore the Data\n",
    "The dataset is broken into batches to prevent your machine from running out of memory.  The CIFAR-10 dataset consists of 5 batches, named `data_batch_1`, `data_batch_2`, etc.. Each batch contains the labels and images that are one of the following:\n",
    "* airplane\n",
    "* automobile\n",
    "* bird\n",
    "* cat\n",
    "* deer\n",
    "* dog\n",
    "* frog\n",
    "* horse\n",
    "* ship\n",
    "* truck\n",
    "\n",
    "Understanding a dataset is part of making predictions on the data.  Play around with the code cell below by changing the `batch_id` and `sample_id`. The `batch_id` is the id for a batch (1-5). The `sample_id` is the id for a image and label pair in the batch.\n",
    "\n",
    "Ask yourself \"What are all possible labels?\", \"What is the range of values for the image data?\", \"Are the labels in order or random?\".  Answers to questions like these will help you preprocess the data and end up with better predictions."
   ]
  },
  {
   "cell_type": "code",
   "execution_count": 8,
   "metadata": {
    "collapsed": false,
    "deletable": true,
    "editable": true
   },
   "outputs": [
    {
     "name": "stdout",
     "output_type": "stream",
     "text": [
      "\n",
      "Stats of batch 1:\n",
      "Samples: 10000\n",
      "Label Counts: {0: 1005, 1: 974, 2: 1032, 3: 1016, 4: 999, 5: 937, 6: 1030, 7: 1001, 8: 1025, 9: 981}\n",
      "First 20 Labels: [6, 9, 9, 4, 1, 1, 2, 7, 8, 3, 4, 7, 7, 2, 9, 9, 9, 3, 2, 6]\n",
      "\n",
      "Example of Image 5:\n",
      "Image - Min Value: 0 Max Value: 252\n",
      "Image - Shape: (32, 32, 3)\n",
      "Label - Label Id: 1 Name: automobile\n"
     ]
    },
    {
     "data": {
      "image/png": "[encoded data removed]",
      "text/plain": [
       "<matplotlib.figure.Figure at 0x7f9d1c680978>"
      ]
     },
     "metadata": {
      "image/png": {
       "height": 250,
       "width": 253
      }
     },
     "output_type": "display_data"
    }
   ],
   "source": [
    "%matplotlib inline\n",
    "%config InlineBackend.figure_format = 'retina'\n",
    "\n",
    "import helper\n",
    "import numpy as np\n",
    "\n",
    "# Explore the dataset\n",
    "batch_id = 1\n",
    "sample_id = 5\n",
    "helper.display_stats(cifar10_dataset_folder_path, batch_id, sample_id)"
   ]
  },
  {
   "cell_type": "markdown",
   "metadata": {
    "deletable": true,
    "editable": true
   },
   "source": [
    "## Implement Preprocess Functions\n",
    "### Normalize\n",
    "In the cell below, implement the `normalize` function to take in image data, `x`, and return it as a normalized Numpy array. The values should be in the range of 0 to 1, inclusive.  The return object should be the same shape as `x`."
   ]
  },
  {
   "cell_type": "code",
   "execution_count": 9,
   "metadata": {
    "collapsed": false,
    "deletable": true,
    "editable": true
   },
   "outputs": [
    {
     "name": "stdout",
     "output_type": "stream",
     "text": [
      "Tests Passed\n"
     ]
    }
   ],
   "source": [
    "def normalize(x):\n",
    "    \"\"\"\n",
    "    Normalize a list of sample image data in the range of 0 to 1\n",
    "    : x: List of image data.  The image shape is (32, 32, 3)\n",
    "    : return: Numpy array of normalize data\n",
    "    \"\"\"\n",
    "    # TODO: Implement Function\n",
    "    x = np.array(x) / 255\n",
    "    return x\n",
    "\n",
    "\n",
    "\"\"\"\n",
    "DON'T MODIFY ANYTHING IN THIS CELL THAT IS BELOW THIS LINE\n",
    "\"\"\"\n",
    "tests.test_normalize(normalize)"
   ]
  },
  {
   "cell_type": "markdown",
   "metadata": {
    "deletable": true,
    "editable": true
   },
   "source": [
    "### One-hot encode\n",
    "Just like the previous code cell, you'll be implementing a function for preprocessing.  This time, you'll implement the `one_hot_encode` function. The input, `x`, are a list of labels.  Implement the function to return the list of labels as One-Hot encoded Numpy array.  The possible values for labels are 0 to 9. The one-hot encoding function should return the same encoding for each value between each call to `one_hot_encode`.  Make sure to save the map of encodings outside the function.\n",
    "\n",
    "Hint: Don't reinvent the wheel."
   ]
  },
  {
   "cell_type": "code",
   "execution_count": 10,
   "metadata": {
    "collapsed": false,
    "deletable": true,
    "editable": true
   },
   "outputs": [
    {
     "name": "stdout",
     "output_type": "stream",
     "text": [
      "Tests Passed\n"
     ]
    }
   ],
   "source": [
    "from sklearn import preprocessing \n",
    "\n",
    "# Don't forget to make it outside the function to save the map\n",
    "lb = preprocessing.LabelBinarizer()\n",
    "lb.fit(np.array(range(10)))\n",
    "\n",
    "def one_hot_encode(x):\n",
    "    \"\"\"\n",
    "    One hot encode a list of sample labels. Return a one-hot encoded vector for each label.\n",
    "    : x: List of sample Labels\n",
    "    : return: Numpy array of one-hot encoded labels\n",
    "    \"\"\"\n",
    "    # TODO: Implement Function\n",
    "    return lb.transform(np.array(x))\n",
    "\n",
    "\n",
    "\"\"\"\n",
    "DON'T MODIFY ANYTHING IN THIS CELL THAT IS BELOW THIS LINE\n",
    "\"\"\"\n",
    "tests.test_one_hot_encode(one_hot_encode)"
   ]
  },
  {
   "cell_type": "markdown",
   "metadata": {
    "deletable": true,
    "editable": true
   },
   "source": [
    "### Randomize Data\n",
    "As you saw from exploring the data above, the order of the samples are randomized.  It doesn't hurt to randomize it again, but you don't need to for this dataset."
   ]
  },
  {
   "cell_type": "markdown",
   "metadata": {
    "deletable": true,
    "editable": true
   },
   "source": [
    "## Preprocess all the data and save it\n",
    "Running the code cell below will preprocess all the CIFAR-10 data and save it to file. The code below also uses 10% of the training data for validation."
   ]
  },
  {
   "cell_type": "code",
   "execution_count": 11,
   "metadata": {
    "collapsed": false,
    "deletable": true,
    "editable": true
   },
   "outputs": [],
   "source": [
    "\"\"\"\n",
    "DON'T MODIFY ANYTHING IN THIS CELL\n",
    "\"\"\"\n",
    "# Preprocess Training, Validation, and Testing Data\n",
    "helper.preprocess_and_save_data(cifar10_dataset_folder_path, normalize, one_hot_encode)"
   ]
  },
  {
   "cell_type": "markdown",
   "metadata": {
    "deletable": true,
    "editable": true
   },
   "source": [
    "# Check Point\n",
    "This is your first checkpoint.  If you ever decide to come back to this notebook or have to restart the notebook, you can start from here.  The preprocessed data has been saved to disk."
   ]
  },
  {
   "cell_type": "code",
   "execution_count": 116,
   "metadata": {
    "collapsed": false,
    "deletable": true,
    "editable": true
   },
   "outputs": [],
   "source": [
    "\"\"\"\n",
    "DON'T MODIFY ANYTHING IN THIS CELL\n",
    "\"\"\"\n",
    "import pickle\n",
    "import problem_unittests as tests\n",
    "import helper\n",
    "\n",
    "# Load the Preprocessed Validation data\n",
    "valid_features, valid_labels = pickle.load(open('preprocess_validation.p', mode='rb'))"
   ]
  },
  {
   "cell_type": "markdown",
   "metadata": {
    "deletable": true,
    "editable": true
   },
   "source": [
    "## Build the network\n",
    "For the neural network, you'll build each layer into a function.  Most of the code you've seen has been outside of functions. To test your code more thoroughly, we require that you put each layer in a function.  This allows us to give you better feedback and test for simple mistakes using our unittests before you submit your project.\n",
    "\n",
    ">**Note:** If you're finding it hard to dedicate enough time for this course each week, we've provided a small shortcut to this part of the project. In the next couple of problems, you'll have the option to use classes from the [TensorFlow Layers](https://www.tensorflow.org/api_docs/python/tf/layers) or [TensorFlow Layers (contrib)](https://www.tensorflow.org/api_guides/python/contrib.layers) packages to build each layer, except the layers you build in the \"Convolutional and Max Pooling Layer\" section.  TF Layers is similar to Keras's and TFLearn's abstraction to layers, so it's easy to pickup.\n",
    "\n",
    ">However, if you would like to get the most out of this course, try to solve all the problems _without_ using anything from the TF Layers packages. You **can** still use classes from other packages that happen to have the same name as ones you find in TF Layers! For example, instead of using the TF Layers version of the `conv2d` class, [tf.layers.conv2d](https://www.tensorflow.org/api_docs/python/tf/layers/conv2d), you would want to use the TF Neural Network version of `conv2d`, [tf.nn.conv2d](https://www.tensorflow.org/api_docs/python/tf/nn/conv2d). \n",
    "\n",
    "Let's begin!\n",
    "\n",
    "### Input\n",
    "The neural network needs to read the image data, one-hot encoded labels, and dropout keep probability. Implement the following functions\n",
    "* Implement `neural_net_image_input`\n",
    " * Return a [TF Placeholder](https://www.tensorflow.org/api_docs/python/tf/placeholder)\n",
    " * Set the shape using `image_shape` with batch size set to `None`.\n",
    " * Name the TensorFlow placeholder \"x\" using the TensorFlow `name` parameter in the [TF Placeholder](https://www.tensorflow.org/api_docs/python/tf/placeholder).\n",
    "* Implement `neural_net_label_input`\n",
    " * Return a [TF Placeholder](https://www.tensorflow.org/api_docs/python/tf/placeholder)\n",
    " * Set the shape using `n_classes` with batch size set to `None`.\n",
    " * Name the TensorFlow placeholder \"y\" using the TensorFlow `name` parameter in the [TF Placeholder](https://www.tensorflow.org/api_docs/python/tf/placeholder).\n",
    "* Implement `neural_net_keep_prob_input`\n",
    " * Return a [TF Placeholder](https://www.tensorflow.org/api_docs/python/tf/placeholder) for dropout keep probability.\n",
    " * Name the TensorFlow placeholder \"keep_prob\" using the TensorFlow `name` parameter in the [TF Placeholder](https://www.tensorflow.org/api_docs/python/tf/placeholder).\n",
    "\n",
    "These names will be used at the end of the project to load your saved model.\n",
    "\n",
    "Note: `None` for shapes in TensorFlow allow for a dynamic size."
   ]
  },
  {
   "cell_type": "code",
   "execution_count": 117,
   "metadata": {
    "collapsed": false,
    "deletable": true,
    "editable": true
   },
   "outputs": [
    {
     "name": "stdout",
     "output_type": "stream",
     "text": [
      "Image Input Tests Passed.\n",
      "Label Input Tests Passed.\n",
      "Keep Prob Tests Passed.\n"
     ]
    }
   ],
   "source": [
    "import tensorflow as tf\n",
    "\n",
    "def neural_net_image_input(image_shape):\n",
    "    \"\"\"\n",
    "    Return a Tensor for a batch of image input\n",
    "    : image_shape: Shape of the images\n",
    "    : return: Tensor for image input.\n",
    "    \"\"\"\n",
    "    # TODO: Implement Function\n",
    "    return tf.placeholder(tf.float32, shape=[None, image_shape[0], image_shape[1], image_shape[2]], name=\"x\")\n",
    "\n",
    "\n",
    "def neural_net_label_input(n_classes):\n",
    "    \"\"\"\n",
    "    Return a Tensor for a batch of label input\n",
    "    : n_classes: Number of classes\n",
    "    : return: Tensor for label input.\n",
    "    \"\"\"\n",
    "    # TODO: Implement Function\n",
    "    return tf.placeholder(tf.int32, shape=[None, n_classes], name=\"y\")\n",
    "\n",
    "\n",
    "def neural_net_keep_prob_input():\n",
    "    \"\"\"\n",
    "    Return a Tensor for keep probability\n",
    "    : return: Tensor for keep probability.\n",
    "    \"\"\"\n",
    "    # TODO: Implement Function\n",
    "    return tf.placeholder(tf.float32, name=\"keep_prob\")\n",
    "\n",
    "\n",
    "\"\"\"\n",
    "DON'T MODIFY ANYTHING IN THIS CELL THAT IS BELOW THIS LINE\n",
    "\"\"\"\n",
    "tf.reset_default_graph()\n",
    "tests.test_nn_image_inputs(neural_net_image_input)\n",
    "tests.test_nn_label_inputs(neural_net_label_input)\n",
    "tests.test_nn_keep_prob_inputs(neural_net_keep_prob_input)"
   ]
  },
  {
   "cell_type": "markdown",
   "metadata": {
    "deletable": true,
    "editable": true
   },
   "source": [
    "### Convolution and Max Pooling Layer\n",
    "Convolution layers have a lot of success with images. For this code cell, you should implement the function `conv2d_maxpool` to apply convolution then max pooling:\n",
    "* Create the weight and bias using `conv_ksize`, `conv_num_outputs` and the shape of `x_tensor`.\n",
    "* Apply a convolution to `x_tensor` using weight and `conv_strides`.\n",
    " * We recommend you use same padding, but you're welcome to use any padding.\n",
    "* Add bias\n",
    "* Add a nonlinear activation to the convolution.\n",
    "* Apply Max Pooling using `pool_ksize` and `pool_strides`.\n",
    " * We recommend you use same padding, but you're welcome to use any padding.\n",
    "\n",
    "**Note:** You **can't** use [TensorFlow Layers](https://www.tensorflow.org/api_docs/python/tf/layers) or [TensorFlow Layers (contrib)](https://www.tensorflow.org/api_guides/python/contrib.layers) for **this** layer, but you can still use TensorFlow's [Neural Network](https://www.tensorflow.org/api_docs/python/tf/nn) package. You may still use the shortcut option for all the **other** layers."
   ]
  },
  {
   "cell_type": "code",
   "execution_count": 118,
   "metadata": {
    "collapsed": false,
    "deletable": true,
    "editable": true
   },
   "outputs": [
    {
     "name": "stdout",
     "output_type": "stream",
     "text": [
      "Tests Passed\n"
     ]
    }
   ],
   "source": [
    "def conv2d_maxpool(x_tensor, conv_num_outputs, conv_ksize, conv_strides, pool_ksize, pool_strides):\n",
    "    \"\"\"\n",
    "    Apply convolution then max pooling to x_tensor\n",
    "    :param x_tensor: TensorFlow Tensor\n",
    "    :param conv_num_outputs: Number of outputs for the convolutional layer\n",
    "    :param conv_ksize: kernal size 2-D Tuple for the convolutional layer\n",
    "    :param conv_strides: Stride 2-D Tuple for convolution\n",
    "    :param pool_ksize: kernal size 2-D Tuple for pool\n",
    "    :param pool_strides: Stride 2-D Tuple for pool\n",
    "    : return: A tensor that represents convolution and max pooling of x_tensor\n",
    "    \"\"\"\n",
    "    # TODO: Implement Function\n",
    "    weight = tf.Variable(tf.truncated_normal([conv_ksize[0], conv_ksize[1], x_tensor.get_shape().as_list()[3], conv_num_outputs]))\n",
    "    bias = tf.Variable(tf.zeros(conv_num_outputs))\n",
    "    \n",
    "    conv_layer = tf.nn.conv2d(x_tensor, weight, strides=[1, conv_strides[0], conv_strides[1], 1], padding='SAME')\n",
    "    #print(conv_layer.get_shape().as_list())\n",
    "    conv_layer = tf.nn.bias_add(conv_layer, bias)\n",
    "    conv_layer = tf.nn.relu(conv_layer)\n",
    "    \n",
    "    conv_layer = tf.nn.max_pool(conv_layer, ksize=[1, pool_ksize[0], pool_ksize[1], 1], strides=[1, pool_strides[0], pool_strides[1], 1], padding='SAME')\n",
    "    #print(conv_layer.get_shape().as_list())\n",
    "    return conv_layer \n",
    "\n",
    "\n",
    "\"\"\"\n",
    "DON'T MODIFY ANYTHING IN THIS CELL THAT IS BELOW THIS LINE\n",
    "\"\"\"\n",
    "tests.test_con_pool(conv2d_maxpool)"
   ]
  },
  {
   "cell_type": "markdown",
   "metadata": {
    "deletable": true,
    "editable": true
   },
   "source": [
    "### Flatten Layer\n",
    "Implement the `flatten` function to change the dimension of `x_tensor` from a 4-D tensor to a 2-D tensor.  The output should be the shape (*Batch Size*, *Flattened Image Size*). Shortcut option: you can use classes from the [TensorFlow Layers](https://www.tensorflow.org/api_docs/python/tf/layers) or [TensorFlow Layers (contrib)](https://www.tensorflow.org/api_guides/python/contrib.layers) packages for this layer. For more of a challenge, only use other TensorFlow packages."
   ]
  },
  {
   "cell_type": "code",
   "execution_count": 119,
   "metadata": {
    "collapsed": false,
    "deletable": true,
    "editable": true
   },
   "outputs": [
    {
     "name": "stdout",
     "output_type": "stream",
     "text": [
      "Tests Passed\n"
     ]
    }
   ],
   "source": [
    "def flatten(x_tensor):\n",
    "    \"\"\"\n",
    "    Flatten x_tensor to (Batch Size, Flattened Image Size)\n",
    "    : x_tensor: A tensor of size (Batch Size, ...), where ... are the image dimensions.\n",
    "    : return: A tensor of size (Batch Size, Flattened Image Size).\n",
    "    \"\"\"\n",
    "    # TODO: Implement Function\n",
    "    return tf.contrib.layers.flatten(x_tensor)\n",
    "\n",
    "\n",
    "\"\"\"\n",
    "DON'T MODIFY ANYTHING IN THIS CELL THAT IS BELOW THIS LINE\n",
    "\"\"\"\n",
    "tests.test_flatten(flatten)"
   ]
  },
  {
   "cell_type": "markdown",
   "metadata": {
    "deletable": true,
    "editable": true
   },
   "source": [
    "### Fully-Connected Layer\n",
    "Implement the `fully_conn` function to apply a fully connected layer to `x_tensor` with the shape (*Batch Size*, *num_outputs*). Shortcut option: you can use classes from the [TensorFlow Layers](https://www.tensorflow.org/api_docs/python/tf/layers) or [TensorFlow Layers (contrib)](https://www.tensorflow.org/api_guides/python/contrib.layers) packages for this layer. For more of a challenge, only use other TensorFlow packages."
   ]
  },
  {
   "cell_type": "code",
   "execution_count": 120,
   "metadata": {
    "collapsed": false,
    "deletable": true,
    "editable": true
   },
   "outputs": [
    {
     "name": "stdout",
     "output_type": "stream",
     "text": [
      "Tests Passed\n"
     ]
    }
   ],
   "source": [
    "def fully_conn(x_tensor, num_outputs):\n",
    "    \"\"\"\n",
    "    Apply a fully connected layer to x_tensor using weight and bias\n",
    "    : x_tensor: A 2-D tensor where the first dimension is batch size.\n",
    "    : num_outputs: The number of output that the new tensor should be.\n",
    "    : return: A 2-D tensor where the second dimension is num_outputs.\n",
    "    \"\"\"\n",
    "    # TODO: Implement Function\n",
    "    weight = tf.Variable(tf.truncated_normal([x_tensor.get_shape().as_list()[1], num_outputs]))\n",
    "    bias = tf.Variable(tf.truncated_normal([num_outputs]))\n",
    "    conn = tf.add(tf.matmul(x_tensor, weight), bias)\n",
    "    return conn\n",
    "\n",
    "\n",
    "\"\"\"\n",
    "DON'T MODIFY ANYTHING IN THIS CELL THAT IS BELOW THIS LINE\n",
    "\"\"\"\n",
    "tests.test_fully_conn(fully_conn)"
   ]
  },
  {
   "cell_type": "markdown",
   "metadata": {
    "deletable": true,
    "editable": true
   },
   "source": [
    "### Output Layer\n",
    "Implement the `output` function to apply a fully connected layer to `x_tensor` with the shape (*Batch Size*, *num_outputs*). Shortcut option: you can use classes from the [TensorFlow Layers](https://www.tensorflow.org/api_docs/python/tf/layers) or [TensorFlow Layers (contrib)](https://www.tensorflow.org/api_guides/python/contrib.layers) packages for this layer. For more of a challenge, only use other TensorFlow packages.\n",
    "\n",
    "**Note:** Activation, softmax, or cross entropy should **not** be applied to this."
   ]
  },
  {
   "cell_type": "code",
   "execution_count": 121,
   "metadata": {
    "collapsed": false,
    "deletable": true,
    "editable": true
   },
   "outputs": [
    {
     "name": "stdout",
     "output_type": "stream",
     "text": [
      "Tests Passed\n"
     ]
    }
   ],
   "source": [
    "def output(x_tensor, num_outputs):\n",
    "    \"\"\"\n",
    "    Apply a output layer to x_tensor using weight and bias\n",
    "    : x_tensor: A 2-D tensor where the first dimension is batch size.\n",
    "    : num_outputs: The number of output that the new tensor should be.\n",
    "    : return: A 2-D tensor where the second dimension is num_outputs.\n",
    "    \"\"\"\n",
    "    # TODO: Implement Function\n",
    "    weight = tf.Variable(tf.truncated_normal([x_tensor.get_shape().as_list()[1], num_outputs]))\n",
    "    bias = tf.Variable(tf.truncated_normal([num_outputs]))\n",
    "    conn = tf.add(tf.matmul(x_tensor, weight), bias)\n",
    "    return conn\n",
    "\n",
    "\n",
    "\"\"\"\n",
    "DON'T MODIFY ANYTHING IN THIS CELL THAT IS BELOW THIS LINE\n",
    "\"\"\"\n",
    "tests.test_output(output)"
   ]
  },
  {
   "cell_type": "markdown",
   "metadata": {
    "deletable": true,
    "editable": true
   },
   "source": [
    "### Create Convolutional Model\n",
    "Implement the function `conv_net` to create a convolutional neural network model. The function takes in a batch of images, `x`, and outputs logits.  Use the layers you created above to create this model:\n",
    "\n",
    "* Apply 1, 2, or 3 Convolution and Max Pool layers\n",
    "* Apply a Flatten Layer\n",
    "* Apply 1, 2, or 3 Fully Connected Layers\n",
    "* Apply an Output Layer\n",
    "* Return the output\n",
    "* Apply [TensorFlow's Dropout](https://www.tensorflow.org/api_docs/python/tf/nn/dropout) to one or more layers in the model using `keep_prob`. "
   ]
  },
  {
   "cell_type": "code",
   "execution_count": 122,
   "metadata": {
    "collapsed": false,
    "deletable": true,
    "editable": true
   },
   "outputs": [
    {
     "name": "stdout",
     "output_type": "stream",
     "text": [
      "Neural Network Built!\n"
     ]
    }
   ],
   "source": [
    "def conv_net(x, keep_prob):\n",
    "    \"\"\"\n",
    "    Create a convolutional neural network model\n",
    "    : x: Placeholder tensor that holds image data.\n",
    "    : keep_prob: Placeholder tensor that hold dropout keep probability.\n",
    "    : return: Tensor that represents logits\n",
    "    \"\"\"\n",
    "    # TODO: Apply 1, 2, or 3 Convolution and Max Pool layers\n",
    "    #    Play around with different number of outputs, kernel size and stride\n",
    "    # Function Definition from Above:\n",
    "    #    conv2d_maxpool(x_tensor, conv_num_outputs, conv_ksize, conv_strides, pool_ksize, pool_strides)\n",
    "    conn = conv2d_maxpool(x, 16, [2, 2], [2, 2], [2, 2], [2, 2])\n",
    "\n",
    "    # TODO: Apply a Flatten Layer\n",
    "    # Function Definition from Above:\n",
    "    #   flatten(x_tensor)\n",
    "    conn = flatten(conn)\n",
    "\n",
    "    # TODO: Apply 1, 2, or 3 Fully Connected Layers\n",
    "    #    Play around with different number of outputs\n",
    "    # Function Definition from Above:\n",
    "    #   fully_conn(x_tensor, num_outputs)\n",
    "    conn = fully_conn(conn, 24)\n",
    "    conn = tf.nn.dropout(conn, keep_prob)\n",
    "    conn = fully_conn(conn, 16)\n",
    "    \n",
    "    # TODO: Apply an Output Layer\n",
    "    #    Set this to the number of classes\n",
    "    # Function Definition from Above:\n",
    "    #   output(x_tensor, num_outputs)\n",
    "    conn = output(conn, 10)\n",
    "    \n",
    "    # TODO: return output\n",
    "    return conn\n",
    "\n",
    "\n",
    "\"\"\"\n",
    "DON'T MODIFY ANYTHING IN THIS CELL THAT IS BELOW THIS LINE\n",
    "\"\"\"\n",
    "\n",
    "##############################\n",
    "## Build the Neural Network ##\n",
    "##############################\n",
    "\n",
    "# Remove previous weights, bias, inputs, etc..\n",
    "tf.reset_default_graph()\n",
    "\n",
    "# Inputs\n",
    "x = neural_net_image_input((32, 32, 3))\n",
    "y = neural_net_label_input(10)\n",
    "keep_prob = neural_net_keep_prob_input()\n",
    "\n",
    "# Model\n",
    "logits = conv_net(x, keep_prob)\n",
    "\n",
    "# Name logits Tensor, so that is can be loaded from disk after training\n",
    "logits = tf.identity(logits, name='logits')\n",
    "\n",
    "# Loss and Optimizer\n",
    "cost = tf.reduce_mean(tf.nn.softmax_cross_entropy_with_logits(logits=logits, labels=y))\n",
    "optimizer = tf.train.AdamOptimizer().minimize(cost)\n",
    "\n",
    "# Accuracy\n",
    "correct_pred = tf.equal(tf.argmax(logits, 1), tf.argmax(y, 1))\n",
    "accuracy = tf.reduce_mean(tf.cast(correct_pred, tf.float32), name='accuracy')\n",
    "\n",
    "tests.test_conv_net(conv_net)"
   ]
  },
  {
   "cell_type": "markdown",
   "metadata": {
    "deletable": true,
    "editable": true
   },
   "source": [
    "## Train the Neural Network\n",
    "### Single Optimization\n",
    "Implement the function `train_neural_network` to do a single optimization.  The optimization should use `optimizer` to optimize in `session` with a `feed_dict` of the following:\n",
    "* `x` for image input\n",
    "* `y` for labels\n",
    "* `keep_prob` for keep probability for dropout\n",
    "\n",
    "This function will be called for each batch, so `tf.global_variables_initializer()` has already been called.\n",
    "\n",
    "Note: Nothing needs to be returned. This function is only optimizing the neural network."
   ]
  },
  {
   "cell_type": "code",
   "execution_count": 123,
   "metadata": {
    "collapsed": false,
    "deletable": true,
    "editable": true
   },
   "outputs": [
    {
     "name": "stdout",
     "output_type": "stream",
     "text": [
      "Tests Passed\n"
     ]
    }
   ],
   "source": [
    "def train_neural_network(session, optimizer, keep_probability, feature_batch, label_batch):\n",
    "    \"\"\"\n",
    "    Optimize the session on a batch of images and labels\n",
    "    : session: Current TensorFlow session\n",
    "    : optimizer: TensorFlow optimizer function\n",
    "    : keep_probability: keep probability\n",
    "    : feature_batch: Batch of Numpy image data\n",
    "    : label_batch: Batch of Numpy label data\n",
    "    \"\"\"\n",
    "    # TODO: Implement Function\n",
    "    session.run(optimizer, feed_dict={keep_prob:keep_probability, x:feature_batch, y:label_batch})\n",
    "\n",
    "\"\"\"\n",
    "DON'T MODIFY ANYTHING IN THIS CELL THAT IS BELOW THIS LINE\n",
    "\"\"\"\n",
    "tests.test_train_nn(train_neural_network)"
   ]
  },
  {
   "cell_type": "markdown",
   "metadata": {
    "deletable": true,
    "editable": true
   },
   "source": [
    "### Show Stats\n",
    "Implement the function `print_stats` to print loss and validation accuracy.  Use the global variables `valid_features` and `valid_labels` to calculate validation accuracy.  Use a keep probability of `1.0` to calculate the loss and validation accuracy."
   ]
  },
  {
   "cell_type": "code",
   "execution_count": 124,
   "metadata": {
    "collapsed": false,
    "deletable": true,
    "editable": true
   },
   "outputs": [],
   "source": [
    "def print_stats(session, feature_batch, label_batch, cost, accuracy):\n",
    "    \"\"\"\n",
    "    Print information about loss and validation accuracy\n",
    "    : session: Current TensorFlow session\n",
    "    : feature_batch: Batch of Numpy image data\n",
    "    : label_batch: Batch of Numpy label data\n",
    "    : cost: TensorFlow cost function\n",
    "    : accuracy: TensorFlow accuracy function\n",
    "    \"\"\"\n",
    "    # TODO: Implement Function\n",
    "    loss = session.run(cost, feed_dict={keep_prob:1.0, x:valid_features, y:valid_labels})\n",
    "    val_acc = session.run(accuracy, feed_dict={keep_prob:1.0, x:valid_features, y:valid_labels})\n",
    "    print('Cost : {}, accuracy : {}\\n'.format(loss, val_acc), end='')"
   ]
  },
  {
   "cell_type": "markdown",
   "metadata": {
    "deletable": true,
    "editable": true
   },
   "source": [
    "### Hyperparameters\n",
    "Tune the following parameters:\n",
    "* Set `epochs` to the number of iterations until the network stops learning or start overfitting\n",
    "* Set `batch_size` to the highest number that your machine has memory for.  Most people set them to common sizes of memory:\n",
    " * 64\n",
    " * 128\n",
    " * 256\n",
    " * ...\n",
    "* Set `keep_probability` to the probability of keeping a node using dropout"
   ]
  },
  {
   "cell_type": "code",
   "execution_count": 125,
   "metadata": {
    "collapsed": true,
    "deletable": true,
    "editable": true
   },
   "outputs": [],
   "source": [
    "# TODO: Tune Parameters\n",
    "epochs = 100\n",
    "batch_size = 256\n",
    "keep_probability = 0.8"
   ]
  },
  {
   "cell_type": "markdown",
   "metadata": {
    "deletable": true,
    "editable": true
   },
   "source": [
    "### Train on a Single CIFAR-10 Batch\n",
    "Instead of training the neural network on all the CIFAR-10 batches of data, let's use a single batch. This should save time while you iterate on the model to get a better accuracy.  Once the final validation accuracy is 50% or greater, run the model on all the data in the next section."
   ]
  },
  {
   "cell_type": "code",
   "execution_count": 126,
   "metadata": {
    "collapsed": false,
    "deletable": true,
    "editable": true
   },
   "outputs": [
    {
     "name": "stdout",
     "output_type": "stream",
     "text": [
      "Checking the Training on a Single Batch...\n",
      "Epoch  1, CIFAR-10 Batch 1:  Cost : 185.1486358642578, accuracy : 0.14219999313354492\n",
      "Epoch  2, CIFAR-10 Batch 1:  Cost : 141.69515991210938, accuracy : 0.14159999787807465\n",
      "Epoch  3, CIFAR-10 Batch 1:  Cost : 115.33613586425781, accuracy : 0.15559999644756317\n",
      "Epoch  4, CIFAR-10 Batch 1:  Cost : 97.80709075927734, accuracy : 0.16699998080730438\n",
      "Epoch  5, CIFAR-10 Batch 1:  Cost : 85.30502319335938, accuracy : 0.17479999363422394\n",
      "Epoch  6, CIFAR-10 Batch 1:  Cost : 74.75591278076172, accuracy : 0.1817999929189682\n",
      "Epoch  7, CIFAR-10 Batch 1:  Cost : 66.29339599609375, accuracy : 0.18939998745918274\n",
      "Epoch  8, CIFAR-10 Batch 1:  Cost : 59.44181442260742, accuracy : 0.19419999420642853\n",
      "Epoch  9, CIFAR-10 Batch 1:  Cost : 53.48260498046875, accuracy : 0.19539999961853027\n",
      "Epoch 10, CIFAR-10 Batch 1:  Cost : 48.467193603515625, accuracy : 0.20239999890327454\n",
      "Epoch 11, CIFAR-10 Batch 1:  Cost : 43.94818115234375, accuracy : 0.20740000903606415\n",
      "Epoch 12, CIFAR-10 Batch 1:  Cost : 40.17497253417969, accuracy : 0.21319998800754547\n",
      "Epoch 13, CIFAR-10 Batch 1:  Cost : 36.78913116455078, accuracy : 0.21359999477863312\n",
      "Epoch 14, CIFAR-10 Batch 1:  Cost : 33.93940353393555, accuracy : 0.21959999203681946\n",
      "Epoch 15, CIFAR-10 Batch 1:  Cost : 31.103059768676758, accuracy : 0.22299997508525848\n",
      "Epoch 16, CIFAR-10 Batch 1:  Cost : 28.582656860351562, accuracy : 0.22199998795986176\n",
      "Epoch 17, CIFAR-10 Batch 1:  Cost : 26.412044525146484, accuracy : 0.22519999742507935\n",
      "Epoch 18, CIFAR-10 Batch 1:  Cost : 24.338106155395508, accuracy : 0.22939999401569366\n",
      "Epoch 19, CIFAR-10 Batch 1:  Cost : 22.585693359375, accuracy : 0.23639997839927673\n",
      "Epoch 20, CIFAR-10 Batch 1:  Cost : 20.884431838989258, accuracy : 0.23399998247623444\n",
      "Epoch 21, CIFAR-10 Batch 1:  Cost : 19.290485382080078, accuracy : 0.23479999601840973\n",
      "Epoch 22, CIFAR-10 Batch 1:  Cost : 17.762989044189453, accuracy : 0.2370000034570694\n",
      "Epoch 23, CIFAR-10 Batch 1:  Cost : 16.256362915039062, accuracy : 0.2337999790906906\n",
      "Epoch 24, CIFAR-10 Batch 1:  Cost : 14.78429889678955, accuracy : 0.2287999987602234\n",
      "Epoch 25, CIFAR-10 Batch 1:  Cost : 13.202587127685547, accuracy : 0.22579999268054962\n",
      "Epoch 26, CIFAR-10 Batch 1:  Cost : 11.619083404541016, accuracy : 0.22619999945163727\n",
      "Epoch 27, CIFAR-10 Batch 1:  Cost : 10.319612503051758, accuracy : 0.23179998993873596\n",
      "Epoch 28, CIFAR-10 Batch 1:  Cost : 9.187077522277832, accuracy : 0.2295999825000763\n",
      "Epoch 29, CIFAR-10 Batch 1:  Cost : 8.22032356262207, accuracy : 0.23420000076293945\n",
      "Epoch 30, CIFAR-10 Batch 1:  Cost : 7.411747455596924, accuracy : 0.22939999401569366\n",
      "Epoch 31, CIFAR-10 Batch 1:  Cost : 6.729291915893555, accuracy : 0.22919999063014984\n",
      "Epoch 32, CIFAR-10 Batch 1:  Cost : 6.155660629272461, accuracy : 0.22380000352859497\n",
      "Epoch 33, CIFAR-10 Batch 1:  Cost : 5.667443752288818, accuracy : 0.22119995951652527\n",
      "Epoch 34, CIFAR-10 Batch 1:  Cost : 5.246596813201904, accuracy : 0.22599998116493225\n",
      "Epoch 35, CIFAR-10 Batch 1:  Cost : 4.888112545013428, accuracy : 0.22499997913837433\n",
      "Epoch 36, CIFAR-10 Batch 1:  Cost : 4.594183921813965, accuracy : 0.2272000014781952\n",
      "Epoch 37, CIFAR-10 Batch 1:  Cost : 4.3359694480896, accuracy : 0.22760000824928284\n",
      "Epoch 38, CIFAR-10 Batch 1:  Cost : 4.108701705932617, accuracy : 0.22439998388290405\n",
      "Epoch 39, CIFAR-10 Batch 1:  Cost : 3.8874974250793457, accuracy : 0.2125999927520752\n",
      "Epoch 40, CIFAR-10 Batch 1:  Cost : 3.6953072547912598, accuracy : 0.20959998667240143\n",
      "Epoch 41, CIFAR-10 Batch 1:  Cost : 3.5322046279907227, accuracy : 0.21359999477863312\n",
      "Epoch 42, CIFAR-10 Batch 1:  Cost : 3.3941307067871094, accuracy : 0.2141999900341034\n",
      "Epoch 43, CIFAR-10 Batch 1:  Cost : 3.264866352081299, accuracy : 0.21159999072551727\n",
      "Epoch 44, CIFAR-10 Batch 1:  Cost : 3.1663148403167725, accuracy : 0.2085999846458435\n",
      "Epoch 45, CIFAR-10 Batch 1:  Cost : 3.0731453895568848, accuracy : 0.21139998733997345\n",
      "Epoch 46, CIFAR-10 Batch 1:  Cost : 2.9936954975128174, accuracy : 0.2141999900341034\n",
      "Epoch 47, CIFAR-10 Batch 1:  Cost : 2.923027276992798, accuracy : 0.2199999988079071\n",
      "Epoch 48, CIFAR-10 Batch 1:  Cost : 2.8502418994903564, accuracy : 0.22220000624656677\n",
      "Epoch 49, CIFAR-10 Batch 1:  Cost : 2.7864246368408203, accuracy : 0.2279999852180481\n",
      "Epoch 50, CIFAR-10 Batch 1:  Cost : 2.72788405418396, accuracy : 0.23419997096061707\n",
      "Epoch 51, CIFAR-10 Batch 1:  Cost : 2.6803832054138184, accuracy : 0.23820000886917114\n",
      "Epoch 52, CIFAR-10 Batch 1:  Cost : 2.616072177886963, accuracy : 0.23899999260902405\n",
      "Epoch 53, CIFAR-10 Batch 1:  Cost : 2.5722768306732178, accuracy : 0.24120000004768372\n",
      "Epoch 54, CIFAR-10 Batch 1:  Cost : 2.535569667816162, accuracy : 0.24300000071525574\n",
      "Epoch 55, CIFAR-10 Batch 1:  Cost : 2.494915246963501, accuracy : 0.24819999933242798\n",
      "Epoch 56, CIFAR-10 Batch 1:  Cost : 2.4605937004089355, accuracy : 0.24679997563362122\n",
      "Epoch 57, CIFAR-10 Batch 1:  Cost : 2.430913209915161, accuracy : 0.24879999458789825\n",
      "Epoch 58, CIFAR-10 Batch 1:  Cost : 2.398613929748535, accuracy : 0.25279995799064636\n",
      "Epoch 59, CIFAR-10 Batch 1:  Cost : 2.374617576599121, accuracy : 0.25199997425079346\n",
      "Epoch 60, CIFAR-10 Batch 1:  Cost : 2.345679759979248, accuracy : 0.259399950504303\n",
      "Epoch 61, CIFAR-10 Batch 1:  Cost : 2.327979803085327, accuracy : 0.25939998030662537\n",
      "Epoch 62, CIFAR-10 Batch 1:  Cost : 2.3129916191101074, accuracy : 0.2565999925136566\n",
      "Epoch 63, CIFAR-10 Batch 1:  Cost : 2.2842955589294434, accuracy : 0.2667999863624573\n",
      "Epoch 64, CIFAR-10 Batch 1:  Cost : 2.272650718688965, accuracy : 0.26479995250701904\n",
      "Epoch 65, CIFAR-10 Batch 1:  Cost : 2.246445894241333, accuracy : 0.27319997549057007\n",
      "Epoch 66, CIFAR-10 Batch 1:  Cost : 2.237097978591919, accuracy : 0.2717999815940857\n",
      "Epoch 67, CIFAR-10 Batch 1:  Cost : 2.21893310546875, accuracy : 0.2741999924182892\n",
      "Epoch 68, CIFAR-10 Batch 1:  Cost : 2.2092692852020264, accuracy : 0.27319997549057007\n",
      "Epoch 69, CIFAR-10 Batch 1:  Cost : 2.1995325088500977, accuracy : 0.2696000039577484\n",
      "Epoch 70, CIFAR-10 Batch 1:  Cost : 2.181379556655884, accuracy : 0.27699998021125793\n",
      "Epoch 71, CIFAR-10 Batch 1:  Cost : 2.179551362991333, accuracy : 0.2671999931335449\n",
      "Epoch 72, CIFAR-10 Batch 1:  Cost : 2.165146827697754, accuracy : 0.27320000529289246\n",
      "Epoch 73, CIFAR-10 Batch 1:  Cost : 2.1564781665802, accuracy : 0.27480000257492065\n",
      "Epoch 74, CIFAR-10 Batch 1:  Cost : 2.147151470184326, accuracy : 0.27300000190734863\n",
      "Epoch 75, CIFAR-10 Batch 1:  Cost : 2.150864362716675, accuracy : 0.2691999673843384\n",
      "Epoch 76, CIFAR-10 Batch 1:  Cost : 2.1225595474243164, accuracy : 0.2815999686717987\n",
      "Epoch 77, CIFAR-10 Batch 1:  Cost : 2.115696907043457, accuracy : 0.28199997544288635\n",
      "Epoch 78, CIFAR-10 Batch 1:  Cost : 2.111919641494751, accuracy : 0.27719998359680176\n",
      "Epoch 79, CIFAR-10 Batch 1:  Cost : 2.0996344089508057, accuracy : 0.2833999991416931\n",
      "Epoch 80, CIFAR-10 Batch 1:  Cost : 2.0952446460723877, accuracy : 0.2793999910354614\n",
      "Epoch 81, CIFAR-10 Batch 1:  Cost : 2.0977962017059326, accuracy : 0.2797999978065491\n",
      "Epoch 82, CIFAR-10 Batch 1:  Cost : 2.0833182334899902, accuracy : 0.2802000045776367\n",
      "Epoch 83, CIFAR-10 Batch 1:  Cost : 2.0794761180877686, accuracy : 0.28019997477531433\n",
      "Epoch 84, CIFAR-10 Batch 1:  Cost : 2.072279930114746, accuracy : 0.2815999984741211\n",
      "Epoch 85, CIFAR-10 Batch 1:  Cost : 2.0639126300811768, accuracy : 0.28619998693466187\n",
      "Epoch 86, CIFAR-10 Batch 1:  Cost : 2.0635170936584473, accuracy : 0.2837999761104584\n",
      "Epoch 87, CIFAR-10 Batch 1:  Cost : 2.065337657928467, accuracy : 0.2809999883174896\n",
      "Epoch 88, CIFAR-10 Batch 1:  Cost : 2.0508012771606445, accuracy : 0.28780001401901245\n",
      "Epoch 89, CIFAR-10 Batch 1:  Cost : 2.052501678466797, accuracy : 0.2833999991416931\n",
      "Epoch 90, CIFAR-10 Batch 1:  Cost : 2.0353779792785645, accuracy : 0.2937999963760376\n",
      "Epoch 91, CIFAR-10 Batch 1:  Cost : 2.0412707328796387, accuracy : 0.2825999855995178\n",
      "Epoch 92, CIFAR-10 Batch 1:  Cost : 2.027050256729126, accuracy : 0.2937999963760376\n",
      "Epoch 93, CIFAR-10 Batch 1:  Cost : 2.0345144271850586, accuracy : 0.2855999767780304\n",
      "Epoch 94, CIFAR-10 Batch 1:  Cost : 2.0229902267456055, accuracy : 0.29339998960494995\n",
      "Epoch 95, CIFAR-10 Batch 1:  Cost : 2.014688014984131, accuracy : 0.29899999499320984\n",
      "Epoch 96, CIFAR-10 Batch 1:  Cost : 2.0125370025634766, accuracy : 0.29739999771118164\n",
      "Epoch 97, CIFAR-10 Batch 1:  Cost : 2.012967348098755, accuracy : 0.29579997062683105\n",
      "Epoch 98, CIFAR-10 Batch 1:  Cost : 2.0151925086975098, accuracy : 0.2905999720096588\n",
      "Epoch 99, CIFAR-10 Batch 1:  Cost : 2.002981662750244, accuracy : 0.30159997940063477\n",
      "Epoch 100, CIFAR-10 Batch 1:  Cost : 2.009028196334839, accuracy : 0.2927999794483185\n"
     ]
    }
   ],
   "source": [
    "\"\"\"\n",
    "DON'T MODIFY ANYTHING IN THIS CELL\n",
    "\"\"\"\n",
    "print('Checking the Training on a Single Batch...')\n",
    "with tf.Session() as sess:\n",
    "    # Initializing the variables\n",
    "    sess.run(tf.global_variables_initializer())\n",
    "    \n",
    "    # Training cycle\n",
    "    for epoch in range(epochs):\n",
    "        batch_i = 1\n",
    "        for batch_features, batch_labels in helper.load_preprocess_training_batch(batch_i, batch_size):\n",
    "            train_neural_network(sess, optimizer, keep_probability, batch_features, batch_labels)\n",
    "        print('Epoch {:>2}, CIFAR-10 Batch {}:  '.format(epoch + 1, batch_i), end='')\n",
    "        print_stats(sess, batch_features, batch_labels, cost, accuracy)"
   ]
  },
  {
   "cell_type": "markdown",
   "metadata": {
    "deletable": true,
    "editable": true
   },
   "source": [
    "### Fully Train the Model\n",
    "Now that you got a good accuracy with a single CIFAR-10 batch, try it with all five batches."
   ]
  },
  {
   "cell_type": "code",
   "execution_count": 127,
   "metadata": {
    "collapsed": false,
    "deletable": true,
    "editable": true
   },
   "outputs": [
    {
     "name": "stdout",
     "output_type": "stream",
     "text": [
      "Training...\n",
      "Epoch  1, CIFAR-10 Batch 1:  Cost : 232.34083557128906, accuracy : 0.09199998527765274\n",
      "Epoch  1, CIFAR-10 Batch 2:  Cost : 189.7938690185547, accuracy : 0.10279999673366547\n",
      "Epoch  1, CIFAR-10 Batch 3:  Cost : 160.94534301757812, accuracy : 0.10459999740123749\n",
      "Epoch  1, CIFAR-10 Batch 4:  Cost : 138.22686767578125, accuracy : 0.11039999127388\n",
      "Epoch  1, CIFAR-10 Batch 5:  Cost : 119.68500518798828, accuracy : 0.11739999055862427\n",
      "Epoch  2, CIFAR-10 Batch 1:  Cost : 104.79439544677734, accuracy : 0.1273999810218811\n",
      "Epoch  2, CIFAR-10 Batch 2:  Cost : 91.35098266601562, accuracy : 0.13419999182224274\n",
      "Epoch  2, CIFAR-10 Batch 3:  Cost : 81.71125793457031, accuracy : 0.14180000126361847\n",
      "Epoch  2, CIFAR-10 Batch 4:  Cost : 72.61223602294922, accuracy : 0.14959999918937683\n",
      "Epoch  2, CIFAR-10 Batch 5:  Cost : 65.10286712646484, accuracy : 0.1557999849319458\n",
      "Epoch  3, CIFAR-10 Batch 1:  Cost : 58.92121124267578, accuracy : 0.16559998691082\n",
      "Epoch  3, CIFAR-10 Batch 2:  Cost : 53.19499206542969, accuracy : 0.17159999907016754\n",
      "Epoch  3, CIFAR-10 Batch 3:  Cost : 48.8258171081543, accuracy : 0.1767999827861786\n",
      "Epoch  3, CIFAR-10 Batch 4:  Cost : 44.20831298828125, accuracy : 0.18319997191429138\n",
      "Epoch  3, CIFAR-10 Batch 5:  Cost : 40.3949089050293, accuracy : 0.19359999895095825\n",
      "Epoch  4, CIFAR-10 Batch 1:  Cost : 36.846763610839844, accuracy : 0.1995999813079834\n",
      "Epoch  4, CIFAR-10 Batch 2:  Cost : 33.855247497558594, accuracy : 0.19979998469352722\n",
      "Epoch  4, CIFAR-10 Batch 3:  Cost : 31.264991760253906, accuracy : 0.2061999887228012\n",
      "Epoch  4, CIFAR-10 Batch 4:  Cost : 28.630481719970703, accuracy : 0.20899999141693115\n",
      "Epoch  4, CIFAR-10 Batch 5:  Cost : 26.566593170166016, accuracy : 0.2141999900341034\n",
      "Epoch  5, CIFAR-10 Batch 1:  Cost : 24.478818893432617, accuracy : 0.21859997510910034\n",
      "Epoch  5, CIFAR-10 Batch 2:  Cost : 22.64251708984375, accuracy : 0.2239999771118164\n",
      "Epoch  5, CIFAR-10 Batch 3:  Cost : 21.027265548706055, accuracy : 0.2295999825000763\n",
      "Epoch  5, CIFAR-10 Batch 4:  Cost : 19.435483932495117, accuracy : 0.23399996757507324\n",
      "Epoch  5, CIFAR-10 Batch 5:  Cost : 18.01177406311035, accuracy : 0.24139998853206635\n",
      "Epoch  6, CIFAR-10 Batch 1:  Cost : 16.730276107788086, accuracy : 0.24859999120235443\n",
      "Epoch  6, CIFAR-10 Batch 2:  Cost : 15.51226806640625, accuracy : 0.2483999878168106\n",
      "Epoch  6, CIFAR-10 Batch 3:  Cost : 14.487632751464844, accuracy : 0.251800000667572\n",
      "Epoch  6, CIFAR-10 Batch 4:  Cost : 13.470802307128906, accuracy : 0.2513999938964844\n",
      "Epoch  6, CIFAR-10 Batch 5:  Cost : 12.563118934631348, accuracy : 0.25779998302459717\n",
      "Epoch  7, CIFAR-10 Batch 1:  Cost : 11.651573181152344, accuracy : 0.2621999979019165\n",
      "Epoch  7, CIFAR-10 Batch 2:  Cost : 10.804882049560547, accuracy : 0.2627999782562256\n",
      "Epoch  7, CIFAR-10 Batch 3:  Cost : 10.01914119720459, accuracy : 0.26420000195503235\n",
      "Epoch  7, CIFAR-10 Batch 4:  Cost : 9.287405014038086, accuracy : 0.265999972820282\n",
      "Epoch  7, CIFAR-10 Batch 5:  Cost : 8.483335494995117, accuracy : 0.27199995517730713\n",
      "Epoch  8, CIFAR-10 Batch 1:  Cost : 7.824556350708008, accuracy : 0.27300000190734863\n",
      "Epoch  8, CIFAR-10 Batch 2:  Cost : 7.220476150512695, accuracy : 0.26980000734329224\n",
      "Epoch  8, CIFAR-10 Batch 3:  Cost : 6.706660270690918, accuracy : 0.2727999985218048\n",
      "Epoch  8, CIFAR-10 Batch 4:  Cost : 6.24420166015625, accuracy : 0.27319997549057007\n",
      "Epoch  8, CIFAR-10 Batch 5:  Cost : 5.819278717041016, accuracy : 0.27559998631477356\n",
      "Epoch  9, CIFAR-10 Batch 1:  Cost : 5.405837059020996, accuracy : 0.2719999849796295\n",
      "Epoch  9, CIFAR-10 Batch 2:  Cost : 5.035192012786865, accuracy : 0.2717999815940857\n",
      "Epoch  9, CIFAR-10 Batch 3:  Cost : 4.735217571258545, accuracy : 0.27319997549057007\n",
      "Epoch  9, CIFAR-10 Batch 4:  Cost : 4.454036235809326, accuracy : 0.26999998092651367\n",
      "Epoch  9, CIFAR-10 Batch 5:  Cost : 4.184447765350342, accuracy : 0.26819998025894165\n",
      "Epoch 10, CIFAR-10 Batch 1:  Cost : 3.9448764324188232, accuracy : 0.2669999599456787\n",
      "Epoch 10, CIFAR-10 Batch 2:  Cost : 3.7311625480651855, accuracy : 0.26579999923706055\n",
      "Epoch 10, CIFAR-10 Batch 3:  Cost : 3.5471909046173096, accuracy : 0.26579999923706055\n",
      "Epoch 10, CIFAR-10 Batch 4:  Cost : 3.3672468662261963, accuracy : 0.2662000060081482\n",
      "Epoch 10, CIFAR-10 Batch 5:  Cost : 3.207080364227295, accuracy : 0.2685999870300293\n",
      "Epoch 11, CIFAR-10 Batch 1:  Cost : 3.0538201332092285, accuracy : 0.26419997215270996\n",
      "Epoch 11, CIFAR-10 Batch 2:  Cost : 2.9191925525665283, accuracy : 0.2709999978542328\n",
      "Epoch 11, CIFAR-10 Batch 3:  Cost : 2.798750162124634, accuracy : 0.27079999446868896\n",
      "Epoch 11, CIFAR-10 Batch 4:  Cost : 2.6934452056884766, accuracy : 0.26979997754096985\n",
      "Epoch 11, CIFAR-10 Batch 5:  Cost : 2.6033782958984375, accuracy : 0.26659998297691345\n",
      "Epoch 12, CIFAR-10 Batch 1:  Cost : 2.524273157119751, accuracy : 0.26419997215270996\n",
      "Epoch 12, CIFAR-10 Batch 2:  Cost : 2.4525768756866455, accuracy : 0.26479998230934143\n",
      "Epoch 12, CIFAR-10 Batch 3:  Cost : 2.395019292831421, accuracy : 0.2651999890804291\n",
      "Epoch 12, CIFAR-10 Batch 4:  Cost : 2.3419382572174072, accuracy : 0.2683999836444855\n",
      "Epoch 12, CIFAR-10 Batch 5:  Cost : 2.2930543422698975, accuracy : 0.2717999815940857\n",
      "Epoch 13, CIFAR-10 Batch 1:  Cost : 2.2520713806152344, accuracy : 0.26899996399879456\n",
      "Epoch 13, CIFAR-10 Batch 2:  Cost : 2.2131197452545166, accuracy : 0.27699995040893555\n",
      "Epoch 13, CIFAR-10 Batch 3:  Cost : 2.1813859939575195, accuracy : 0.27879998087882996\n",
      "Epoch 13, CIFAR-10 Batch 4:  Cost : 2.1504290103912354, accuracy : 0.2807999849319458\n",
      "Epoch 13, CIFAR-10 Batch 5:  Cost : 2.1221940517425537, accuracy : 0.28039997816085815\n",
      "Epoch 14, CIFAR-10 Batch 1:  Cost : 2.0973918437957764, accuracy : 0.2809999883174896\n",
      "Epoch 14, CIFAR-10 Batch 2:  Cost : 2.0727856159210205, accuracy : 0.2865999937057495\n",
      "Epoch 14, CIFAR-10 Batch 3:  Cost : 2.0558736324310303, accuracy : 0.28759998083114624\n",
      "Epoch 14, CIFAR-10 Batch 4:  Cost : 2.037576675415039, accuracy : 0.29179999232292175\n",
      "Epoch 14, CIFAR-10 Batch 5:  Cost : 2.0219314098358154, accuracy : 0.29100000858306885\n",
      "Epoch 15, CIFAR-10 Batch 1:  Cost : 2.0071535110473633, accuracy : 0.292199969291687\n",
      "Epoch 15, CIFAR-10 Batch 2:  Cost : 1.9905920028686523, accuracy : 0.301800012588501\n",
      "Epoch 15, CIFAR-10 Batch 3:  Cost : 1.9794667959213257, accuracy : 0.3041999936103821\n",
      "Epoch 15, CIFAR-10 Batch 4:  Cost : 1.9694700241088867, accuracy : 0.2994000017642975\n",
      "Epoch 15, CIFAR-10 Batch 5:  Cost : 1.9571315050125122, accuracy : 0.3025999665260315\n",
      "Epoch 16, CIFAR-10 Batch 1:  Cost : 1.9479761123657227, accuracy : 0.30159997940063477\n",
      "Epoch 16, CIFAR-10 Batch 2:  Cost : 1.9356869459152222, accuracy : 0.3117999732494354\n",
      "Epoch 16, CIFAR-10 Batch 3:  Cost : 1.9267017841339111, accuracy : 0.3131999969482422\n",
      "Epoch 16, CIFAR-10 Batch 4:  Cost : 1.9166452884674072, accuracy : 0.3141999840736389\n",
      "Epoch 16, CIFAR-10 Batch 5:  Cost : 1.9099884033203125, accuracy : 0.3141999840736389\n",
      "Epoch 17, CIFAR-10 Batch 1:  Cost : 1.9017536640167236, accuracy : 0.314799964427948\n",
      "Epoch 17, CIFAR-10 Batch 2:  Cost : 1.8944127559661865, accuracy : 0.32079997658729553\n",
      "Epoch 17, CIFAR-10 Batch 3:  Cost : 1.8876315355300903, accuracy : 0.32799994945526123\n",
      "Epoch 17, CIFAR-10 Batch 4:  Cost : 1.8794018030166626, accuracy : 0.32340002059936523\n",
      "Epoch 17, CIFAR-10 Batch 5:  Cost : 1.8745096921920776, accuracy : 0.3251999616622925\n",
      "Epoch 18, CIFAR-10 Batch 1:  Cost : 1.8671928644180298, accuracy : 0.33059999346733093\n",
      "Epoch 18, CIFAR-10 Batch 2:  Cost : 1.8601100444793701, accuracy : 0.3325999677181244\n",
      "Epoch 18, CIFAR-10 Batch 3:  Cost : 1.854239583015442, accuracy : 0.3343999683856964\n",
      "Epoch 18, CIFAR-10 Batch 4:  Cost : 1.8484885692596436, accuracy : 0.3349999785423279\n",
      "Epoch 18, CIFAR-10 Batch 5:  Cost : 1.8454554080963135, accuracy : 0.3333999812602997\n",
      "Epoch 19, CIFAR-10 Batch 1:  Cost : 1.8374824523925781, accuracy : 0.3393999934196472\n",
      "Epoch 19, CIFAR-10 Batch 2:  Cost : 1.8320716619491577, accuracy : 0.34199997782707214\n",
      "Epoch 19, CIFAR-10 Batch 3:  Cost : 1.8277256488800049, accuracy : 0.3471999764442444\n",
      "Epoch 19, CIFAR-10 Batch 4:  Cost : 1.8205538988113403, accuracy : 0.3442000150680542\n",
      "Epoch 19, CIFAR-10 Batch 5:  Cost : 1.8185311555862427, accuracy : 0.34460002183914185\n",
      "Epoch 20, CIFAR-10 Batch 1:  Cost : 1.812004566192627, accuracy : 0.3460000157356262\n",
      "Epoch 20, CIFAR-10 Batch 2:  Cost : 1.8067015409469604, accuracy : 0.3539999723434448\n",
      "Epoch 20, CIFAR-10 Batch 3:  Cost : 1.8033443689346313, accuracy : 0.36159998178482056\n",
      "Epoch 20, CIFAR-10 Batch 4:  Cost : 1.795484185218811, accuracy : 0.3561999797821045\n",
      "Epoch 20, CIFAR-10 Batch 5:  Cost : 1.7957261800765991, accuracy : 0.3507999777793884\n",
      "Epoch 21, CIFAR-10 Batch 1:  Cost : 1.7918614149093628, accuracy : 0.3530000150203705\n",
      "Epoch 21, CIFAR-10 Batch 2:  Cost : 1.787045955657959, accuracy : 0.35920000076293945\n",
      "Epoch 21, CIFAR-10 Batch 3:  Cost : 1.7813854217529297, accuracy : 0.36539995670318604\n",
      "Epoch 21, CIFAR-10 Batch 4:  Cost : 1.7751489877700806, accuracy : 0.36419999599456787\n",
      "Epoch 21, CIFAR-10 Batch 5:  Cost : 1.7744781970977783, accuracy : 0.3611999750137329\n",
      "Epoch 22, CIFAR-10 Batch 1:  Cost : 1.7724052667617798, accuracy : 0.35819995403289795\n",
      "Epoch 22, CIFAR-10 Batch 2:  Cost : 1.7688195705413818, accuracy : 0.36399999260902405\n",
      "Epoch 22, CIFAR-10 Batch 3:  Cost : 1.7635154724121094, accuracy : 0.3693999648094177\n",
      "Epoch 22, CIFAR-10 Batch 4:  Cost : 1.7568203210830688, accuracy : 0.37220001220703125\n",
      "Epoch 22, CIFAR-10 Batch 5:  Cost : 1.7572448253631592, accuracy : 0.37139996886253357\n",
      "Epoch 23, CIFAR-10 Batch 1:  Cost : 1.7550897598266602, accuracy : 0.3717999756336212\n",
      "Epoch 23, CIFAR-10 Batch 2:  Cost : 1.7499263286590576, accuracy : 0.37040001153945923\n",
      "Epoch 23, CIFAR-10 Batch 3:  Cost : 1.7477097511291504, accuracy : 0.3725999593734741\n",
      "Epoch 23, CIFAR-10 Batch 4:  Cost : 1.7391284704208374, accuracy : 0.37379997968673706\n",
      "Epoch 23, CIFAR-10 Batch 5:  Cost : 1.7434182167053223, accuracy : 0.36959999799728394\n",
      "Epoch 24, CIFAR-10 Batch 1:  Cost : 1.736855387687683, accuracy : 0.3741999864578247\n",
      "Epoch 24, CIFAR-10 Batch 2:  Cost : 1.7350631952285767, accuracy : 0.3787999749183655\n",
      "Epoch 24, CIFAR-10 Batch 3:  Cost : 1.7307660579681396, accuracy : 0.38199999928474426\n",
      "Epoch 24, CIFAR-10 Batch 4:  Cost : 1.7247917652130127, accuracy : 0.3824000060558319\n",
      "Epoch 24, CIFAR-10 Batch 5:  Cost : 1.7250198125839233, accuracy : 0.3758000135421753\n",
      "Epoch 25, CIFAR-10 Batch 1:  Cost : 1.7222753763198853, accuracy : 0.3803999722003937\n",
      "Epoch 25, CIFAR-10 Batch 2:  Cost : 1.7200320959091187, accuracy : 0.3885999917984009\n",
      "Epoch 25, CIFAR-10 Batch 3:  Cost : 1.7146979570388794, accuracy : 0.3885999619960785\n",
      "Epoch 25, CIFAR-10 Batch 4:  Cost : 1.7107125520706177, accuracy : 0.39079999923706055\n",
      "Epoch 25, CIFAR-10 Batch 5:  Cost : 1.7143197059631348, accuracy : 0.37519997358322144\n",
      "Epoch 26, CIFAR-10 Batch 1:  Cost : 1.7070956230163574, accuracy : 0.3845999836921692\n",
      "Epoch 26, CIFAR-10 Batch 2:  Cost : 1.7045681476593018, accuracy : 0.3915999233722687\n",
      "Epoch 26, CIFAR-10 Batch 3:  Cost : 1.6994775533676147, accuracy : 0.3885999619960785\n",
      "Epoch 26, CIFAR-10 Batch 4:  Cost : 1.6940841674804688, accuracy : 0.39160001277923584\n",
      "Epoch 26, CIFAR-10 Batch 5:  Cost : 1.6932109594345093, accuracy : 0.3855999708175659\n",
      "Epoch 27, CIFAR-10 Batch 1:  Cost : 1.7011330127716064, accuracy : 0.3861999809741974\n",
      "Epoch 27, CIFAR-10 Batch 2:  Cost : 1.687459945678711, accuracy : 0.3959999680519104\n",
      "Epoch 27, CIFAR-10 Batch 3:  Cost : 1.682810664176941, accuracy : 0.3941999673843384\n",
      "Epoch 27, CIFAR-10 Batch 4:  Cost : 1.6773771047592163, accuracy : 0.3962000012397766\n",
      "Epoch 27, CIFAR-10 Batch 5:  Cost : 1.6761260032653809, accuracy : 0.3933999538421631\n",
      "Epoch 28, CIFAR-10 Batch 1:  Cost : 1.678491473197937, accuracy : 0.39899998903274536\n",
      "Epoch 28, CIFAR-10 Batch 2:  Cost : 1.6743979454040527, accuracy : 0.39399999380111694\n",
      "Epoch 28, CIFAR-10 Batch 3:  Cost : 1.6659232378005981, accuracy : 0.40279996395111084\n",
      "Epoch 28, CIFAR-10 Batch 4:  Cost : 1.6577986478805542, accuracy : 0.40219998359680176\n",
      "Epoch 28, CIFAR-10 Batch 5:  Cost : 1.6603455543518066, accuracy : 0.3954000174999237\n",
      "Epoch 29, CIFAR-10 Batch 1:  Cost : 1.6616156101226807, accuracy : 0.4031999707221985\n",
      "Epoch 29, CIFAR-10 Batch 2:  Cost : 1.6564172506332397, accuracy : 0.4000000059604645\n",
      "Epoch 29, CIFAR-10 Batch 3:  Cost : 1.648378849029541, accuracy : 0.4106000065803528\n",
      "Epoch 29, CIFAR-10 Batch 4:  Cost : 1.6437711715698242, accuracy : 0.40059998631477356\n",
      "Epoch 29, CIFAR-10 Batch 5:  Cost : 1.6431894302368164, accuracy : 0.40359997749328613\n",
      "Epoch 30, CIFAR-10 Batch 1:  Cost : 1.6475874185562134, accuracy : 0.4065999686717987\n",
      "Epoch 30, CIFAR-10 Batch 2:  Cost : 1.643303632736206, accuracy : 0.4089999794960022\n",
      "Epoch 30, CIFAR-10 Batch 3:  Cost : 1.6347566843032837, accuracy : 0.4115999639034271\n",
      "Epoch 30, CIFAR-10 Batch 4:  Cost : 1.6321696043014526, accuracy : 0.4057999849319458\n",
      "Epoch 30, CIFAR-10 Batch 5:  Cost : 1.628071665763855, accuracy : 0.41579997539520264\n",
      "Epoch 31, CIFAR-10 Batch 1:  Cost : 1.6363306045532227, accuracy : 0.4115999639034271\n",
      "Epoch 31, CIFAR-10 Batch 2:  Cost : 1.6290377378463745, accuracy : 0.4147999584674835\n",
      "Epoch 31, CIFAR-10 Batch 3:  Cost : 1.6259307861328125, accuracy : 0.41579997539520264\n",
      "Epoch 31, CIFAR-10 Batch 4:  Cost : 1.6173685789108276, accuracy : 0.4134000241756439\n",
      "Epoch 31, CIFAR-10 Batch 5:  Cost : 1.6134415864944458, accuracy : 0.4219999611377716\n",
      "Epoch 32, CIFAR-10 Batch 1:  Cost : 1.6170188188552856, accuracy : 0.4203999638557434\n",
      "Epoch 32, CIFAR-10 Batch 2:  Cost : 1.6124368906021118, accuracy : 0.42339998483657837\n",
      "Epoch 32, CIFAR-10 Batch 3:  Cost : 1.612815260887146, accuracy : 0.4262000024318695\n",
      "Epoch 32, CIFAR-10 Batch 4:  Cost : 1.607564926147461, accuracy : 0.4203999638557434\n",
      "Epoch 32, CIFAR-10 Batch 5:  Cost : 1.5980461835861206, accuracy : 0.4275999665260315\n",
      "Epoch 33, CIFAR-10 Batch 1:  Cost : 1.6099029779434204, accuracy : 0.42559996247291565\n",
      "Epoch 33, CIFAR-10 Batch 2:  Cost : 1.6018643379211426, accuracy : 0.4285999536514282\n",
      "Epoch 33, CIFAR-10 Batch 3:  Cost : 1.5986049175262451, accuracy : 0.42799997329711914\n",
      "Epoch 33, CIFAR-10 Batch 4:  Cost : 1.5918338298797607, accuracy : 0.4299999475479126\n",
      "Epoch 33, CIFAR-10 Batch 5:  Cost : 1.5892133712768555, accuracy : 0.42739999294281006\n",
      "Epoch 34, CIFAR-10 Batch 1:  Cost : 1.5924888849258423, accuracy : 0.43379998207092285\n",
      "Epoch 34, CIFAR-10 Batch 2:  Cost : 1.589428186416626, accuracy : 0.43199995160102844\n",
      "Epoch 34, CIFAR-10 Batch 3:  Cost : 1.586664080619812, accuracy : 0.43459993600845337\n",
      "Epoch 34, CIFAR-10 Batch 4:  Cost : 1.5850067138671875, accuracy : 0.42739996314048767\n",
      "Epoch 34, CIFAR-10 Batch 5:  Cost : 1.5770407915115356, accuracy : 0.437999963760376\n",
      "Epoch 35, CIFAR-10 Batch 1:  Cost : 1.5818469524383545, accuracy : 0.4371999502182007\n",
      "Epoch 35, CIFAR-10 Batch 2:  Cost : 1.5766435861587524, accuracy : 0.43799999356269836\n",
      "Epoch 35, CIFAR-10 Batch 3:  Cost : 1.5762873888015747, accuracy : 0.43759995698928833\n",
      "Epoch 35, CIFAR-10 Batch 4:  Cost : 1.5711994171142578, accuracy : 0.4355999529361725\n",
      "Epoch 35, CIFAR-10 Batch 5:  Cost : 1.5647953748703003, accuracy : 0.4367999732494354\n",
      "Epoch 36, CIFAR-10 Batch 1:  Cost : 1.5776848793029785, accuracy : 0.4343999922275543\n",
      "Epoch 36, CIFAR-10 Batch 2:  Cost : 1.5644042491912842, accuracy : 0.44479992985725403\n",
      "Epoch 36, CIFAR-10 Batch 3:  Cost : 1.5646792650222778, accuracy : 0.43799999356269836\n",
      "Epoch 36, CIFAR-10 Batch 4:  Cost : 1.5634911060333252, accuracy : 0.4407999515533447\n",
      "Epoch 36, CIFAR-10 Batch 5:  Cost : 1.5553261041641235, accuracy : 0.439799964427948\n",
      "Epoch 37, CIFAR-10 Batch 1:  Cost : 1.558319330215454, accuracy : 0.444599986076355\n",
      "Epoch 37, CIFAR-10 Batch 2:  Cost : 1.5529131889343262, accuracy : 0.4453999698162079\n",
      "Epoch 37, CIFAR-10 Batch 3:  Cost : 1.5598244667053223, accuracy : 0.44739997386932373\n",
      "Epoch 37, CIFAR-10 Batch 4:  Cost : 1.5518296957015991, accuracy : 0.44259998202323914\n",
      "Epoch 37, CIFAR-10 Batch 5:  Cost : 1.542244553565979, accuracy : 0.448199987411499\n",
      "Epoch 38, CIFAR-10 Batch 1:  Cost : 1.5578919649124146, accuracy : 0.4426000118255615\n",
      "Epoch 38, CIFAR-10 Batch 2:  Cost : 1.5409841537475586, accuracy : 0.4533999562263489\n",
      "Epoch 38, CIFAR-10 Batch 3:  Cost : 1.54441499710083, accuracy : 0.4509999752044678\n",
      "Epoch 38, CIFAR-10 Batch 4:  Cost : 1.5420082807540894, accuracy : 0.44839999079704285\n",
      "Epoch 38, CIFAR-10 Batch 5:  Cost : 1.5313758850097656, accuracy : 0.4525999426841736\n",
      "Epoch 39, CIFAR-10 Batch 1:  Cost : 1.5378310680389404, accuracy : 0.45299994945526123\n",
      "Epoch 39, CIFAR-10 Batch 2:  Cost : 1.5331339836120605, accuracy : 0.45319998264312744\n",
      "Epoch 39, CIFAR-10 Batch 3:  Cost : 1.5339000225067139, accuracy : 0.45159998536109924\n",
      "Epoch 39, CIFAR-10 Batch 4:  Cost : 1.5292078256607056, accuracy : 0.4533999562263489\n",
      "Epoch 39, CIFAR-10 Batch 5:  Cost : 1.5239942073822021, accuracy : 0.4541999101638794\n",
      "Epoch 40, CIFAR-10 Batch 1:  Cost : 1.5321557521820068, accuracy : 0.4533999264240265\n",
      "Epoch 40, CIFAR-10 Batch 2:  Cost : 1.5216073989868164, accuracy : 0.4559999704360962\n",
      "Epoch 40, CIFAR-10 Batch 3:  Cost : 1.5286123752593994, accuracy : 0.45739996433258057\n",
      "Epoch 40, CIFAR-10 Batch 4:  Cost : 1.523280143737793, accuracy : 0.4549999237060547\n",
      "Epoch 40, CIFAR-10 Batch 5:  Cost : 1.5153205394744873, accuracy : 0.46140000224113464\n",
      "Epoch 41, CIFAR-10 Batch 1:  Cost : 1.5201337337493896, accuracy : 0.45719996094703674\n",
      "Epoch 41, CIFAR-10 Batch 2:  Cost : 1.5109442472457886, accuracy : 0.4580000042915344\n",
      "Epoch 41, CIFAR-10 Batch 3:  Cost : 1.518872857093811, accuracy : 0.4551999568939209\n",
      "Epoch 41, CIFAR-10 Batch 4:  Cost : 1.5117127895355225, accuracy : 0.4569999575614929\n",
      "Epoch 41, CIFAR-10 Batch 5:  Cost : 1.5023010969161987, accuracy : 0.46459996700286865\n",
      "Epoch 42, CIFAR-10 Batch 1:  Cost : 1.5099245309829712, accuracy : 0.45959997177124023\n",
      "Epoch 42, CIFAR-10 Batch 2:  Cost : 1.5030438899993896, accuracy : 0.4667999744415283\n",
      "Epoch 42, CIFAR-10 Batch 3:  Cost : 1.5078608989715576, accuracy : 0.46059995889663696\n",
      "Epoch 42, CIFAR-10 Batch 4:  Cost : 1.5061564445495605, accuracy : 0.460999995470047\n",
      "Epoch 42, CIFAR-10 Batch 5:  Cost : 1.4977467060089111, accuracy : 0.46160000562667847\n",
      "Epoch 43, CIFAR-10 Batch 1:  Cost : 1.503262996673584, accuracy : 0.4665999710559845\n",
      "Epoch 43, CIFAR-10 Batch 2:  Cost : 1.4941694736480713, accuracy : 0.4675999879837036\n",
      "Epoch 43, CIFAR-10 Batch 3:  Cost : 1.4967267513275146, accuracy : 0.4649999439716339\n",
      "Epoch 43, CIFAR-10 Batch 4:  Cost : 1.5003485679626465, accuracy : 0.4631999731063843\n",
      "Epoch 43, CIFAR-10 Batch 5:  Cost : 1.4844926595687866, accuracy : 0.4675999879837036\n",
      "Epoch 44, CIFAR-10 Batch 1:  Cost : 1.5037482976913452, accuracy : 0.46539998054504395\n",
      "Epoch 44, CIFAR-10 Batch 2:  Cost : 1.4842228889465332, accuracy : 0.4681999683380127\n",
      "Epoch 44, CIFAR-10 Batch 3:  Cost : 1.4922754764556885, accuracy : 0.4717999994754791\n",
      "Epoch 44, CIFAR-10 Batch 4:  Cost : 1.4887752532958984, accuracy : 0.468999981880188\n",
      "Epoch 44, CIFAR-10 Batch 5:  Cost : 1.4801650047302246, accuracy : 0.47039994597435\n",
      "Epoch 45, CIFAR-10 Batch 1:  Cost : 1.4909782409667969, accuracy : 0.47079998254776\n",
      "Epoch 45, CIFAR-10 Batch 2:  Cost : 1.479252576828003, accuracy : 0.47419995069503784\n",
      "Epoch 45, CIFAR-10 Batch 3:  Cost : 1.4811643362045288, accuracy : 0.46939998865127563\n",
      "Epoch 45, CIFAR-10 Batch 4:  Cost : 1.4780806303024292, accuracy : 0.47679996490478516\n",
      "Epoch 45, CIFAR-10 Batch 5:  Cost : 1.467545986175537, accuracy : 0.47599995136260986\n",
      "Epoch 46, CIFAR-10 Batch 1:  Cost : 1.482656478881836, accuracy : 0.4697999656200409\n",
      "Epoch 46, CIFAR-10 Batch 2:  Cost : 1.472198724746704, accuracy : 0.473999947309494\n",
      "Epoch 46, CIFAR-10 Batch 3:  Cost : 1.475579023361206, accuracy : 0.4721999168395996\n",
      "Epoch 46, CIFAR-10 Batch 4:  Cost : 1.475874662399292, accuracy : 0.46879997849464417\n",
      "Epoch 46, CIFAR-10 Batch 5:  Cost : 1.4627940654754639, accuracy : 0.4813999831676483\n",
      "Epoch 47, CIFAR-10 Batch 1:  Cost : 1.4765737056732178, accuracy : 0.47439998388290405\n",
      "Epoch 47, CIFAR-10 Batch 2:  Cost : 1.471092700958252, accuracy : 0.47179993987083435\n",
      "Epoch 47, CIFAR-10 Batch 3:  Cost : 1.4702153205871582, accuracy : 0.47359997034072876\n",
      "Epoch 47, CIFAR-10 Batch 4:  Cost : 1.4676313400268555, accuracy : 0.4745999574661255\n",
      "Epoch 47, CIFAR-10 Batch 5:  Cost : 1.45762038230896, accuracy : 0.48079997301101685\n",
      "Epoch 48, CIFAR-10 Batch 1:  Cost : 1.4633541107177734, accuracy : 0.48059993982315063\n",
      "Epoch 48, CIFAR-10 Batch 2:  Cost : 1.459377408027649, accuracy : 0.4761999547481537\n",
      "Epoch 48, CIFAR-10 Batch 3:  Cost : 1.4627834558486938, accuracy : 0.48059993982315063\n",
      "Epoch 48, CIFAR-10 Batch 4:  Cost : 1.4609088897705078, accuracy : 0.47899994254112244\n",
      "Epoch 48, CIFAR-10 Batch 5:  Cost : 1.4506406784057617, accuracy : 0.4817999601364136\n",
      "Epoch 49, CIFAR-10 Batch 1:  Cost : 1.4613037109375, accuracy : 0.47919997572898865\n",
      "Epoch 49, CIFAR-10 Batch 2:  Cost : 1.4505263566970825, accuracy : 0.48319995403289795\n",
      "Epoch 49, CIFAR-10 Batch 3:  Cost : 1.4530129432678223, accuracy : 0.4809999465942383\n",
      "Epoch 49, CIFAR-10 Batch 4:  Cost : 1.4550724029541016, accuracy : 0.47979995608329773\n",
      "Epoch 49, CIFAR-10 Batch 5:  Cost : 1.444267988204956, accuracy : 0.4837999641895294\n",
      "Epoch 50, CIFAR-10 Batch 1:  Cost : 1.4497861862182617, accuracy : 0.4837999641895294\n",
      "Epoch 50, CIFAR-10 Batch 2:  Cost : 1.4430290460586548, accuracy : 0.4819999635219574\n",
      "Epoch 50, CIFAR-10 Batch 3:  Cost : 1.44656503200531, accuracy : 0.4841999411582947\n",
      "Epoch 50, CIFAR-10 Batch 4:  Cost : 1.4505277872085571, accuracy : 0.47919997572898865\n",
      "Epoch 50, CIFAR-10 Batch 5:  Cost : 1.4387962818145752, accuracy : 0.48639991879463196\n",
      "Epoch 51, CIFAR-10 Batch 1:  Cost : 1.4472949504852295, accuracy : 0.48479995131492615\n",
      "Epoch 51, CIFAR-10 Batch 2:  Cost : 1.4365452527999878, accuracy : 0.48799994587898254\n",
      "Epoch 51, CIFAR-10 Batch 3:  Cost : 1.448241949081421, accuracy : 0.4801999628543854\n",
      "Epoch 51, CIFAR-10 Batch 4:  Cost : 1.4452755451202393, accuracy : 0.4845999479293823\n",
      "Epoch 51, CIFAR-10 Batch 5:  Cost : 1.4288272857666016, accuracy : 0.48739996552467346\n",
      "Epoch 52, CIFAR-10 Batch 1:  Cost : 1.443097710609436, accuracy : 0.4841999411582947\n",
      "Epoch 52, CIFAR-10 Batch 2:  Cost : 1.4378315210342407, accuracy : 0.4873999357223511\n",
      "Epoch 52, CIFAR-10 Batch 3:  Cost : 1.4327929019927979, accuracy : 0.48739999532699585\n",
      "Epoch 52, CIFAR-10 Batch 4:  Cost : 1.4354506731033325, accuracy : 0.49219995737075806\n",
      "Epoch 52, CIFAR-10 Batch 5:  Cost : 1.4220283031463623, accuracy : 0.4883999526500702\n",
      "Epoch 53, CIFAR-10 Batch 1:  Cost : 1.4407131671905518, accuracy : 0.4851999878883362\n",
      "Epoch 53, CIFAR-10 Batch 2:  Cost : 1.428789496421814, accuracy : 0.48959994316101074\n",
      "Epoch 53, CIFAR-10 Batch 3:  Cost : 1.4265938997268677, accuracy : 0.49039992690086365\n",
      "Epoch 53, CIFAR-10 Batch 4:  Cost : 1.4339814186096191, accuracy : 0.48959994316101074\n",
      "Epoch 53, CIFAR-10 Batch 5:  Cost : 1.4231126308441162, accuracy : 0.49059998989105225\n",
      "Epoch 54, CIFAR-10 Batch 1:  Cost : 1.4383386373519897, accuracy : 0.4883999824523926\n",
      "Epoch 54, CIFAR-10 Batch 2:  Cost : 1.420910120010376, accuracy : 0.4909999668598175\n",
      "Epoch 54, CIFAR-10 Batch 3:  Cost : 1.4263479709625244, accuracy : 0.4899999797344208\n",
      "Epoch 54, CIFAR-10 Batch 4:  Cost : 1.4273511171340942, accuracy : 0.48959997296333313\n",
      "Epoch 54, CIFAR-10 Batch 5:  Cost : 1.4163615703582764, accuracy : 0.491599977016449\n",
      "Epoch 55, CIFAR-10 Batch 1:  Cost : 1.4254834651947021, accuracy : 0.4917999505996704\n",
      "Epoch 55, CIFAR-10 Batch 2:  Cost : 1.4199438095092773, accuracy : 0.49219995737075806\n",
      "Epoch 55, CIFAR-10 Batch 3:  Cost : 1.4244720935821533, accuracy : 0.4883999228477478\n",
      "Epoch 55, CIFAR-10 Batch 4:  Cost : 1.4209272861480713, accuracy : 0.49279993772506714\n",
      "Epoch 55, CIFAR-10 Batch 5:  Cost : 1.4081255197525024, accuracy : 0.4923999607563019\n",
      "Epoch 56, CIFAR-10 Batch 1:  Cost : 1.423454999923706, accuracy : 0.4923999309539795\n",
      "Epoch 56, CIFAR-10 Batch 2:  Cost : 1.4107462167739868, accuracy : 0.49679994583129883\n",
      "Epoch 56, CIFAR-10 Batch 3:  Cost : 1.4115548133850098, accuracy : 0.4919999837875366\n",
      "Epoch 56, CIFAR-10 Batch 4:  Cost : 1.4137332439422607, accuracy : 0.49799996614456177\n",
      "Epoch 56, CIFAR-10 Batch 5:  Cost : 1.4012441635131836, accuracy : 0.4955999255180359\n",
      "Epoch 57, CIFAR-10 Batch 1:  Cost : 1.4246277809143066, accuracy : 0.4957999289035797\n",
      "Epoch 57, CIFAR-10 Batch 2:  Cost : 1.4075474739074707, accuracy : 0.5001999139785767\n",
      "Epoch 57, CIFAR-10 Batch 3:  Cost : 1.4047126770019531, accuracy : 0.4955999255180359\n",
      "Epoch 57, CIFAR-10 Batch 4:  Cost : 1.4076812267303467, accuracy : 0.5007999539375305\n",
      "Epoch 57, CIFAR-10 Batch 5:  Cost : 1.3988988399505615, accuracy : 0.49939996004104614\n",
      "Epoch 58, CIFAR-10 Batch 1:  Cost : 1.415863275527954, accuracy : 0.49879997968673706\n",
      "Epoch 58, CIFAR-10 Batch 2:  Cost : 1.3998692035675049, accuracy : 0.500999927520752\n",
      "Epoch 58, CIFAR-10 Batch 3:  Cost : 1.4032737016677856, accuracy : 0.49299994111061096\n",
      "Epoch 58, CIFAR-10 Batch 4:  Cost : 1.4060262441635132, accuracy : 0.5027999877929688\n",
      "Epoch 58, CIFAR-10 Batch 5:  Cost : 1.3924245834350586, accuracy : 0.5025999546051025\n",
      "Epoch 59, CIFAR-10 Batch 1:  Cost : 1.4120759963989258, accuracy : 0.495199978351593\n",
      "Epoch 59, CIFAR-10 Batch 2:  Cost : 1.4010653495788574, accuracy : 0.4991999864578247\n",
      "Epoch 59, CIFAR-10 Batch 3:  Cost : 1.3946958780288696, accuracy : 0.5035999417304993\n",
      "Epoch 59, CIFAR-10 Batch 4:  Cost : 1.3995152711868286, accuracy : 0.5017999410629272\n",
      "Epoch 59, CIFAR-10 Batch 5:  Cost : 1.3903307914733887, accuracy : 0.4987999498844147\n",
      "Epoch 60, CIFAR-10 Batch 1:  Cost : 1.4078871011734009, accuracy : 0.49539992213249207\n",
      "Epoch 60, CIFAR-10 Batch 2:  Cost : 1.3895567655563354, accuracy : 0.5017999410629272\n",
      "Epoch 60, CIFAR-10 Batch 3:  Cost : 1.3935998678207397, accuracy : 0.5035999417304993\n",
      "Epoch 60, CIFAR-10 Batch 4:  Cost : 1.3950753211975098, accuracy : 0.5041999816894531\n",
      "Epoch 60, CIFAR-10 Batch 5:  Cost : 1.3847126960754395, accuracy : 0.5057999491691589\n",
      "Epoch 61, CIFAR-10 Batch 1:  Cost : 1.40215003490448, accuracy : 0.5005999803543091\n",
      "Epoch 61, CIFAR-10 Batch 2:  Cost : 1.385631799697876, accuracy : 0.5037999749183655\n",
      "Epoch 61, CIFAR-10 Batch 3:  Cost : 1.3859087228775024, accuracy : 0.499799907207489\n",
      "Epoch 61, CIFAR-10 Batch 4:  Cost : 1.3935456275939941, accuracy : 0.5043999552726746\n",
      "Epoch 61, CIFAR-10 Batch 5:  Cost : 1.3803465366363525, accuracy : 0.504599928855896\n",
      "Epoch 62, CIFAR-10 Batch 1:  Cost : 1.3923652172088623, accuracy : 0.5033999085426331\n",
      "Epoch 62, CIFAR-10 Batch 2:  Cost : 1.3865406513214111, accuracy : 0.5071999430656433\n",
      "Epoch 62, CIFAR-10 Batch 3:  Cost : 1.3807774782180786, accuracy : 0.5053999423980713\n",
      "Epoch 62, CIFAR-10 Batch 4:  Cost : 1.3872092962265015, accuracy : 0.5061999559402466\n",
      "Epoch 62, CIFAR-10 Batch 5:  Cost : 1.3772776126861572, accuracy : 0.5057999491691589\n",
      "Epoch 63, CIFAR-10 Batch 1:  Cost : 1.3869154453277588, accuracy : 0.5055999755859375\n",
      "Epoch 63, CIFAR-10 Batch 2:  Cost : 1.3792779445648193, accuracy : 0.5089999437332153\n",
      "Epoch 63, CIFAR-10 Batch 3:  Cost : 1.378710150718689, accuracy : 0.5077999830245972\n",
      "Epoch 63, CIFAR-10 Batch 4:  Cost : 1.3819289207458496, accuracy : 0.5065999031066895\n",
      "Epoch 63, CIFAR-10 Batch 5:  Cost : 1.373942255973816, accuracy : 0.5085999369621277\n",
      "Epoch 64, CIFAR-10 Batch 1:  Cost : 1.3919484615325928, accuracy : 0.5019999146461487\n",
      "Epoch 64, CIFAR-10 Batch 2:  Cost : 1.3736586570739746, accuracy : 0.5077999830245972\n",
      "Epoch 64, CIFAR-10 Batch 3:  Cost : 1.3770133256912231, accuracy : 0.5065999627113342\n",
      "Epoch 64, CIFAR-10 Batch 4:  Cost : 1.3818855285644531, accuracy : 0.5065999031066895\n",
      "Epoch 64, CIFAR-10 Batch 5:  Cost : 1.3704464435577393, accuracy : 0.5095999240875244\n",
      "Epoch 65, CIFAR-10 Batch 1:  Cost : 1.3842781782150269, accuracy : 0.506399929523468\n",
      "Epoch 65, CIFAR-10 Batch 2:  Cost : 1.372418761253357, accuracy : 0.5125999450683594\n",
      "Epoch 65, CIFAR-10 Batch 3:  Cost : 1.369476318359375, accuracy : 0.5105999708175659\n",
      "Epoch 65, CIFAR-10 Batch 4:  Cost : 1.372347354888916, accuracy : 0.5137999653816223\n",
      "Epoch 65, CIFAR-10 Batch 5:  Cost : 1.3660145998001099, accuracy : 0.5081999897956848\n",
      "Epoch 66, CIFAR-10 Batch 1:  Cost : 1.3846054077148438, accuracy : 0.5037999153137207\n",
      "Epoch 66, CIFAR-10 Batch 2:  Cost : 1.3697479963302612, accuracy : 0.511199951171875\n",
      "Epoch 66, CIFAR-10 Batch 3:  Cost : 1.367844820022583, accuracy : 0.5089999437332153\n",
      "Epoch 66, CIFAR-10 Batch 4:  Cost : 1.3691142797470093, accuracy : 0.5103999376296997\n",
      "Epoch 66, CIFAR-10 Batch 5:  Cost : 1.3597074747085571, accuracy : 0.5157999992370605\n",
      "Epoch 67, CIFAR-10 Batch 1:  Cost : 1.3787590265274048, accuracy : 0.5065999627113342\n",
      "Epoch 67, CIFAR-10 Batch 2:  Cost : 1.3680083751678467, accuracy : 0.5121999979019165\n",
      "Epoch 67, CIFAR-10 Batch 3:  Cost : 1.3659172058105469, accuracy : 0.5123999118804932\n",
      "Epoch 67, CIFAR-10 Batch 4:  Cost : 1.3685224056243896, accuracy : 0.5135999321937561\n",
      "Epoch 67, CIFAR-10 Batch 5:  Cost : 1.355839490890503, accuracy : 0.5135999321937561\n",
      "Epoch 68, CIFAR-10 Batch 1:  Cost : 1.3744823932647705, accuracy : 0.5089999437332153\n",
      "Epoch 68, CIFAR-10 Batch 2:  Cost : 1.3640384674072266, accuracy : 0.512199878692627\n",
      "Epoch 68, CIFAR-10 Batch 3:  Cost : 1.3590583801269531, accuracy : 0.5109999775886536\n",
      "Epoch 68, CIFAR-10 Batch 4:  Cost : 1.3641953468322754, accuracy : 0.5085999369621277\n",
      "Epoch 68, CIFAR-10 Batch 5:  Cost : 1.357316017150879, accuracy : 0.5157999396324158\n",
      "Epoch 69, CIFAR-10 Batch 1:  Cost : 1.370864748954773, accuracy : 0.5089999437332153\n",
      "Epoch 69, CIFAR-10 Batch 2:  Cost : 1.3579243421554565, accuracy : 0.5131999254226685\n",
      "Epoch 69, CIFAR-10 Batch 3:  Cost : 1.3595147132873535, accuracy : 0.5145999193191528\n",
      "Epoch 69, CIFAR-10 Batch 4:  Cost : 1.3607141971588135, accuracy : 0.5161999464035034\n",
      "Epoch 69, CIFAR-10 Batch 5:  Cost : 1.3501884937286377, accuracy : 0.521399974822998\n",
      "Epoch 70, CIFAR-10 Batch 1:  Cost : 1.366202473640442, accuracy : 0.5117999315261841\n",
      "Epoch 70, CIFAR-10 Batch 2:  Cost : 1.3563013076782227, accuracy : 0.5159999132156372\n",
      "Epoch 70, CIFAR-10 Batch 3:  Cost : 1.3609557151794434, accuracy : 0.5109999775886536\n",
      "Epoch 70, CIFAR-10 Batch 4:  Cost : 1.3579633235931396, accuracy : 0.5119999647140503\n",
      "Epoch 70, CIFAR-10 Batch 5:  Cost : 1.347338318824768, accuracy : 0.5209999680519104\n",
      "Epoch 71, CIFAR-10 Batch 1:  Cost : 1.360455870628357, accuracy : 0.5112000107765198\n",
      "Epoch 71, CIFAR-10 Batch 2:  Cost : 1.3558861017227173, accuracy : 0.512199878692627\n",
      "Epoch 71, CIFAR-10 Batch 3:  Cost : 1.3523139953613281, accuracy : 0.5159999132156372\n",
      "Epoch 71, CIFAR-10 Batch 4:  Cost : 1.3521713018417358, accuracy : 0.5123999714851379\n",
      "Epoch 71, CIFAR-10 Batch 5:  Cost : 1.3440892696380615, accuracy : 0.5217999219894409\n",
      "Epoch 72, CIFAR-10 Batch 1:  Cost : 1.3712315559387207, accuracy : 0.5099999308586121\n",
      "Epoch 72, CIFAR-10 Batch 2:  Cost : 1.3572709560394287, accuracy : 0.5125999450683594\n",
      "Epoch 72, CIFAR-10 Batch 3:  Cost : 1.3446176052093506, accuracy : 0.5185999274253845\n",
      "Epoch 72, CIFAR-10 Batch 4:  Cost : 1.3557662963867188, accuracy : 0.5127999782562256\n",
      "Epoch 72, CIFAR-10 Batch 5:  Cost : 1.343153715133667, accuracy : 0.5223999619483948\n",
      "Epoch 73, CIFAR-10 Batch 1:  Cost : 1.3643200397491455, accuracy : 0.5069999098777771\n",
      "Epoch 73, CIFAR-10 Batch 2:  Cost : 1.343977928161621, accuracy : 0.5215999484062195\n",
      "Epoch 73, CIFAR-10 Batch 3:  Cost : 1.3485122919082642, accuracy : 0.5149999260902405\n",
      "Epoch 73, CIFAR-10 Batch 4:  Cost : 1.3513017892837524, accuracy : 0.5181999206542969\n",
      "Epoch 73, CIFAR-10 Batch 5:  Cost : 1.3379466533660889, accuracy : 0.5215999484062195\n",
      "Epoch 74, CIFAR-10 Batch 1:  Cost : 1.3593988418579102, accuracy : 0.5105999708175659\n",
      "Epoch 74, CIFAR-10 Batch 2:  Cost : 1.3410707712173462, accuracy : 0.5179998874664307\n",
      "Epoch 74, CIFAR-10 Batch 3:  Cost : 1.3476392030715942, accuracy : 0.5127999186515808\n",
      "Epoch 74, CIFAR-10 Batch 4:  Cost : 1.3480356931686401, accuracy : 0.5162000060081482\n",
      "Epoch 74, CIFAR-10 Batch 5:  Cost : 1.3375617265701294, accuracy : 0.5209999680519104\n",
      "Epoch 75, CIFAR-10 Batch 1:  Cost : 1.3488736152648926, accuracy : 0.51419997215271\n",
      "Epoch 75, CIFAR-10 Batch 2:  Cost : 1.3404322862625122, accuracy : 0.5203999280929565\n",
      "Epoch 75, CIFAR-10 Batch 3:  Cost : 1.3400981426239014, accuracy : 0.519399881362915\n",
      "Epoch 75, CIFAR-10 Batch 4:  Cost : 1.3488218784332275, accuracy : 0.5169999599456787\n",
      "Epoch 75, CIFAR-10 Batch 5:  Cost : 1.3364214897155762, accuracy : 0.5237999558448792\n",
      "Epoch 76, CIFAR-10 Batch 1:  Cost : 1.357300043106079, accuracy : 0.5143999457359314\n",
      "Epoch 76, CIFAR-10 Batch 2:  Cost : 1.3362174034118652, accuracy : 0.5177999138832092\n",
      "Epoch 76, CIFAR-10 Batch 3:  Cost : 1.340647578239441, accuracy : 0.5155999660491943\n",
      "Epoch 76, CIFAR-10 Batch 4:  Cost : 1.3481907844543457, accuracy : 0.51419997215271\n",
      "Epoch 76, CIFAR-10 Batch 5:  Cost : 1.3311342000961304, accuracy : 0.5217999815940857\n",
      "Epoch 77, CIFAR-10 Batch 1:  Cost : 1.3473050594329834, accuracy : 0.5151998996734619\n",
      "Epoch 77, CIFAR-10 Batch 2:  Cost : 1.3358900547027588, accuracy : 0.5187999606132507\n",
      "Epoch 77, CIFAR-10 Batch 3:  Cost : 1.3391436338424683, accuracy : 0.5199999213218689\n",
      "Epoch 77, CIFAR-10 Batch 4:  Cost : 1.3389904499053955, accuracy : 0.5199999213218689\n",
      "Epoch 77, CIFAR-10 Batch 5:  Cost : 1.3288238048553467, accuracy : 0.5289999842643738\n",
      "Epoch 78, CIFAR-10 Batch 1:  Cost : 1.3471319675445557, accuracy : 0.5193999409675598\n",
      "Epoch 78, CIFAR-10 Batch 2:  Cost : 1.3287372589111328, accuracy : 0.5235999226570129\n",
      "Epoch 78, CIFAR-10 Batch 3:  Cost : 1.3309519290924072, accuracy : 0.5229999423027039\n",
      "Epoch 78, CIFAR-10 Batch 4:  Cost : 1.3328933715820312, accuracy : 0.5247999429702759\n",
      "Epoch 78, CIFAR-10 Batch 5:  Cost : 1.3302247524261475, accuracy : 0.5263999700546265\n",
      "Epoch 79, CIFAR-10 Batch 1:  Cost : 1.345709204673767, accuracy : 0.5221999883651733\n",
      "Epoch 79, CIFAR-10 Batch 2:  Cost : 1.3280582427978516, accuracy : 0.5255999565124512\n",
      "Epoch 79, CIFAR-10 Batch 3:  Cost : 1.3320392370224, accuracy : 0.5235999226570129\n",
      "Epoch 79, CIFAR-10 Batch 4:  Cost : 1.3379513025283813, accuracy : 0.5185999870300293\n",
      "Epoch 79, CIFAR-10 Batch 5:  Cost : 1.333169937133789, accuracy : 0.5265999436378479\n",
      "Epoch 80, CIFAR-10 Batch 1:  Cost : 1.3413180112838745, accuracy : 0.5181999802589417\n",
      "Epoch 80, CIFAR-10 Batch 2:  Cost : 1.3238792419433594, accuracy : 0.524399995803833\n",
      "Epoch 80, CIFAR-10 Batch 3:  Cost : 1.3307163715362549, accuracy : 0.5263999104499817\n",
      "Epoch 80, CIFAR-10 Batch 4:  Cost : 1.3331618309020996, accuracy : 0.5205999612808228\n",
      "Epoch 80, CIFAR-10 Batch 5:  Cost : 1.3230875730514526, accuracy : 0.5269999504089355\n",
      "Epoch 81, CIFAR-10 Batch 1:  Cost : 1.3414363861083984, accuracy : 0.5201999545097351\n",
      "Epoch 81, CIFAR-10 Batch 2:  Cost : 1.3238886594772339, accuracy : 0.5251999497413635\n",
      "Epoch 81, CIFAR-10 Batch 3:  Cost : 1.326539397239685, accuracy : 0.5237999558448792\n",
      "Epoch 81, CIFAR-10 Batch 4:  Cost : 1.326848030090332, accuracy : 0.5193999409675598\n",
      "Epoch 81, CIFAR-10 Batch 5:  Cost : 1.3193387985229492, accuracy : 0.5317999720573425\n",
      "Epoch 82, CIFAR-10 Batch 1:  Cost : 1.3318066596984863, accuracy : 0.5257999300956726\n",
      "Epoch 82, CIFAR-10 Batch 2:  Cost : 1.3204625844955444, accuracy : 0.5293999910354614\n",
      "Epoch 82, CIFAR-10 Batch 3:  Cost : 1.3202345371246338, accuracy : 0.525399923324585\n",
      "Epoch 82, CIFAR-10 Batch 4:  Cost : 1.3270081281661987, accuracy : 0.5221998691558838\n",
      "Epoch 82, CIFAR-10 Batch 5:  Cost : 1.3180720806121826, accuracy : 0.5301999449729919\n",
      "Epoch 83, CIFAR-10 Batch 1:  Cost : 1.3374264240264893, accuracy : 0.5209999680519104\n",
      "Epoch 83, CIFAR-10 Batch 2:  Cost : 1.3124138116836548, accuracy : 0.5267999172210693\n",
      "Epoch 83, CIFAR-10 Batch 3:  Cost : 1.3169655799865723, accuracy : 0.5261999368667603\n",
      "Epoch 83, CIFAR-10 Batch 4:  Cost : 1.3239855766296387, accuracy : 0.5255999565124512\n",
      "Epoch 83, CIFAR-10 Batch 5:  Cost : 1.310713529586792, accuracy : 0.5323999524116516\n",
      "Epoch 84, CIFAR-10 Batch 1:  Cost : 1.3305673599243164, accuracy : 0.5241999626159668\n",
      "Epoch 84, CIFAR-10 Batch 2:  Cost : 1.3132036924362183, accuracy : 0.531999945640564\n",
      "Epoch 84, CIFAR-10 Batch 3:  Cost : 1.316347360610962, accuracy : 0.5293999314308167\n",
      "Epoch 84, CIFAR-10 Batch 4:  Cost : 1.3191437721252441, accuracy : 0.5259999632835388\n",
      "Epoch 84, CIFAR-10 Batch 5:  Cost : 1.3113865852355957, accuracy : 0.532599925994873\n",
      "Epoch 85, CIFAR-10 Batch 1:  Cost : 1.330038070678711, accuracy : 0.5245999097824097\n",
      "Epoch 85, CIFAR-10 Batch 2:  Cost : 1.3079415559768677, accuracy : 0.531999945640564\n",
      "Epoch 85, CIFAR-10 Batch 3:  Cost : 1.3088650703430176, accuracy : 0.5329999923706055\n",
      "Epoch 85, CIFAR-10 Batch 4:  Cost : 1.3163480758666992, accuracy : 0.5275999307632446\n",
      "Epoch 85, CIFAR-10 Batch 5:  Cost : 1.3126527070999146, accuracy : 0.5351999402046204\n",
      "Epoch 86, CIFAR-10 Batch 1:  Cost : 1.3219197988510132, accuracy : 0.5263999700546265\n",
      "Epoch 86, CIFAR-10 Batch 2:  Cost : 1.304328203201294, accuracy : 0.531000018119812\n",
      "Epoch 86, CIFAR-10 Batch 3:  Cost : 1.3075286149978638, accuracy : 0.5297999978065491\n",
      "Epoch 86, CIFAR-10 Batch 4:  Cost : 1.3146876096725464, accuracy : 0.5301999449729919\n",
      "Epoch 86, CIFAR-10 Batch 5:  Cost : 1.3064552545547485, accuracy : 0.5327999591827393\n",
      "Epoch 87, CIFAR-10 Batch 1:  Cost : 1.3239384889602661, accuracy : 0.5239999890327454\n",
      "Epoch 87, CIFAR-10 Batch 2:  Cost : 1.3067457675933838, accuracy : 0.5323999524116516\n",
      "Epoch 87, CIFAR-10 Batch 3:  Cost : 1.3071115016937256, accuracy : 0.5315999388694763\n",
      "Epoch 87, CIFAR-10 Batch 4:  Cost : 1.3049036264419556, accuracy : 0.5331999659538269\n",
      "Epoch 87, CIFAR-10 Batch 5:  Cost : 1.3056211471557617, accuracy : 0.5365999937057495\n",
      "Epoch 88, CIFAR-10 Batch 1:  Cost : 1.3206787109375, accuracy : 0.5279999375343323\n",
      "Epoch 88, CIFAR-10 Batch 2:  Cost : 1.2992329597473145, accuracy : 0.5413998961448669\n",
      "Epoch 88, CIFAR-10 Batch 3:  Cost : 1.3060894012451172, accuracy : 0.5341999530792236\n",
      "Epoch 88, CIFAR-10 Batch 4:  Cost : 1.3090734481811523, accuracy : 0.5311999917030334\n",
      "Epoch 88, CIFAR-10 Batch 5:  Cost : 1.299180269241333, accuracy : 0.5359998941421509\n",
      "Epoch 89, CIFAR-10 Batch 1:  Cost : 1.3107942342758179, accuracy : 0.5297999382019043\n",
      "Epoch 89, CIFAR-10 Batch 2:  Cost : 1.2982964515686035, accuracy : 0.5363999009132385\n",
      "Epoch 89, CIFAR-10 Batch 3:  Cost : 1.3056354522705078, accuracy : 0.5323999524116516\n",
      "Epoch 89, CIFAR-10 Batch 4:  Cost : 1.311387300491333, accuracy : 0.5311999917030334\n",
      "Epoch 89, CIFAR-10 Batch 5:  Cost : 1.2954022884368896, accuracy : 0.5393999218940735\n",
      "Epoch 90, CIFAR-10 Batch 1:  Cost : 1.3055682182312012, accuracy : 0.5337998867034912\n",
      "Epoch 90, CIFAR-10 Batch 2:  Cost : 1.2951927185058594, accuracy : 0.5347999334335327\n",
      "Epoch 90, CIFAR-10 Batch 3:  Cost : 1.3049463033676147, accuracy : 0.5287999510765076\n",
      "Epoch 90, CIFAR-10 Batch 4:  Cost : 1.3067874908447266, accuracy : 0.5311999320983887\n",
      "Epoch 90, CIFAR-10 Batch 5:  Cost : 1.293735146522522, accuracy : 0.5411999821662903\n",
      "Epoch 91, CIFAR-10 Batch 1:  Cost : 1.3097541332244873, accuracy : 0.5299999713897705\n",
      "Epoch 91, CIFAR-10 Batch 2:  Cost : 1.2892776727676392, accuracy : 0.5401999354362488\n",
      "Epoch 91, CIFAR-10 Batch 3:  Cost : 1.2958705425262451, accuracy : 0.5369999408721924\n",
      "Epoch 91, CIFAR-10 Batch 4:  Cost : 1.2942471504211426, accuracy : 0.5365999341011047\n",
      "Epoch 91, CIFAR-10 Batch 5:  Cost : 1.2907309532165527, accuracy : 0.5451999306678772\n",
      "Epoch 92, CIFAR-10 Batch 1:  Cost : 1.3034404516220093, accuracy : 0.5327999591827393\n",
      "Epoch 92, CIFAR-10 Batch 2:  Cost : 1.294229507446289, accuracy : 0.5339999198913574\n",
      "Epoch 92, CIFAR-10 Batch 3:  Cost : 1.291701078414917, accuracy : 0.539199948310852\n",
      "Epoch 92, CIFAR-10 Batch 4:  Cost : 1.2957220077514648, accuracy : 0.5387999415397644\n",
      "Epoch 92, CIFAR-10 Batch 5:  Cost : 1.2869853973388672, accuracy : 0.5415999889373779\n",
      "Epoch 93, CIFAR-10 Batch 1:  Cost : 1.302415370941162, accuracy : 0.533799946308136\n",
      "Epoch 93, CIFAR-10 Batch 2:  Cost : 1.2890560626983643, accuracy : 0.5399999618530273\n",
      "Epoch 93, CIFAR-10 Batch 3:  Cost : 1.2918044328689575, accuracy : 0.5387999415397644\n",
      "Epoch 93, CIFAR-10 Batch 4:  Cost : 1.2939485311508179, accuracy : 0.5367999076843262\n",
      "Epoch 93, CIFAR-10 Batch 5:  Cost : 1.2862738370895386, accuracy : 0.5417999029159546\n",
      "Epoch 94, CIFAR-10 Batch 1:  Cost : 1.3007222414016724, accuracy : 0.5377999544143677\n",
      "Epoch 94, CIFAR-10 Batch 2:  Cost : 1.28793203830719, accuracy : 0.5411999225616455\n",
      "Epoch 94, CIFAR-10 Batch 3:  Cost : 1.2900621891021729, accuracy : 0.5377999544143677\n",
      "Epoch 94, CIFAR-10 Batch 4:  Cost : 1.2868906259536743, accuracy : 0.5413999557495117\n",
      "Epoch 94, CIFAR-10 Batch 5:  Cost : 1.2787086963653564, accuracy : 0.5459998846054077\n",
      "Epoch 95, CIFAR-10 Batch 1:  Cost : 1.2930057048797607, accuracy : 0.5409999489784241\n",
      "Epoch 95, CIFAR-10 Batch 2:  Cost : 1.2808880805969238, accuracy : 0.5419999361038208\n",
      "Epoch 95, CIFAR-10 Batch 3:  Cost : 1.2867000102996826, accuracy : 0.5417999625205994\n",
      "Epoch 95, CIFAR-10 Batch 4:  Cost : 1.2874890565872192, accuracy : 0.5397999286651611\n",
      "Epoch 95, CIFAR-10 Batch 5:  Cost : 1.2791684865951538, accuracy : 0.543199896812439\n",
      "Epoch 96, CIFAR-10 Batch 1:  Cost : 1.2950071096420288, accuracy : 0.5419999361038208\n",
      "Epoch 96, CIFAR-10 Batch 2:  Cost : 1.2781378030776978, accuracy : 0.5427999496459961\n",
      "Epoch 96, CIFAR-10 Batch 3:  Cost : 1.286556601524353, accuracy : 0.5401999354362488\n",
      "Epoch 96, CIFAR-10 Batch 4:  Cost : 1.286497712135315, accuracy : 0.5378000140190125\n",
      "Epoch 96, CIFAR-10 Batch 5:  Cost : 1.275455355644226, accuracy : 0.5432000160217285\n",
      "Epoch 97, CIFAR-10 Batch 1:  Cost : 1.2897286415100098, accuracy : 0.5357998609542847\n",
      "Epoch 97, CIFAR-10 Batch 2:  Cost : 1.2788997888565063, accuracy : 0.5425999164581299\n",
      "Epoch 97, CIFAR-10 Batch 3:  Cost : 1.2819911241531372, accuracy : 0.5419999361038208\n",
      "Epoch 97, CIFAR-10 Batch 4:  Cost : 1.2761898040771484, accuracy : 0.5453999042510986\n",
      "Epoch 97, CIFAR-10 Batch 5:  Cost : 1.2745206356048584, accuracy : 0.5499999523162842\n",
      "Epoch 98, CIFAR-10 Batch 1:  Cost : 1.2878475189208984, accuracy : 0.5377999544143677\n",
      "Epoch 98, CIFAR-10 Batch 2:  Cost : 1.2739839553833008, accuracy : 0.5473999381065369\n",
      "Epoch 98, CIFAR-10 Batch 3:  Cost : 1.2799458503723145, accuracy : 0.5401999354362488\n",
      "Epoch 98, CIFAR-10 Batch 4:  Cost : 1.2784721851348877, accuracy : 0.54339998960495\n",
      "Epoch 98, CIFAR-10 Batch 5:  Cost : 1.2710493803024292, accuracy : 0.5455999374389648\n",
      "Epoch 99, CIFAR-10 Batch 1:  Cost : 1.2851836681365967, accuracy : 0.5393999814987183\n",
      "Epoch 99, CIFAR-10 Batch 2:  Cost : 1.265414834022522, accuracy : 0.5489999651908875\n",
      "Epoch 99, CIFAR-10 Batch 3:  Cost : 1.2708059549331665, accuracy : 0.5461999177932739\n",
      "Epoch 99, CIFAR-10 Batch 4:  Cost : 1.2751182317733765, accuracy : 0.5501999258995056\n",
      "Epoch 99, CIFAR-10 Batch 5:  Cost : 1.262691855430603, accuracy : 0.5471999645233154\n",
      "Epoch 100, CIFAR-10 Batch 1:  Cost : 1.275705099105835, accuracy : 0.5447999238967896\n",
      "Epoch 100, CIFAR-10 Batch 2:  Cost : 1.2603731155395508, accuracy : 0.5523999333381653\n",
      "Epoch 100, CIFAR-10 Batch 3:  Cost : 1.2653918266296387, accuracy : 0.5539999604225159\n",
      "Epoch 100, CIFAR-10 Batch 4:  Cost : 1.268472671508789, accuracy : 0.5515999794006348\n",
      "Epoch 100, CIFAR-10 Batch 5:  Cost : 1.2635204792022705, accuracy : 0.5521999597549438\n"
     ]
    }
   ],
   "source": [
    "\"\"\"\n",
    "DON'T MODIFY ANYTHING IN THIS CELL\n",
    "\"\"\"\n",
    "save_model_path = './image_classification'\n",
    "\n",
    "print('Training...')\n",
    "with tf.Session() as sess:\n",
    "    # Initializing the variables\n",
    "    sess.run(tf.global_variables_initializer())\n",
    "    \n",
    "    # Training cycle\n",
    "    for epoch in range(epochs):\n",
    "        # Loop over all batches\n",
    "        n_batches = 5\n",
    "        for batch_i in range(1, n_batches + 1):\n",
    "            for batch_features, batch_labels in helper.load_preprocess_training_batch(batch_i, batch_size):\n",
    "                train_neural_network(sess, optimizer, keep_probability, batch_features, batch_labels)\n",
    "            print('Epoch {:>2}, CIFAR-10 Batch {}:  '.format(epoch + 1, batch_i), end='')\n",
    "            print_stats(sess, batch_features, batch_labels, cost, accuracy)\n",
    "            \n",
    "    # Save Model\n",
    "    saver = tf.train.Saver()\n",
    "    save_path = saver.save(sess, save_model_path)"
   ]
  },
  {
   "cell_type": "markdown",
   "metadata": {
    "deletable": true,
    "editable": true
   },
   "source": [
    "# Checkpoint\n",
    "The model has been saved to disk.\n",
    "## Test Model\n",
    "Test your model against the test dataset.  This will be your final accuracy. You should have an accuracy greater than 50%. If you don't, keep tweaking the model architecture and parameters."
   ]
  },
  {
   "cell_type": "code",
   "execution_count": 128,
   "metadata": {
    "collapsed": false,
    "deletable": true,
    "editable": true
   },
   "outputs": [
    {
     "name": "stdout",
     "output_type": "stream",
     "text": [
      "Testing Accuracy: 0.56005859375\n",
      "\n"
     ]
    },
    {
     "data": {
      "image/png": "[encoded data removed]",
      "text/plain": [
       "<matplotlib.figure.Figure at 0x7f2553c379b0>"
      ]
     },
     "metadata": {
      "image/png": {
       "height": 319,
       "width": 355
      }
     },
     "output_type": "display_data"
    }
   ],
   "source": [
    "\"\"\"\n",
    "DON'T MODIFY ANYTHING IN THIS CELL\n",
    "\"\"\"\n",
    "%matplotlib inline\n",
    "%config InlineBackend.figure_format = 'retina'\n",
    "\n",
    "import tensorflow as tf\n",
    "import pickle\n",
    "import helper\n",
    "import random\n",
    "\n",
    "# Set batch size if not already set\n",
    "try:\n",
    "    if batch_size:\n",
    "        pass\n",
    "except NameError:\n",
    "    batch_size = 64\n",
    "\n",
    "save_model_path = './image_classification'\n",
    "n_samples = 4\n",
    "top_n_predictions = 3\n",
    "\n",
    "def test_model():\n",
    "    \"\"\"\n",
    "    Test the saved model against the test dataset\n",
    "    \"\"\"\n",
    "\n",
    "    test_features, test_labels = pickle.load(open('preprocess_test.p', mode='rb'))\n",
    "    loaded_graph = tf.Graph()\n",
    "\n",
    "    with tf.Session(graph=loaded_graph) as sess:\n",
    "        # Load model\n",
    "        loader = tf.train.import_meta_graph(save_model_path + '.meta')\n",
    "        loader.restore(sess, save_model_path)\n",
    "\n",
    "        # Get Tensors from loaded model\n",
    "        loaded_x = loaded_graph.get_tensor_by_name('x:0')\n",
    "        loaded_y = loaded_graph.get_tensor_by_name('y:0')\n",
    "        loaded_keep_prob = loaded_graph.get_tensor_by_name('keep_prob:0')\n",
    "        loaded_logits = loaded_graph.get_tensor_by_name('logits:0')\n",
    "        loaded_acc = loaded_graph.get_tensor_by_name('accuracy:0')\n",
    "        \n",
    "        # Get accuracy in batches for memory limitations\n",
    "        test_batch_acc_total = 0\n",
    "        test_batch_count = 0\n",
    "        \n",
    "        for test_feature_batch, test_label_batch in helper.batch_features_labels(test_features, test_labels, batch_size):\n",
    "            test_batch_acc_total += sess.run(\n",
    "                loaded_acc,\n",
    "                feed_dict={loaded_x: test_feature_batch, loaded_y: test_label_batch, loaded_keep_prob: 1.0})\n",
    "            test_batch_count += 1\n",
    "\n",
    "        print('Testing Accuracy: {}\\n'.format(test_batch_acc_total/test_batch_count))\n",
    "\n",
    "        # Print Random Samples\n",
    "        random_test_features, random_test_labels = tuple(zip(*random.sample(list(zip(test_features, test_labels)), n_samples)))\n",
    "        random_test_predictions = sess.run(\n",
    "            tf.nn.top_k(tf.nn.softmax(loaded_logits), top_n_predictions),\n",
    "            feed_dict={loaded_x: random_test_features, loaded_y: random_test_labels, loaded_keep_prob: 1.0})\n",
    "        helper.display_image_predictions(random_test_features, random_test_labels, random_test_predictions)\n",
    "\n",
    "\n",
    "test_model()"
   ]
  },
  {
   "cell_type": "markdown",
   "metadata": {
    "deletable": true,
    "editable": true
   },
   "source": [
    "## Why 50-80% Accuracy?\n",
    "You might be wondering why you can't get an accuracy any higher. First things first, 50% isn't bad for a simple CNN.  Pure guessing would get you 10% accuracy. However, you might notice people are getting scores [well above 80%](http://rodrigob.github.io/are_we_there_yet/build/classification_datasets_results.html#43494641522d3130).  That's because we haven't taught you all there is to know about neural networks. We still need to cover a few more techniques.\n",
    "## Submitting This Project\n",
    "When submitting this project, make sure to run all the cells before saving the notebook.  Save the notebook file as \"dlnd_image_classification.ipynb\" and save it as a HTML file under \"File\" -> \"Download as\".  Include the \"helper.py\" and \"problem_unittests.py\" files in your submission."
   ]
  }
 ],
 "metadata": {
  "kernelspec": {
   "display_name": "Python 3",
   "language": "python",
   "name": "python3"
  },
  "language_info": {
   "codemirror_mode": {
    "name": "ipython",
    "version": 3
   },
   "file_extension": ".py",
   "mimetype": "text/x-python",
   "name": "python",
   "nbconvert_exporter": "python",
   "pygments_lexer": "ipython3",
   "version": "3.5.2"
  },
  "widgets": {
   "state": {},
   "version": "1.1.2"
  }
 },
 "nbformat": 4,
 "nbformat_minor": 0
}
