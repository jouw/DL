{
 "cells": [
  {
   "cell_type": "markdown",
   "metadata": {
    "collapsed": true,
    "deletable": true,
    "editable": true
   },
   "source": [
    "# Image Classification\n",
    "In this project, you'll classify images from the [CIFAR-10 dataset](https://www.cs.toronto.edu/~kriz/cifar.html).  The dataset consists of airplanes, dogs, cats, and other objects. You'll preprocess the images, then train a convolutional neural network on all the samples. The images need to be normalized and the labels need to be one-hot encoded.  You'll get to apply what you learned and build a convolutional, max pooling, dropout, and fully connected layers.  At the end, you'll get to see your neural network's predictions on the sample images.\n",
    "## Get the Data\n",
    "Run the following cell to download the [CIFAR-10 dataset for python](https://www.cs.toronto.edu/~kriz/cifar-10-python.tar.gz)."
   ]
  },
  {
   "cell_type": "code",
   "execution_count": 23,
   "metadata": {
    "collapsed": false,
    "deletable": true,
    "editable": true
   },
   "outputs": [
    {
     "name": "stdout",
     "output_type": "stream",
     "text": [
      "All files found!\n"
     ]
    }
   ],
   "source": [
    "\"\"\"\n",
    "DON'T MODIFY ANYTHING IN THIS CELL THAT IS BELOW THIS LINE\n",
    "\"\"\"\n",
    "from urllib.request import urlretrieve\n",
    "from os.path import isfile, isdir\n",
    "from tqdm import tqdm\n",
    "import problem_unittests as tests\n",
    "import tarfile\n",
    "\n",
    "cifar10_dataset_folder_path = 'cifar-10-batches-py'\n",
    "\n",
    "# Use Floyd's cifar-10 dataset if present\n",
    "floyd_cifar10_location = '/input/cifar-10/python.tar.gz'\n",
    "if isfile(floyd_cifar10_location):\n",
    "    tar_gz_path = floyd_cifar10_location\n",
    "else:\n",
    "    tar_gz_path = 'cifar-10-python.tar.gz'\n",
    "\n",
    "class DLProgress(tqdm):\n",
    "    last_block = 0\n",
    "\n",
    "    def hook(self, block_num=1, block_size=1, total_size=None):\n",
    "        self.total = total_size\n",
    "        self.update((block_num - self.last_block) * block_size)\n",
    "        self.last_block = block_num\n",
    "\n",
    "if not isfile(tar_gz_path):\n",
    "    with DLProgress(unit='B', unit_scale=True, miniters=1, desc='CIFAR-10 Dataset') as pbar:\n",
    "        urlretrieve(\n",
    "            'https://www.cs.toronto.edu/~kriz/cifar-10-python.tar.gz',\n",
    "            tar_gz_path,\n",
    "            pbar.hook)\n",
    "\n",
    "if not isdir(cifar10_dataset_folder_path):\n",
    "    with tarfile.open(tar_gz_path) as tar:\n",
    "        tar.extractall()\n",
    "        tar.close()\n",
    "\n",
    "\n",
    "tests.test_folder_path(cifar10_dataset_folder_path)"
   ]
  },
  {
   "cell_type": "markdown",
   "metadata": {
    "deletable": true,
    "editable": true
   },
   "source": [
    "## Explore the Data\n",
    "The dataset is broken into batches to prevent your machine from running out of memory.  The CIFAR-10 dataset consists of 5 batches, named `data_batch_1`, `data_batch_2`, etc.. Each batch contains the labels and images that are one of the following:\n",
    "* airplane\n",
    "* automobile\n",
    "* bird\n",
    "* cat\n",
    "* deer\n",
    "* dog\n",
    "* frog\n",
    "* horse\n",
    "* ship\n",
    "* truck\n",
    "\n",
    "Understanding a dataset is part of making predictions on the data.  Play around with the code cell below by changing the `batch_id` and `sample_id`. The `batch_id` is the id for a batch (1-5). The `sample_id` is the id for a image and label pair in the batch.\n",
    "\n",
    "Ask yourself \"What are all possible labels?\", \"What is the range of values for the image data?\", \"Are the labels in order or random?\".  Answers to questions like these will help you preprocess the data and end up with better predictions."
   ]
  },
  {
   "cell_type": "code",
   "execution_count": 8,
   "metadata": {
    "collapsed": false,
    "deletable": true,
    "editable": true
   },
   "outputs": [
    {
     "name": "stdout",
     "output_type": "stream",
     "text": [
      "\n",
      "Stats of batch 1:\n",
      "Samples: 10000\n",
      "Label Counts: {0: 1005, 1: 974, 2: 1032, 3: 1016, 4: 999, 5: 937, 6: 1030, 7: 1001, 8: 1025, 9: 981}\n",
      "First 20 Labels: [6, 9, 9, 4, 1, 1, 2, 7, 8, 3, 4, 7, 7, 2, 9, 9, 9, 3, 2, 6]\n",
      "\n",
      "Example of Image 5:\n",
      "Image - Min Value: 0 Max Value: 252\n",
      "Image - Shape: (32, 32, 3)\n",
      "Label - Label Id: 1 Name: automobile\n"
     ]
    },
    {
     "data": {
      "image/png": "[encoded data removed]",
      "text/plain": [
       "<matplotlib.figure.Figure at 0x7f9d1c680978>"
      ]
     },
     "metadata": {
      "image/png": {
       "height": 250,
       "width": 253
      }
     },
     "output_type": "display_data"
    }
   ],
   "source": [
    "%matplotlib inline\n",
    "%config InlineBackend.figure_format = 'retina'\n",
    "\n",
    "import helper\n",
    "import numpy as np\n",
    "\n",
    "# Explore the dataset\n",
    "batch_id = 1\n",
    "sample_id = 5\n",
    "helper.display_stats(cifar10_dataset_folder_path, batch_id, sample_id)"
   ]
  },
  {
   "cell_type": "markdown",
   "metadata": {
    "deletable": true,
    "editable": true
   },
   "source": [
    "## Implement Preprocess Functions\n",
    "### Normalize\n",
    "In the cell below, implement the `normalize` function to take in image data, `x`, and return it as a normalized Numpy array. The values should be in the range of 0 to 1, inclusive.  The return object should be the same shape as `x`."
   ]
  },
  {
   "cell_type": "code",
   "execution_count": 9,
   "metadata": {
    "collapsed": false,
    "deletable": true,
    "editable": true
   },
   "outputs": [
    {
     "name": "stdout",
     "output_type": "stream",
     "text": [
      "Tests Passed\n"
     ]
    }
   ],
   "source": [
    "def normalize(x):\n",
    "    \"\"\"\n",
    "    Normalize a list of sample image data in the range of 0 to 1\n",
    "    : x: List of image data.  The image shape is (32, 32, 3)\n",
    "    : return: Numpy array of normalize data\n",
    "    \"\"\"\n",
    "    # TODO: Implement Function\n",
    "    x = np.array(x) / 255\n",
    "    return x\n",
    "\n",
    "\n",
    "\"\"\"\n",
    "DON'T MODIFY ANYTHING IN THIS CELL THAT IS BELOW THIS LINE\n",
    "\"\"\"\n",
    "tests.test_normalize(normalize)"
   ]
  },
  {
   "cell_type": "markdown",
   "metadata": {
    "deletable": true,
    "editable": true
   },
   "source": [
    "### One-hot encode\n",
    "Just like the previous code cell, you'll be implementing a function for preprocessing.  This time, you'll implement the `one_hot_encode` function. The input, `x`, are a list of labels.  Implement the function to return the list of labels as One-Hot encoded Numpy array.  The possible values for labels are 0 to 9. The one-hot encoding function should return the same encoding for each value between each call to `one_hot_encode`.  Make sure to save the map of encodings outside the function.\n",
    "\n",
    "Hint: Don't reinvent the wheel."
   ]
  },
  {
   "cell_type": "code",
   "execution_count": 10,
   "metadata": {
    "collapsed": false,
    "deletable": true,
    "editable": true
   },
   "outputs": [
    {
     "name": "stdout",
     "output_type": "stream",
     "text": [
      "Tests Passed\n"
     ]
    }
   ],
   "source": [
    "from sklearn import preprocessing \n",
    "\n",
    "# Don't forget to make it outside the function to save the map\n",
    "lb = preprocessing.LabelBinarizer()\n",
    "lb.fit(np.array(range(10)))\n",
    "\n",
    "def one_hot_encode(x):\n",
    "    \"\"\"\n",
    "    One hot encode a list of sample labels. Return a one-hot encoded vector for each label.\n",
    "    : x: List of sample Labels\n",
    "    : return: Numpy array of one-hot encoded labels\n",
    "    \"\"\"\n",
    "    # TODO: Implement Function\n",
    "    return lb.transform(np.array(x))\n",
    "\n",
    "\n",
    "\"\"\"\n",
    "DON'T MODIFY ANYTHING IN THIS CELL THAT IS BELOW THIS LINE\n",
    "\"\"\"\n",
    "tests.test_one_hot_encode(one_hot_encode)"
   ]
  },
  {
   "cell_type": "markdown",
   "metadata": {
    "deletable": true,
    "editable": true
   },
   "source": [
    "### Randomize Data\n",
    "As you saw from exploring the data above, the order of the samples are randomized.  It doesn't hurt to randomize it again, but you don't need to for this dataset."
   ]
  },
  {
   "cell_type": "markdown",
   "metadata": {
    "deletable": true,
    "editable": true
   },
   "source": [
    "## Preprocess all the data and save it\n",
    "Running the code cell below will preprocess all the CIFAR-10 data and save it to file. The code below also uses 10% of the training data for validation."
   ]
  },
  {
   "cell_type": "code",
   "execution_count": 11,
   "metadata": {
    "collapsed": false,
    "deletable": true,
    "editable": true
   },
   "outputs": [],
   "source": [
    "\"\"\"\n",
    "DON'T MODIFY ANYTHING IN THIS CELL\n",
    "\"\"\"\n",
    "# Preprocess Training, Validation, and Testing Data\n",
    "helper.preprocess_and_save_data(cifar10_dataset_folder_path, normalize, one_hot_encode)"
   ]
  },
  {
   "cell_type": "markdown",
   "metadata": {
    "deletable": true,
    "editable": true
   },
   "source": [
    "# Check Point\n",
    "This is your first checkpoint.  If you ever decide to come back to this notebook or have to restart the notebook, you can start from here.  The preprocessed data has been saved to disk."
   ]
  },
  {
   "cell_type": "code",
   "execution_count": 58,
   "metadata": {
    "collapsed": false,
    "deletable": true,
    "editable": true
   },
   "outputs": [],
   "source": [
    "\"\"\"\n",
    "DON'T MODIFY ANYTHING IN THIS CELL\n",
    "\"\"\"\n",
    "import pickle\n",
    "import problem_unittests as tests\n",
    "import helper\n",
    "\n",
    "# Load the Preprocessed Validation data\n",
    "valid_features, valid_labels = pickle.load(open('preprocess_validation.p', mode='rb'))"
   ]
  },
  {
   "cell_type": "markdown",
   "metadata": {
    "deletable": true,
    "editable": true
   },
   "source": [
    "## Build the network\n",
    "For the neural network, you'll build each layer into a function.  Most of the code you've seen has been outside of functions. To test your code more thoroughly, we require that you put each layer in a function.  This allows us to give you better feedback and test for simple mistakes using our unittests before you submit your project.\n",
    "\n",
    ">**Note:** If you're finding it hard to dedicate enough time for this course each week, we've provided a small shortcut to this part of the project. In the next couple of problems, you'll have the option to use classes from the [TensorFlow Layers](https://www.tensorflow.org/api_docs/python/tf/layers) or [TensorFlow Layers (contrib)](https://www.tensorflow.org/api_guides/python/contrib.layers) packages to build each layer, except the layers you build in the \"Convolutional and Max Pooling Layer\" section.  TF Layers is similar to Keras's and TFLearn's abstraction to layers, so it's easy to pickup.\n",
    "\n",
    ">However, if you would like to get the most out of this course, try to solve all the problems _without_ using anything from the TF Layers packages. You **can** still use classes from other packages that happen to have the same name as ones you find in TF Layers! For example, instead of using the TF Layers version of the `conv2d` class, [tf.layers.conv2d](https://www.tensorflow.org/api_docs/python/tf/layers/conv2d), you would want to use the TF Neural Network version of `conv2d`, [tf.nn.conv2d](https://www.tensorflow.org/api_docs/python/tf/nn/conv2d). \n",
    "\n",
    "Let's begin!\n",
    "\n",
    "### Input\n",
    "The neural network needs to read the image data, one-hot encoded labels, and dropout keep probability. Implement the following functions\n",
    "* Implement `neural_net_image_input`\n",
    " * Return a [TF Placeholder](https://www.tensorflow.org/api_docs/python/tf/placeholder)\n",
    " * Set the shape using `image_shape` with batch size set to `None`.\n",
    " * Name the TensorFlow placeholder \"x\" using the TensorFlow `name` parameter in the [TF Placeholder](https://www.tensorflow.org/api_docs/python/tf/placeholder).\n",
    "* Implement `neural_net_label_input`\n",
    " * Return a [TF Placeholder](https://www.tensorflow.org/api_docs/python/tf/placeholder)\n",
    " * Set the shape using `n_classes` with batch size set to `None`.\n",
    " * Name the TensorFlow placeholder \"y\" using the TensorFlow `name` parameter in the [TF Placeholder](https://www.tensorflow.org/api_docs/python/tf/placeholder).\n",
    "* Implement `neural_net_keep_prob_input`\n",
    " * Return a [TF Placeholder](https://www.tensorflow.org/api_docs/python/tf/placeholder) for dropout keep probability.\n",
    " * Name the TensorFlow placeholder \"keep_prob\" using the TensorFlow `name` parameter in the [TF Placeholder](https://www.tensorflow.org/api_docs/python/tf/placeholder).\n",
    "\n",
    "These names will be used at the end of the project to load your saved model.\n",
    "\n",
    "Note: `None` for shapes in TensorFlow allow for a dynamic size."
   ]
  },
  {
   "cell_type": "code",
   "execution_count": 59,
   "metadata": {
    "collapsed": false,
    "deletable": true,
    "editable": true
   },
   "outputs": [
    {
     "name": "stdout",
     "output_type": "stream",
     "text": [
      "Image Input Tests Passed.\n",
      "Label Input Tests Passed.\n",
      "Keep Prob Tests Passed.\n"
     ]
    }
   ],
   "source": [
    "import tensorflow as tf\n",
    "\n",
    "def neural_net_image_input(image_shape):\n",
    "    \"\"\"\n",
    "    Return a Tensor for a batch of image input\n",
    "    : image_shape: Shape of the images\n",
    "    : return: Tensor for image input.\n",
    "    \"\"\"\n",
    "    # TODO: Implement Function\n",
    "    return tf.placeholder(tf.float32, shape=[None, *image_shape], name=\"x\")\n",
    "\n",
    "\n",
    "def neural_net_label_input(n_classes):\n",
    "    \"\"\"\n",
    "    Return a Tensor for a batch of label input\n",
    "    : n_classes: Number of classes\n",
    "    : return: Tensor for label input.\n",
    "    \"\"\"\n",
    "    # TODO: Implement Function\n",
    "    return tf.placeholder(tf.int32, shape=[None, n_classes], name=\"y\")\n",
    "\n",
    "\n",
    "def neural_net_keep_prob_input():\n",
    "    \"\"\"\n",
    "    Return a Tensor for keep probability\n",
    "    : return: Tensor for keep probability.\n",
    "    \"\"\"\n",
    "    # TODO: Implement Function\n",
    "    return tf.placeholder(tf.float32, name=\"keep_prob\")\n",
    "\n",
    "\n",
    "\"\"\"\n",
    "DON'T MODIFY ANYTHING IN THIS CELL THAT IS BELOW THIS LINE\n",
    "\"\"\"\n",
    "tf.reset_default_graph()\n",
    "tests.test_nn_image_inputs(neural_net_image_input)\n",
    "tests.test_nn_label_inputs(neural_net_label_input)\n",
    "tests.test_nn_keep_prob_inputs(neural_net_keep_prob_input)"
   ]
  },
  {
   "cell_type": "markdown",
   "metadata": {
    "deletable": true,
    "editable": true
   },
   "source": [
    "### Convolution and Max Pooling Layer\n",
    "Convolution layers have a lot of success with images. For this code cell, you should implement the function `conv2d_maxpool` to apply convolution then max pooling:\n",
    "* Create the weight and bias using `conv_ksize`, `conv_num_outputs` and the shape of `x_tensor`.\n",
    "* Apply a convolution to `x_tensor` using weight and `conv_strides`.\n",
    " * We recommend you use same padding, but you're welcome to use any padding.\n",
    "* Add bias\n",
    "* Add a nonlinear activation to the convolution.\n",
    "* Apply Max Pooling using `pool_ksize` and `pool_strides`.\n",
    " * We recommend you use same padding, but you're welcome to use any padding.\n",
    "\n",
    "**Note:** You **can't** use [TensorFlow Layers](https://www.tensorflow.org/api_docs/python/tf/layers) or [TensorFlow Layers (contrib)](https://www.tensorflow.org/api_guides/python/contrib.layers) for **this** layer, but you can still use TensorFlow's [Neural Network](https://www.tensorflow.org/api_docs/python/tf/nn) package. You may still use the shortcut option for all the **other** layers."
   ]
  },
  {
   "cell_type": "code",
   "execution_count": 60,
   "metadata": {
    "collapsed": false,
    "deletable": true,
    "editable": true
   },
   "outputs": [
    {
     "name": "stdout",
     "output_type": "stream",
     "text": [
      "Tests Passed\n"
     ]
    }
   ],
   "source": [
    "def conv2d_maxpool(x_tensor, conv_num_outputs, conv_ksize, conv_strides, pool_ksize, pool_strides):\n",
    "    \"\"\"\n",
    "    Apply convolution then max pooling to x_tensor\n",
    "    :param x_tensor: TensorFlow Tensor\n",
    "    :param conv_num_outputs: Number of outputs for the convolutional layer\n",
    "    :param conv_ksize: kernal size 2-D Tuple for the convolutional layer\n",
    "    :param conv_strides: Stride 2-D Tuple for convolution\n",
    "    :param pool_ksize: kernal size 2-D Tuple for pool\n",
    "    :param pool_strides: Stride 2-D Tuple for pool\n",
    "    : return: A tensor that represents convolution and max pooling of x_tensor\n",
    "    \"\"\"\n",
    "    # TODO: Implement Function\n",
    "    weight = tf.Variable(tf.truncated_normal([conv_ksize[0], conv_ksize[1], x_tensor.get_shape().as_list()[3], conv_num_outputs], stddev=0.1))\n",
    "    bias = tf.Variable(tf.zeros(conv_num_outputs))\n",
    "    \n",
    "    conv_layer = tf.nn.conv2d(x_tensor, weight, strides=[1, conv_strides[0], conv_strides[1], 1], padding='SAME')\n",
    "    #print(conv_layer.get_shape().as_list())\n",
    "    conv_layer = tf.nn.bias_add(conv_layer, bias)\n",
    "       \n",
    "    conv_layer = tf.nn.max_pool(conv_layer, ksize=[1, pool_ksize[0], pool_ksize[1], 1], strides=[1, pool_strides[0], pool_strides[1], 1], padding='SAME')\n",
    "    conv_layer = tf.nn.elu(conv_layer)\n",
    "    #print(conv_layer.get_shape().as_list())\n",
    "    return conv_layer \n",
    "\n",
    "\n",
    "\"\"\"\n",
    "DON'T MODIFY ANYTHING IN THIS CELL THAT IS BELOW THIS LINE\n",
    "\"\"\"\n",
    "tests.test_con_pool(conv2d_maxpool)"
   ]
  },
  {
   "cell_type": "markdown",
   "metadata": {
    "deletable": true,
    "editable": true
   },
   "source": [
    "### Flatten Layer\n",
    "Implement the `flatten` function to change the dimension of `x_tensor` from a 4-D tensor to a 2-D tensor.  The output should be the shape (*Batch Size*, *Flattened Image Size*). Shortcut option: you can use classes from the [TensorFlow Layers](https://www.tensorflow.org/api_docs/python/tf/layers) or [TensorFlow Layers (contrib)](https://www.tensorflow.org/api_guides/python/contrib.layers) packages for this layer. For more of a challenge, only use other TensorFlow packages."
   ]
  },
  {
   "cell_type": "code",
   "execution_count": 61,
   "metadata": {
    "collapsed": false,
    "deletable": true,
    "editable": true
   },
   "outputs": [
    {
     "name": "stdout",
     "output_type": "stream",
     "text": [
      "Tests Passed\n"
     ]
    }
   ],
   "source": [
    "def flatten(x_tensor):\n",
    "    \"\"\"\n",
    "    Flatten x_tensor to (Batch Size, Flattened Image Size)\n",
    "    : x_tensor: A tensor of size (Batch Size, ...), where ... are the image dimensions.\n",
    "    : return: A tensor of size (Batch Size, Flattened Image Size).\n",
    "    \"\"\"\n",
    "    # TODO: Implement Function\n",
    "    return tf.contrib.layers.flatten(x_tensor)\n",
    "\n",
    "\n",
    "\"\"\"\n",
    "DON'T MODIFY ANYTHING IN THIS CELL THAT IS BELOW THIS LINE\n",
    "\"\"\"\n",
    "tests.test_flatten(flatten)"
   ]
  },
  {
   "cell_type": "markdown",
   "metadata": {
    "deletable": true,
    "editable": true
   },
   "source": [
    "### Fully-Connected Layer\n",
    "Implement the `fully_conn` function to apply a fully connected layer to `x_tensor` with the shape (*Batch Size*, *num_outputs*). Shortcut option: you can use classes from the [TensorFlow Layers](https://www.tensorflow.org/api_docs/python/tf/layers) or [TensorFlow Layers (contrib)](https://www.tensorflow.org/api_guides/python/contrib.layers) packages for this layer. For more of a challenge, only use other TensorFlow packages."
   ]
  },
  {
   "cell_type": "code",
   "execution_count": 63,
   "metadata": {
    "collapsed": false,
    "deletable": true,
    "editable": true
   },
   "outputs": [
    {
     "name": "stdout",
     "output_type": "stream",
     "text": [
      "Tests Passed\n"
     ]
    }
   ],
   "source": [
    "def fully_conn(x_tensor, num_outputs):\n",
    "    \"\"\"\n",
    "    Apply a fully connected layer to x_tensor using weight and bias\n",
    "    : x_tensor: A 2-D tensor where the first dimension is batch size.\n",
    "    : num_outputs: The number of output that the new tensor should be.\n",
    "    : return: A 2-D tensor where the second dimension is num_outputs.\n",
    "    \"\"\"\n",
    "    # TODO: Implement Function\n",
    "    n_features = x_tensor.get_shape().as_list()[1]\n",
    "    weight = tf.Variable(tf.truncated_normal([n_features, num_outputs], stddev=(1 / n_features ** 0.5)))\n",
    "    bias = tf.Variable(tf.zeros([num_outputs]))\n",
    "    conn = tf.add(tf.matmul(x_tensor, weight), bias)\n",
    "    conn = tf.nn.elu(conn)\n",
    "    return conn\n",
    "\n",
    "\n",
    "\"\"\"\n",
    "DON'T MODIFY ANYTHING IN THIS CELL THAT IS BELOW THIS LINE\n",
    "\"\"\"\n",
    "tests.test_fully_conn(fully_conn)"
   ]
  },
  {
   "cell_type": "markdown",
   "metadata": {
    "deletable": true,
    "editable": true
   },
   "source": [
    "### Output Layer\n",
    "Implement the `output` function to apply a fully connected layer to `x_tensor` with the shape (*Batch Size*, *num_outputs*). Shortcut option: you can use classes from the [TensorFlow Layers](https://www.tensorflow.org/api_docs/python/tf/layers) or [TensorFlow Layers (contrib)](https://www.tensorflow.org/api_guides/python/contrib.layers) packages for this layer. For more of a challenge, only use other TensorFlow packages.\n",
    "\n",
    "**Note:** Activation, softmax, or cross entropy should **not** be applied to this."
   ]
  },
  {
   "cell_type": "code",
   "execution_count": 64,
   "metadata": {
    "collapsed": false,
    "deletable": true,
    "editable": true
   },
   "outputs": [
    {
     "name": "stdout",
     "output_type": "stream",
     "text": [
      "Tests Passed\n"
     ]
    }
   ],
   "source": [
    "def output(x_tensor, num_outputs):\n",
    "    \"\"\"\n",
    "    Apply a output layer to x_tensor using weight and bias\n",
    "    : x_tensor: A 2-D tensor where the first dimension is batch size.\n",
    "    : num_outputs: The number of output that the new tensor should be.\n",
    "    : return: A 2-D tensor where the second dimension is num_outputs.\n",
    "    \"\"\"\n",
    "    # TODO: Implement Function\n",
    "    n_features = x_tensor.get_shape().as_list()[1]\n",
    "    weight = tf.Variable(tf.truncated_normal([n_features, num_outputs], stddev=(1 / n_features ** 0.5)))\n",
    "    bias = tf.Variable(tf.zeros([num_outputs]))\n",
    "    conn = tf.add(tf.matmul(x_tensor, weight), bias)\n",
    "    return conn\n",
    "\n",
    "\n",
    "\"\"\"\n",
    "DON'T MODIFY ANYTHING IN THIS CELL THAT IS BELOW THIS LINE\n",
    "\"\"\"\n",
    "tests.test_output(output)"
   ]
  },
  {
   "cell_type": "markdown",
   "metadata": {
    "deletable": true,
    "editable": true
   },
   "source": [
    "### Create Convolutional Model\n",
    "Implement the function `conv_net` to create a convolutional neural network model. The function takes in a batch of images, `x`, and outputs logits.  Use the layers you created above to create this model:\n",
    "\n",
    "* Apply 1, 2, or 3 Convolution and Max Pool layers\n",
    "* Apply a Flatten Layer\n",
    "* Apply 1, 2, or 3 Fully Connected Layers\n",
    "* Apply an Output Layer\n",
    "* Return the output\n",
    "* Apply [TensorFlow's Dropout](https://www.tensorflow.org/api_docs/python/tf/nn/dropout) to one or more layers in the model using `keep_prob`. "
   ]
  },
  {
   "cell_type": "code",
   "execution_count": 65,
   "metadata": {
    "collapsed": false,
    "deletable": true,
    "editable": true
   },
   "outputs": [
    {
     "name": "stdout",
     "output_type": "stream",
     "text": [
      "Neural Network Built!\n"
     ]
    }
   ],
   "source": [
    "def conv_net(x, keep_prob):\n",
    "    \"\"\"\n",
    "    Create a convolutional neural network model\n",
    "    : x: Placeholder tensor that holds image data.\n",
    "    : keep_prob: Placeholder tensor that hold dropout keep probability.\n",
    "    : return: Tensor that represents logits\n",
    "    \"\"\"\n",
    "    # TODO: Apply 1, 2, or 3 Convolution and Max Pool layers\n",
    "    #    Play around with different number of outputs, kernel size and stride\n",
    "    # Function Definition from Above:\n",
    "    #    conv2d_maxpool(x_tensor, conv_num_outputs, conv_ksize, conv_strides, pool_ksize, pool_strides)\n",
    "    conn = conv2d_maxpool(x, 16, [2, 2], [1, 1], [2, 2], [2, 2])\n",
    "    conn = conv2d_maxpool(conn, 32, [2, 2], [1, 1], [2, 2], [2, 2])\n",
    "\n",
    "    # TODO: Apply a Flatten Layer\n",
    "    # Function Definition from Above:\n",
    "    #   flatten(x_tensor)\n",
    "    conn = flatten(conn)\n",
    "    \n",
    "    # TODO: Apply 1, 2, or 3 Fully Connected Layers\n",
    "    #    Play around with different number of outputs\n",
    "    # Function Definition from Above:\n",
    "    #   fully_conn(x_tensor, num_outputs)\n",
    "    conn = fully_conn(conn, 24)\n",
    "    conn = tf.nn.dropout(conn, keep_prob)\n",
    "    conn = fully_conn(conn, 16)\n",
    "    \n",
    "    # TODO: Apply an Output Layer\n",
    "    #    Set this to the number of classes\n",
    "    # Function Definition from Above:\n",
    "    #   output(x_tensor, num_outputs)\n",
    "    conn = output(conn, 10)\n",
    "    \n",
    "    # TODO: return output\n",
    "    return conn\n",
    "\n",
    "\n",
    "\"\"\"\n",
    "DON'T MODIFY ANYTHING IN THIS CELL THAT IS BELOW THIS LINE\n",
    "\"\"\"\n",
    "\n",
    "##############################\n",
    "## Build the Neural Network ##\n",
    "##############################\n",
    "\n",
    "# Remove previous weights, bias, inputs, etc..\n",
    "tf.reset_default_graph()\n",
    "\n",
    "# Inputs\n",
    "x = neural_net_image_input((32, 32, 3))\n",
    "y = neural_net_label_input(10)\n",
    "keep_prob = neural_net_keep_prob_input()\n",
    "\n",
    "# Model\n",
    "logits = conv_net(x, keep_prob)\n",
    "\n",
    "# Name logits Tensor, so that is can be loaded from disk after training\n",
    "logits = tf.identity(logits, name='logits')\n",
    "\n",
    "# Loss and Optimizer\n",
    "cost = tf.reduce_mean(tf.nn.softmax_cross_entropy_with_logits(logits=logits, labels=y))\n",
    "optimizer = tf.train.AdamOptimizer().minimize(cost)\n",
    "\n",
    "# Accuracy\n",
    "correct_pred = tf.equal(tf.argmax(logits, 1), tf.argmax(y, 1))\n",
    "accuracy = tf.reduce_mean(tf.cast(correct_pred, tf.float32), name='accuracy')\n",
    "\n",
    "tests.test_conv_net(conv_net)"
   ]
  },
  {
   "cell_type": "markdown",
   "metadata": {
    "deletable": true,
    "editable": true
   },
   "source": [
    "## Train the Neural Network\n",
    "### Single Optimization\n",
    "Implement the function `train_neural_network` to do a single optimization.  The optimization should use `optimizer` to optimize in `session` with a `feed_dict` of the following:\n",
    "* `x` for image input\n",
    "* `y` for labels\n",
    "* `keep_prob` for keep probability for dropout\n",
    "\n",
    "This function will be called for each batch, so `tf.global_variables_initializer()` has already been called.\n",
    "\n",
    "Note: Nothing needs to be returned. This function is only optimizing the neural network."
   ]
  },
  {
   "cell_type": "code",
   "execution_count": 66,
   "metadata": {
    "collapsed": false,
    "deletable": true,
    "editable": true
   },
   "outputs": [
    {
     "name": "stdout",
     "output_type": "stream",
     "text": [
      "Tests Passed\n"
     ]
    }
   ],
   "source": [
    "def train_neural_network(session, optimizer, keep_probability, feature_batch, label_batch):\n",
    "    \"\"\"\n",
    "    Optimize the session on a batch of images and labels\n",
    "    : session: Current TensorFlow session\n",
    "    : optimizer: TensorFlow optimizer function\n",
    "    : keep_probability: keep probability\n",
    "    : feature_batch: Batch of Numpy image data\n",
    "    : label_batch: Batch of Numpy label data\n",
    "    \"\"\"\n",
    "    # TODO: Implement Function\n",
    "    session.run(optimizer, feed_dict={keep_prob:keep_probability, x:feature_batch, y:label_batch})\n",
    "\n",
    "\"\"\"\n",
    "DON'T MODIFY ANYTHING IN THIS CELL THAT IS BELOW THIS LINE\n",
    "\"\"\"\n",
    "tests.test_train_nn(train_neural_network)"
   ]
  },
  {
   "cell_type": "markdown",
   "metadata": {
    "deletable": true,
    "editable": true
   },
   "source": [
    "### Show Stats\n",
    "Implement the function `print_stats` to print loss and validation accuracy.  Use the global variables `valid_features` and `valid_labels` to calculate validation accuracy.  Use a keep probability of `1.0` to calculate the loss and validation accuracy."
   ]
  },
  {
   "cell_type": "code",
   "execution_count": 67,
   "metadata": {
    "collapsed": false,
    "deletable": true,
    "editable": true
   },
   "outputs": [],
   "source": [
    "def print_stats(session, feature_batch, label_batch, cost, accuracy):\n",
    "    \"\"\"\n",
    "    Print information about loss and validation accuracy\n",
    "    : session: Current TensorFlow session\n",
    "    : feature_batch: Batch of Numpy image data\n",
    "    : label_batch: Batch of Numpy label data\n",
    "    : cost: TensorFlow cost function\n",
    "    : accuracy: TensorFlow accuracy function\n",
    "    \"\"\"\n",
    "    # TODO: Implement Function\n",
    "    loss = session.run(cost, feed_dict={keep_prob:1.0, x:valid_features, y:valid_labels})\n",
    "    val_acc = session.run(accuracy, feed_dict={keep_prob:1.0, x:valid_features, y:valid_labels})\n",
    "    print('Cost : {}, Accuracy : {}\\n'.format(loss, val_acc), end='')"
   ]
  },
  {
   "cell_type": "markdown",
   "metadata": {
    "deletable": true,
    "editable": true
   },
   "source": [
    "### Hyperparameters\n",
    "Tune the following parameters:\n",
    "* Set `epochs` to the number of iterations until the network stops learning or start overfitting\n",
    "* Set `batch_size` to the highest number that your machine has memory for.  Most people set them to common sizes of memory:\n",
    " * 64\n",
    " * 128\n",
    " * 256\n",
    " * ...\n",
    "* Set `keep_probability` to the probability of keeping a node using dropout"
   ]
  },
  {
   "cell_type": "code",
   "execution_count": 68,
   "metadata": {
    "collapsed": true,
    "deletable": true,
    "editable": true
   },
   "outputs": [],
   "source": [
    "# TODO: Tune Parameters\n",
    "epochs = 100\n",
    "batch_size = 256\n",
    "keep_probability = 0.8"
   ]
  },
  {
   "cell_type": "markdown",
   "metadata": {
    "deletable": true,
    "editable": true
   },
   "source": [
    "### Train on a Single CIFAR-10 Batch\n",
    "Instead of training the neural network on all the CIFAR-10 batches of data, let's use a single batch. This should save time while you iterate on the model to get a better accuracy.  Once the final validation accuracy is 50% or greater, run the model on all the data in the next section."
   ]
  },
  {
   "cell_type": "code",
   "execution_count": 69,
   "metadata": {
    "collapsed": false,
    "deletable": true,
    "editable": true,
    "scrolled": false
   },
   "outputs": [
    {
     "name": "stdout",
     "output_type": "stream",
     "text": [
      "Checking the Training on a Single Batch...\n",
      "Epoch  1, CIFAR-10 Batch 1:  Cost : 2.0281360149383545, Accuracy : 0.26680001616477966\n",
      "Epoch  2, CIFAR-10 Batch 1:  Cost : 1.8697457313537598, Accuracy : 0.3301999568939209\n",
      "Epoch  3, CIFAR-10 Batch 1:  Cost : 1.7596235275268555, Accuracy : 0.37279999256134033\n",
      "Epoch  4, CIFAR-10 Batch 1:  Cost : 1.6909072399139404, Accuracy : 0.3811999559402466\n",
      "Epoch  5, CIFAR-10 Batch 1:  Cost : 1.635240077972412, Accuracy : 0.4050000011920929\n",
      "Epoch  6, CIFAR-10 Batch 1:  Cost : 1.608357310295105, Accuracy : 0.41119998693466187\n",
      "Epoch  7, CIFAR-10 Batch 1:  Cost : 1.554958701133728, Accuracy : 0.44119992852211\n",
      "Epoch  8, CIFAR-10 Batch 1:  Cost : 1.5244663953781128, Accuracy : 0.4533999562263489\n",
      "Epoch  9, CIFAR-10 Batch 1:  Cost : 1.5051629543304443, Accuracy : 0.45319998264312744\n",
      "Epoch 10, CIFAR-10 Batch 1:  Cost : 1.490106463432312, Accuracy : 0.4619999825954437\n",
      "Epoch 11, CIFAR-10 Batch 1:  Cost : 1.4712629318237305, Accuracy : 0.4657999277114868\n",
      "Epoch 12, CIFAR-10 Batch 1:  Cost : 1.4634606838226318, Accuracy : 0.4691999554634094\n",
      "Epoch 13, CIFAR-10 Batch 1:  Cost : 1.436397671699524, Accuracy : 0.4779999852180481\n",
      "Epoch 14, CIFAR-10 Batch 1:  Cost : 1.433368444442749, Accuracy : 0.4801999628543854\n",
      "Epoch 15, CIFAR-10 Batch 1:  Cost : 1.4041640758514404, Accuracy : 0.49379998445510864\n",
      "Epoch 16, CIFAR-10 Batch 1:  Cost : 1.4078269004821777, Accuracy : 0.4873999357223511\n",
      "Epoch 17, CIFAR-10 Batch 1:  Cost : 1.3932698965072632, Accuracy : 0.49519994854927063\n",
      "Epoch 18, CIFAR-10 Batch 1:  Cost : 1.3808585405349731, Accuracy : 0.5061999559402466\n",
      "Epoch 19, CIFAR-10 Batch 1:  Cost : 1.3770725727081299, Accuracy : 0.49939993023872375\n",
      "Epoch 20, CIFAR-10 Batch 1:  Cost : 1.3486461639404297, Accuracy : 0.5105999708175659\n",
      "Epoch 21, CIFAR-10 Batch 1:  Cost : 1.3580832481384277, Accuracy : 0.5125999450683594\n",
      "Epoch 22, CIFAR-10 Batch 1:  Cost : 1.3362739086151123, Accuracy : 0.5233999490737915\n",
      "Epoch 23, CIFAR-10 Batch 1:  Cost : 1.3428648710250854, Accuracy : 0.5201999545097351\n",
      "Epoch 24, CIFAR-10 Batch 1:  Cost : 1.3148521184921265, Accuracy : 0.5295999050140381\n",
      "Epoch 25, CIFAR-10 Batch 1:  Cost : 1.307616949081421, Accuracy : 0.5293999314308167\n",
      "Epoch 26, CIFAR-10 Batch 1:  Cost : 1.301476240158081, Accuracy : 0.5365999341011047\n",
      "Epoch 27, CIFAR-10 Batch 1:  Cost : 1.3035242557525635, Accuracy : 0.5367999076843262\n",
      "Epoch 28, CIFAR-10 Batch 1:  Cost : 1.3131122589111328, Accuracy : 0.5357999205589294\n",
      "Epoch 29, CIFAR-10 Batch 1:  Cost : 1.2955926656723022, Accuracy : 0.5377998948097229\n",
      "Epoch 30, CIFAR-10 Batch 1:  Cost : 1.3339349031448364, Accuracy : 0.524399995803833\n",
      "Epoch 31, CIFAR-10 Batch 1:  Cost : 1.2865127325057983, Accuracy : 0.5425999760627747\n",
      "Epoch 32, CIFAR-10 Batch 1:  Cost : 1.2859227657318115, Accuracy : 0.545199990272522\n",
      "Epoch 33, CIFAR-10 Batch 1:  Cost : 1.2763051986694336, Accuracy : 0.5487999320030212\n",
      "Epoch 34, CIFAR-10 Batch 1:  Cost : 1.2910453081130981, Accuracy : 0.5463999509811401\n",
      "Epoch 35, CIFAR-10 Batch 1:  Cost : 1.2855675220489502, Accuracy : 0.5483999252319336\n",
      "Epoch 36, CIFAR-10 Batch 1:  Cost : 1.274031400680542, Accuracy : 0.5513998866081238\n",
      "Epoch 37, CIFAR-10 Batch 1:  Cost : 1.2960988283157349, Accuracy : 0.5447999238967896\n",
      "Epoch 38, CIFAR-10 Batch 1:  Cost : 1.298269271850586, Accuracy : 0.5445999503135681\n",
      "Epoch 39, CIFAR-10 Batch 1:  Cost : 1.291985034942627, Accuracy : 0.5493999719619751\n",
      "Epoch 40, CIFAR-10 Batch 1:  Cost : 1.2952388525009155, Accuracy : 0.5424000024795532\n",
      "Epoch 41, CIFAR-10 Batch 1:  Cost : 1.2866686582565308, Accuracy : 0.546799898147583\n",
      "Epoch 42, CIFAR-10 Batch 1:  Cost : 1.2830326557159424, Accuracy : 0.5535999536514282\n",
      "Epoch 43, CIFAR-10 Batch 1:  Cost : 1.2819619178771973, Accuracy : 0.5605999231338501\n",
      "Epoch 44, CIFAR-10 Batch 1:  Cost : 1.2639126777648926, Accuracy : 0.5623999238014221\n",
      "Epoch 45, CIFAR-10 Batch 1:  Cost : 1.2769103050231934, Accuracy : 0.5639999508857727\n",
      "Epoch 46, CIFAR-10 Batch 1:  Cost : 1.282320261001587, Accuracy : 0.5625999569892883\n",
      "Epoch 47, CIFAR-10 Batch 1:  Cost : 1.2842711210250854, Accuracy : 0.5621999502182007\n",
      "Epoch 48, CIFAR-10 Batch 1:  Cost : 1.2764966487884521, Accuracy : 0.5607999563217163\n",
      "Epoch 49, CIFAR-10 Batch 1:  Cost : 1.2861568927764893, Accuracy : 0.5575999617576599\n",
      "Epoch 50, CIFAR-10 Batch 1:  Cost : 1.2802969217300415, Accuracy : 0.5641999244689941\n",
      "Epoch 51, CIFAR-10 Batch 1:  Cost : 1.3026925325393677, Accuracy : 0.5595999360084534\n",
      "Epoch 52, CIFAR-10 Batch 1:  Cost : 1.273745059967041, Accuracy : 0.5639999508857727\n",
      "Epoch 53, CIFAR-10 Batch 1:  Cost : 1.3165680170059204, Accuracy : 0.5577999353408813\n",
      "Epoch 54, CIFAR-10 Batch 1:  Cost : 1.2868512868881226, Accuracy : 0.5653999447822571\n",
      "Epoch 55, CIFAR-10 Batch 1:  Cost : 1.3115251064300537, Accuracy : 0.556399941444397\n",
      "Epoch 56, CIFAR-10 Batch 1:  Cost : 1.3146322965621948, Accuracy : 0.556399941444397\n",
      "Epoch 57, CIFAR-10 Batch 1:  Cost : 1.3115596771240234, Accuracy : 0.5645999312400818\n",
      "Epoch 58, CIFAR-10 Batch 1:  Cost : 1.3189212083816528, Accuracy : 0.5635999441146851\n",
      "Epoch 59, CIFAR-10 Batch 1:  Cost : 1.3160407543182373, Accuracy : 0.5715999007225037\n",
      "Epoch 60, CIFAR-10 Batch 1:  Cost : 1.3126928806304932, Accuracy : 0.567599892616272\n",
      "Epoch 61, CIFAR-10 Batch 1:  Cost : 1.3228601217269897, Accuracy : 0.5691999197006226\n",
      "Epoch 62, CIFAR-10 Batch 1:  Cost : 1.3275957107543945, Accuracy : 0.5685999393463135\n",
      "Epoch 63, CIFAR-10 Batch 1:  Cost : 1.3152377605438232, Accuracy : 0.5701999664306641\n",
      "Epoch 64, CIFAR-10 Batch 1:  Cost : 1.3519651889801025, Accuracy : 0.5645999312400818\n",
      "Epoch 65, CIFAR-10 Batch 1:  Cost : 1.353957176208496, Accuracy : 0.5639999508857727\n",
      "Epoch 66, CIFAR-10 Batch 1:  Cost : 1.3693952560424805, Accuracy : 0.5615999102592468\n",
      "Epoch 67, CIFAR-10 Batch 1:  Cost : 1.3558663129806519, Accuracy : 0.5687999725341797\n",
      "Epoch 68, CIFAR-10 Batch 1:  Cost : 1.3255959749221802, Accuracy : 0.5715999007225037\n",
      "Epoch 69, CIFAR-10 Batch 1:  Cost : 1.3705940246582031, Accuracy : 0.5691999197006226\n",
      "Epoch 70, CIFAR-10 Batch 1:  Cost : 1.3564093112945557, Accuracy : 0.5743999481201172\n",
      "Epoch 71, CIFAR-10 Batch 1:  Cost : 1.3877451419830322, Accuracy : 0.5637999176979065\n",
      "Epoch 72, CIFAR-10 Batch 1:  Cost : 1.3858399391174316, Accuracy : 0.5667998790740967\n",
      "Epoch 73, CIFAR-10 Batch 1:  Cost : 1.4476295709609985, Accuracy : 0.5593999624252319\n",
      "Epoch 74, CIFAR-10 Batch 1:  Cost : 1.3628133535385132, Accuracy : 0.5757999420166016\n",
      "Epoch 75, CIFAR-10 Batch 1:  Cost : 1.4263490438461304, Accuracy : 0.5593999028205872\n",
      "Epoch 76, CIFAR-10 Batch 1:  Cost : 1.4292739629745483, Accuracy : 0.558199942111969\n",
      "Epoch 77, CIFAR-10 Batch 1:  Cost : 1.448652982711792, Accuracy : 0.560999870300293\n",
      "Epoch 78, CIFAR-10 Batch 1:  Cost : 1.4921942949295044, Accuracy : 0.5521999001502991\n",
      "Epoch 79, CIFAR-10 Batch 1:  Cost : 1.459118366241455, Accuracy : 0.5655999779701233\n",
      "Epoch 80, CIFAR-10 Batch 1:  Cost : 1.466415286064148, Accuracy : 0.5653998851776123\n",
      "Epoch 81, CIFAR-10 Batch 1:  Cost : 1.469878911972046, Accuracy : 0.5621999502182007\n",
      "Epoch 82, CIFAR-10 Batch 1:  Cost : 1.5026592016220093, Accuracy : 0.5549998879432678\n",
      "Epoch 83, CIFAR-10 Batch 1:  Cost : 1.4711205959320068, Accuracy : 0.5655999183654785\n",
      "Epoch 84, CIFAR-10 Batch 1:  Cost : 1.4909428358078003, Accuracy : 0.5631999373435974\n",
      "Epoch 85, CIFAR-10 Batch 1:  Cost : 1.4617949724197388, Accuracy : 0.5677999258041382\n",
      "Epoch 86, CIFAR-10 Batch 1:  Cost : 1.4787944555282593, Accuracy : 0.5643999576568604\n",
      "Epoch 87, CIFAR-10 Batch 1:  Cost : 1.4861541986465454, Accuracy : 0.5689998865127563\n",
      "Epoch 88, CIFAR-10 Batch 1:  Cost : 1.493971347808838, Accuracy : 0.5657998919487\n",
      "Epoch 89, CIFAR-10 Batch 1:  Cost : 1.479900598526001, Accuracy : 0.5679999589920044\n",
      "Epoch 90, CIFAR-10 Batch 1:  Cost : 1.5152251720428467, Accuracy : 0.5607999563217163\n",
      "Epoch 91, CIFAR-10 Batch 1:  Cost : 1.5075595378875732, Accuracy : 0.5633999109268188\n",
      "Epoch 92, CIFAR-10 Batch 1:  Cost : 1.5522162914276123, Accuracy : 0.559999942779541\n",
      "Epoch 93, CIFAR-10 Batch 1:  Cost : 1.5671449899673462, Accuracy : 0.5579999089241028\n",
      "Epoch 94, CIFAR-10 Batch 1:  Cost : 1.5689079761505127, Accuracy : 0.5571999549865723\n",
      "Epoch 95, CIFAR-10 Batch 1:  Cost : 1.5489716529846191, Accuracy : 0.5607999563217163\n",
      "Epoch 96, CIFAR-10 Batch 1:  Cost : 1.5422732830047607, Accuracy : 0.5707999467849731\n",
      "Epoch 97, CIFAR-10 Batch 1:  Cost : 1.5535430908203125, Accuracy : 0.5597999691963196\n",
      "Epoch 98, CIFAR-10 Batch 1:  Cost : 1.5510382652282715, Accuracy : 0.5637999176979065\n",
      "Epoch 99, CIFAR-10 Batch 1:  Cost : 1.6066367626190186, Accuracy : 0.5553999543190002\n",
      "Epoch 100, CIFAR-10 Batch 1:  Cost : 1.6218539476394653, Accuracy : 0.5607998967170715\n"
     ]
    }
   ],
   "source": [
    "\"\"\"\n",
    "DON'T MODIFY ANYTHING IN THIS CELL\n",
    "\"\"\"\n",
    "print('Checking the Training on a Single Batch...')\n",
    "with tf.Session() as sess:\n",
    "    # Initializing the variables\n",
    "    sess.run(tf.global_variables_initializer())\n",
    "    \n",
    "    # Training cycle\n",
    "    for epoch in range(epochs):\n",
    "        batch_i = 1\n",
    "        for batch_features, batch_labels in helper.load_preprocess_training_batch(batch_i, batch_size):\n",
    "            train_neural_network(sess, optimizer, keep_probability, batch_features, batch_labels)\n",
    "        print('Epoch {:>2}, CIFAR-10 Batch {}:  '.format(epoch + 1, batch_i), end='')\n",
    "        print_stats(sess, batch_features, batch_labels, cost, accuracy)"
   ]
  },
  {
   "cell_type": "markdown",
   "metadata": {
    "deletable": true,
    "editable": true
   },
   "source": [
    "### Fully Train the Model\n",
    "Now that you got a good accuracy with a single CIFAR-10 batch, try it with all five batches."
   ]
  },
  {
   "cell_type": "code",
   "execution_count": 70,
   "metadata": {
    "collapsed": false,
    "deletable": true,
    "editable": true
   },
   "outputs": [
    {
     "name": "stdout",
     "output_type": "stream",
     "text": [
      "Training...\n",
      "Epoch  1, CIFAR-10 Batch 1:  Cost : 1.9802526235580444, Accuracy : 0.3003999888896942\n",
      "Epoch  1, CIFAR-10 Batch 2:  Cost : 1.8352779150009155, Accuracy : 0.3481999933719635\n",
      "Epoch  1, CIFAR-10 Batch 3:  Cost : 1.7679264545440674, Accuracy : 0.36799997091293335\n",
      "Epoch  1, CIFAR-10 Batch 4:  Cost : 1.6961250305175781, Accuracy : 0.40359997749328613\n",
      "Epoch  1, CIFAR-10 Batch 5:  Cost : 1.6324565410614014, Accuracy : 0.42379996180534363\n",
      "Epoch  2, CIFAR-10 Batch 1:  Cost : 1.608652949333191, Accuracy : 0.4351999759674072\n",
      "Epoch  2, CIFAR-10 Batch 2:  Cost : 1.5535821914672852, Accuracy : 0.45739996433258057\n",
      "Epoch  2, CIFAR-10 Batch 3:  Cost : 1.531291127204895, Accuracy : 0.4517999589443207\n",
      "Epoch  2, CIFAR-10 Batch 4:  Cost : 1.510702133178711, Accuracy : 0.46799996495246887\n",
      "Epoch  2, CIFAR-10 Batch 5:  Cost : 1.4596656560897827, Accuracy : 0.486799955368042\n",
      "Epoch  3, CIFAR-10 Batch 1:  Cost : 1.430023431777954, Accuracy : 0.5003999471664429\n",
      "Epoch  3, CIFAR-10 Batch 2:  Cost : 1.408257007598877, Accuracy : 0.5139999389648438\n",
      "Epoch  3, CIFAR-10 Batch 3:  Cost : 1.3906456232070923, Accuracy : 0.504599928855896\n",
      "Epoch  3, CIFAR-10 Batch 4:  Cost : 1.3890464305877686, Accuracy : 0.5137999057769775\n",
      "Epoch  3, CIFAR-10 Batch 5:  Cost : 1.355677604675293, Accuracy : 0.5281999111175537\n",
      "Epoch  4, CIFAR-10 Batch 1:  Cost : 1.3679486513137817, Accuracy : 0.5267999172210693\n",
      "Epoch  4, CIFAR-10 Batch 2:  Cost : 1.336206316947937, Accuracy : 0.5327998995780945\n",
      "Epoch  4, CIFAR-10 Batch 3:  Cost : 1.3318257331848145, Accuracy : 0.5317999720573425\n",
      "Epoch  4, CIFAR-10 Batch 4:  Cost : 1.3278958797454834, Accuracy : 0.5315998792648315\n",
      "Epoch  4, CIFAR-10 Batch 5:  Cost : 1.2847740650177002, Accuracy : 0.549799919128418\n",
      "Epoch  5, CIFAR-10 Batch 1:  Cost : 1.288756012916565, Accuracy : 0.5471999645233154\n",
      "Epoch  5, CIFAR-10 Batch 2:  Cost : 1.2754075527191162, Accuracy : 0.5577999353408813\n",
      "Epoch  5, CIFAR-10 Batch 3:  Cost : 1.2666505575180054, Accuracy : 0.5513999462127686\n",
      "Epoch  5, CIFAR-10 Batch 4:  Cost : 1.246465802192688, Accuracy : 0.5649999380111694\n",
      "Epoch  5, CIFAR-10 Batch 5:  Cost : 1.2753013372421265, Accuracy : 0.5469999313354492\n",
      "Epoch  6, CIFAR-10 Batch 1:  Cost : 1.2444148063659668, Accuracy : 0.5593999028205872\n",
      "Epoch  6, CIFAR-10 Batch 2:  Cost : 1.2251302003860474, Accuracy : 0.5745999813079834\n",
      "Epoch  6, CIFAR-10 Batch 3:  Cost : 1.2138655185699463, Accuracy : 0.5745999813079834\n",
      "Epoch  6, CIFAR-10 Batch 4:  Cost : 1.1976804733276367, Accuracy : 0.5787999629974365\n",
      "Epoch  6, CIFAR-10 Batch 5:  Cost : 1.2062628269195557, Accuracy : 0.5755999088287354\n",
      "Epoch  7, CIFAR-10 Batch 1:  Cost : 1.1955573558807373, Accuracy : 0.5817999243736267\n",
      "Epoch  7, CIFAR-10 Batch 2:  Cost : 1.179644227027893, Accuracy : 0.590799868106842\n",
      "Epoch  7, CIFAR-10 Batch 3:  Cost : 1.1826066970825195, Accuracy : 0.5895999073982239\n",
      "Epoch  7, CIFAR-10 Batch 4:  Cost : 1.171064853668213, Accuracy : 0.5893999338150024\n",
      "Epoch  7, CIFAR-10 Batch 5:  Cost : 1.1751108169555664, Accuracy : 0.5851998925209045\n",
      "Epoch  8, CIFAR-10 Batch 1:  Cost : 1.1637012958526611, Accuracy : 0.5899999141693115\n",
      "Epoch  8, CIFAR-10 Batch 2:  Cost : 1.1588804721832275, Accuracy : 0.597599983215332\n",
      "Epoch  8, CIFAR-10 Batch 3:  Cost : 1.1656116247177124, Accuracy : 0.5965999364852905\n",
      "Epoch  8, CIFAR-10 Batch 4:  Cost : 1.1417560577392578, Accuracy : 0.5971999168395996\n",
      "Epoch  8, CIFAR-10 Batch 5:  Cost : 1.1752276420593262, Accuracy : 0.5823999643325806\n",
      "Epoch  9, CIFAR-10 Batch 1:  Cost : 1.1482229232788086, Accuracy : 0.5931999087333679\n",
      "Epoch  9, CIFAR-10 Batch 2:  Cost : 1.1249638795852661, Accuracy : 0.6075999140739441\n",
      "Epoch  9, CIFAR-10 Batch 3:  Cost : 1.141817569732666, Accuracy : 0.6031998991966248\n",
      "Epoch  9, CIFAR-10 Batch 4:  Cost : 1.116183876991272, Accuracy : 0.6053999066352844\n",
      "Epoch  9, CIFAR-10 Batch 5:  Cost : 1.1295642852783203, Accuracy : 0.6029999256134033\n",
      "Epoch 10, CIFAR-10 Batch 1:  Cost : 1.1421388387680054, Accuracy : 0.6015998721122742\n",
      "Epoch 10, CIFAR-10 Batch 2:  Cost : 1.1026437282562256, Accuracy : 0.6177999377250671\n",
      "Epoch 10, CIFAR-10 Batch 3:  Cost : 1.1198291778564453, Accuracy : 0.6103999614715576\n",
      "Epoch 10, CIFAR-10 Batch 4:  Cost : 1.090376615524292, Accuracy : 0.6175999641418457\n",
      "Epoch 10, CIFAR-10 Batch 5:  Cost : 1.1431708335876465, Accuracy : 0.5939999222755432\n",
      "Epoch 11, CIFAR-10 Batch 1:  Cost : 1.0907392501831055, Accuracy : 0.6143999099731445\n",
      "Epoch 11, CIFAR-10 Batch 2:  Cost : 1.085594892501831, Accuracy : 0.6205999255180359\n",
      "Epoch 11, CIFAR-10 Batch 3:  Cost : 1.1044330596923828, Accuracy : 0.6153998970985413\n",
      "Epoch 11, CIFAR-10 Batch 4:  Cost : 1.082316279411316, Accuracy : 0.6179998517036438\n",
      "Epoch 11, CIFAR-10 Batch 5:  Cost : 1.1085522174835205, Accuracy : 0.6077999472618103\n",
      "Epoch 12, CIFAR-10 Batch 1:  Cost : 1.1159697771072388, Accuracy : 0.6063999533653259\n",
      "Epoch 12, CIFAR-10 Batch 2:  Cost : 1.064032793045044, Accuracy : 0.6243999600410461\n",
      "Epoch 12, CIFAR-10 Batch 3:  Cost : 1.0849627256393433, Accuracy : 0.6149998903274536\n",
      "Epoch 12, CIFAR-10 Batch 4:  Cost : 1.0624513626098633, Accuracy : 0.6209999322891235\n",
      "Epoch 12, CIFAR-10 Batch 5:  Cost : 1.1162043809890747, Accuracy : 0.6093998551368713\n",
      "Epoch 13, CIFAR-10 Batch 1:  Cost : 1.0845526456832886, Accuracy : 0.6125999093055725\n",
      "Epoch 13, CIFAR-10 Batch 2:  Cost : 1.0675445795059204, Accuracy : 0.6275998950004578\n",
      "Epoch 13, CIFAR-10 Batch 3:  Cost : 1.0729163885116577, Accuracy : 0.6221998929977417\n",
      "Epoch 13, CIFAR-10 Batch 4:  Cost : 1.0458533763885498, Accuracy : 0.6321998834609985\n",
      "Epoch 13, CIFAR-10 Batch 5:  Cost : 1.05792236328125, Accuracy : 0.6279999613761902\n",
      "Epoch 14, CIFAR-10 Batch 1:  Cost : 1.0710394382476807, Accuracy : 0.622999906539917\n",
      "Epoch 14, CIFAR-10 Batch 2:  Cost : 1.048410415649414, Accuracy : 0.6291998624801636\n",
      "Epoch 14, CIFAR-10 Batch 3:  Cost : 1.0641272068023682, Accuracy : 0.6235998868942261\n",
      "Epoch 14, CIFAR-10 Batch 4:  Cost : 1.0377975702285767, Accuracy : 0.6281999349594116\n",
      "Epoch 14, CIFAR-10 Batch 5:  Cost : 1.0713226795196533, Accuracy : 0.619999885559082\n",
      "Epoch 15, CIFAR-10 Batch 1:  Cost : 1.0375198125839233, Accuracy : 0.6333998441696167\n",
      "Epoch 15, CIFAR-10 Batch 2:  Cost : 1.0535497665405273, Accuracy : 0.6311998963356018\n",
      "Epoch 15, CIFAR-10 Batch 3:  Cost : 1.0471171140670776, Accuracy : 0.6303999423980713\n",
      "Epoch 15, CIFAR-10 Batch 4:  Cost : 1.0346312522888184, Accuracy : 0.6317998766899109\n",
      "Epoch 15, CIFAR-10 Batch 5:  Cost : 1.0865485668182373, Accuracy : 0.6115999221801758\n",
      "Epoch 16, CIFAR-10 Batch 1:  Cost : 1.034621238708496, Accuracy : 0.6391999125480652\n",
      "Epoch 16, CIFAR-10 Batch 2:  Cost : 1.0480254888534546, Accuracy : 0.6349998712539673\n",
      "Epoch 16, CIFAR-10 Batch 3:  Cost : 1.0267834663391113, Accuracy : 0.6397998929023743\n",
      "Epoch 16, CIFAR-10 Batch 4:  Cost : 1.0178413391113281, Accuracy : 0.6377999186515808\n",
      "Epoch 16, CIFAR-10 Batch 5:  Cost : 1.0367628335952759, Accuracy : 0.6385998725891113\n",
      "Epoch 17, CIFAR-10 Batch 1:  Cost : 1.0171443223953247, Accuracy : 0.6439998149871826\n",
      "Epoch 17, CIFAR-10 Batch 2:  Cost : 1.0290762186050415, Accuracy : 0.6397998929023743\n",
      "Epoch 17, CIFAR-10 Batch 3:  Cost : 1.0291095972061157, Accuracy : 0.6367998719215393\n",
      "Epoch 17, CIFAR-10 Batch 4:  Cost : 1.0108609199523926, Accuracy : 0.637199878692627\n",
      "Epoch 17, CIFAR-10 Batch 5:  Cost : 1.0469914674758911, Accuracy : 0.630599856376648\n",
      "Epoch 18, CIFAR-10 Batch 1:  Cost : 1.0132724046707153, Accuracy : 0.6415998339653015\n",
      "Epoch 18, CIFAR-10 Batch 2:  Cost : 1.0173397064208984, Accuracy : 0.6413999199867249\n",
      "Epoch 18, CIFAR-10 Batch 3:  Cost : 1.015741229057312, Accuracy : 0.6459999084472656\n",
      "Epoch 18, CIFAR-10 Batch 4:  Cost : 1.0086026191711426, Accuracy : 0.6409999132156372\n",
      "Epoch 18, CIFAR-10 Batch 5:  Cost : 1.030098557472229, Accuracy : 0.6363999247550964\n",
      "Epoch 19, CIFAR-10 Batch 1:  Cost : 1.0110784769058228, Accuracy : 0.6469998359680176\n",
      "Epoch 19, CIFAR-10 Batch 2:  Cost : 1.0327117443084717, Accuracy : 0.6391999125480652\n",
      "Epoch 19, CIFAR-10 Batch 3:  Cost : 1.024234414100647, Accuracy : 0.6413998603820801\n",
      "Epoch 19, CIFAR-10 Batch 4:  Cost : 0.9999657869338989, Accuracy : 0.643799901008606\n",
      "Epoch 19, CIFAR-10 Batch 5:  Cost : 1.0142003297805786, Accuracy : 0.6449998617172241\n",
      "Epoch 20, CIFAR-10 Batch 1:  Cost : 1.0048131942749023, Accuracy : 0.6475998759269714\n",
      "Epoch 20, CIFAR-10 Batch 2:  Cost : 1.019951343536377, Accuracy : 0.6463998556137085\n",
      "Epoch 20, CIFAR-10 Batch 3:  Cost : 1.021724820137024, Accuracy : 0.6467998623847961\n",
      "Epoch 20, CIFAR-10 Batch 4:  Cost : 0.9960883855819702, Accuracy : 0.6447998881340027\n",
      "Epoch 20, CIFAR-10 Batch 5:  Cost : 0.9981648921966553, Accuracy : 0.6467998623847961\n",
      "Epoch 21, CIFAR-10 Batch 1:  Cost : 0.99717116355896, Accuracy : 0.6523998975753784\n",
      "Epoch 21, CIFAR-10 Batch 2:  Cost : 1.0179184675216675, Accuracy : 0.6501999497413635\n",
      "Epoch 21, CIFAR-10 Batch 3:  Cost : 1.0145535469055176, Accuracy : 0.6451998353004456\n",
      "Epoch 21, CIFAR-10 Batch 4:  Cost : 0.9879087209701538, Accuracy : 0.6535999178886414\n",
      "Epoch 21, CIFAR-10 Batch 5:  Cost : 0.9845266938209534, Accuracy : 0.6499998569488525\n",
      "Epoch 22, CIFAR-10 Batch 1:  Cost : 0.9947278499603271, Accuracy : 0.6493999361991882\n",
      "Epoch 22, CIFAR-10 Batch 2:  Cost : 1.017722487449646, Accuracy : 0.6459999084472656\n",
      "Epoch 22, CIFAR-10 Batch 3:  Cost : 1.0288691520690918, Accuracy : 0.6447998881340027\n",
      "Epoch 22, CIFAR-10 Batch 4:  Cost : 0.9890955090522766, Accuracy : 0.6463998556137085\n",
      "Epoch 22, CIFAR-10 Batch 5:  Cost : 0.9813872575759888, Accuracy : 0.6525999307632446\n",
      "Epoch 23, CIFAR-10 Batch 1:  Cost : 0.9827174544334412, Accuracy : 0.6553998589515686\n",
      "Epoch 23, CIFAR-10 Batch 2:  Cost : 1.0028386116027832, Accuracy : 0.6549999117851257\n",
      "Epoch 23, CIFAR-10 Batch 3:  Cost : 1.0049688816070557, Accuracy : 0.650399923324585\n",
      "Epoch 23, CIFAR-10 Batch 4:  Cost : 0.9879990220069885, Accuracy : 0.650999903678894\n",
      "Epoch 23, CIFAR-10 Batch 5:  Cost : 0.9882326126098633, Accuracy : 0.6517998576164246\n",
      "Epoch 24, CIFAR-10 Batch 1:  Cost : 0.9859157800674438, Accuracy : 0.656999945640564\n",
      "Epoch 24, CIFAR-10 Batch 2:  Cost : 0.9955793619155884, Accuracy : 0.6533998847007751\n",
      "Epoch 24, CIFAR-10 Batch 3:  Cost : 0.9902087450027466, Accuracy : 0.658599853515625\n",
      "Epoch 24, CIFAR-10 Batch 4:  Cost : 0.9843335747718811, Accuracy : 0.6531999111175537\n",
      "Epoch 24, CIFAR-10 Batch 5:  Cost : 0.9791933298110962, Accuracy : 0.6577998995780945\n",
      "Epoch 25, CIFAR-10 Batch 1:  Cost : 0.9833115935325623, Accuracy : 0.6577998995780945\n",
      "Epoch 25, CIFAR-10 Batch 2:  Cost : 0.9823310375213623, Accuracy : 0.6533998847007751\n",
      "Epoch 25, CIFAR-10 Batch 3:  Cost : 0.9837954044342041, Accuracy : 0.663399875164032\n",
      "Epoch 25, CIFAR-10 Batch 4:  Cost : 0.989733099937439, Accuracy : 0.6529999375343323\n",
      "Epoch 25, CIFAR-10 Batch 5:  Cost : 0.9817357063293457, Accuracy : 0.656999945640564\n",
      "Epoch 26, CIFAR-10 Batch 1:  Cost : 0.9746623039245605, Accuracy : 0.6593998670578003\n",
      "Epoch 26, CIFAR-10 Batch 2:  Cost : 0.9885149598121643, Accuracy : 0.6599998474121094\n",
      "Epoch 26, CIFAR-10 Batch 3:  Cost : 0.99366295337677, Accuracy : 0.6563999056816101\n",
      "Epoch 26, CIFAR-10 Batch 4:  Cost : 0.9906245470046997, Accuracy : 0.6535999178886414\n",
      "Epoch 26, CIFAR-10 Batch 5:  Cost : 0.9813461303710938, Accuracy : 0.6579998731613159\n",
      "Epoch 27, CIFAR-10 Batch 1:  Cost : 0.9741765856742859, Accuracy : 0.6633999347686768\n",
      "Epoch 27, CIFAR-10 Batch 2:  Cost : 0.9874277710914612, Accuracy : 0.6591998338699341\n",
      "Epoch 27, CIFAR-10 Batch 3:  Cost : 0.9820635318756104, Accuracy : 0.6647998690605164\n",
      "Epoch 27, CIFAR-10 Batch 4:  Cost : 0.9890318512916565, Accuracy : 0.6487998962402344\n",
      "Epoch 27, CIFAR-10 Batch 5:  Cost : 0.9764711260795593, Accuracy : 0.6609998345375061\n",
      "Epoch 28, CIFAR-10 Batch 1:  Cost : 0.9708825349807739, Accuracy : 0.6623998880386353\n",
      "Epoch 28, CIFAR-10 Batch 2:  Cost : 0.9898971915245056, Accuracy : 0.660399854183197\n",
      "Epoch 28, CIFAR-10 Batch 3:  Cost : 0.9895767569541931, Accuracy : 0.6619998812675476\n",
      "Epoch 28, CIFAR-10 Batch 4:  Cost : 0.9867499470710754, Accuracy : 0.6569998860359192\n",
      "Epoch 28, CIFAR-10 Batch 5:  Cost : 0.9778040051460266, Accuracy : 0.6593999266624451\n",
      "Epoch 29, CIFAR-10 Batch 1:  Cost : 0.9706428647041321, Accuracy : 0.6629998683929443\n",
      "Epoch 29, CIFAR-10 Batch 2:  Cost : 0.9956746697425842, Accuracy : 0.6561998724937439\n",
      "Epoch 29, CIFAR-10 Batch 3:  Cost : 0.9751778841018677, Accuracy : 0.6653999090194702\n",
      "Epoch 29, CIFAR-10 Batch 4:  Cost : 0.9930785298347473, Accuracy : 0.6545998454093933\n",
      "Epoch 29, CIFAR-10 Batch 5:  Cost : 0.9789133071899414, Accuracy : 0.6597999334335327\n",
      "Epoch 30, CIFAR-10 Batch 1:  Cost : 0.9782226085662842, Accuracy : 0.6655998229980469\n",
      "Epoch 30, CIFAR-10 Batch 2:  Cost : 0.9848843216896057, Accuracy : 0.6607999205589294\n",
      "Epoch 30, CIFAR-10 Batch 3:  Cost : 0.9761837720870972, Accuracy : 0.6629998683929443\n",
      "Epoch 30, CIFAR-10 Batch 4:  Cost : 0.9772225618362427, Accuracy : 0.6599999070167542\n",
      "Epoch 30, CIFAR-10 Batch 5:  Cost : 0.9813587665557861, Accuracy : 0.6645998954772949\n",
      "Epoch 31, CIFAR-10 Batch 1:  Cost : 0.967544674873352, Accuracy : 0.6703999042510986\n",
      "Epoch 31, CIFAR-10 Batch 2:  Cost : 1.0077580213546753, Accuracy : 0.6513998508453369\n",
      "Epoch 31, CIFAR-10 Batch 3:  Cost : 0.9914807081222534, Accuracy : 0.6623998880386353\n",
      "Epoch 31, CIFAR-10 Batch 4:  Cost : 1.0057094097137451, Accuracy : 0.6537998914718628\n",
      "Epoch 31, CIFAR-10 Batch 5:  Cost : 0.9678184986114502, Accuracy : 0.6665998697280884\n",
      "Epoch 32, CIFAR-10 Batch 1:  Cost : 0.9792852997779846, Accuracy : 0.666199803352356\n",
      "Epoch 32, CIFAR-10 Batch 2:  Cost : 1.0087027549743652, Accuracy : 0.6605998873710632\n",
      "Epoch 32, CIFAR-10 Batch 3:  Cost : 0.9829983711242676, Accuracy : 0.6615999341011047\n",
      "Epoch 32, CIFAR-10 Batch 4:  Cost : 0.9879406690597534, Accuracy : 0.6569998860359192\n",
      "Epoch 32, CIFAR-10 Batch 5:  Cost : 0.980728268623352, Accuracy : 0.66159987449646\n",
      "Epoch 33, CIFAR-10 Batch 1:  Cost : 0.9753603339195251, Accuracy : 0.6627998948097229\n",
      "Epoch 33, CIFAR-10 Batch 2:  Cost : 1.002451777458191, Accuracy : 0.656999945640564\n",
      "Epoch 33, CIFAR-10 Batch 3:  Cost : 0.9790578484535217, Accuracy : 0.6665998697280884\n",
      "Epoch 33, CIFAR-10 Batch 4:  Cost : 0.9917881488800049, Accuracy : 0.657599925994873\n",
      "Epoch 33, CIFAR-10 Batch 5:  Cost : 0.9705341458320618, Accuracy : 0.6663998961448669\n",
      "Epoch 34, CIFAR-10 Batch 1:  Cost : 0.9822378158569336, Accuracy : 0.6609998941421509\n",
      "Epoch 34, CIFAR-10 Batch 2:  Cost : 0.9937331676483154, Accuracy : 0.6609999537467957\n",
      "Epoch 34, CIFAR-10 Batch 3:  Cost : 0.9885255694389343, Accuracy : 0.6597999334335327\n",
      "Epoch 34, CIFAR-10 Batch 4:  Cost : 0.9951271414756775, Accuracy : 0.6571999192237854\n",
      "Epoch 34, CIFAR-10 Batch 5:  Cost : 0.970352292060852, Accuracy : 0.6683999300003052\n",
      "Epoch 35, CIFAR-10 Batch 1:  Cost : 0.9737548828125, Accuracy : 0.6649998426437378\n",
      "Epoch 35, CIFAR-10 Batch 2:  Cost : 1.0009033679962158, Accuracy : 0.6621999144554138\n",
      "Epoch 35, CIFAR-10 Batch 3:  Cost : 0.9817031025886536, Accuracy : 0.669999897480011\n",
      "Epoch 35, CIFAR-10 Batch 4:  Cost : 1.0196131467819214, Accuracy : 0.650999903678894\n",
      "Epoch 35, CIFAR-10 Batch 5:  Cost : 0.9706154465675354, Accuracy : 0.668199896812439\n",
      "Epoch 36, CIFAR-10 Batch 1:  Cost : 0.980625331401825, Accuracy : 0.6603999137878418\n",
      "Epoch 36, CIFAR-10 Batch 2:  Cost : 0.9920548796653748, Accuracy : 0.6655998826026917\n",
      "Epoch 36, CIFAR-10 Batch 3:  Cost : 0.9701019525527954, Accuracy : 0.6727998852729797\n",
      "Epoch 36, CIFAR-10 Batch 4:  Cost : 0.9900825023651123, Accuracy : 0.6611998677253723\n",
      "Epoch 36, CIFAR-10 Batch 5:  Cost : 0.9822158217430115, Accuracy : 0.665199875831604\n",
      "Epoch 37, CIFAR-10 Batch 1:  Cost : 0.9802682995796204, Accuracy : 0.6639999151229858\n",
      "Epoch 37, CIFAR-10 Batch 2:  Cost : 0.9863317608833313, Accuracy : 0.6647998690605164\n",
      "Epoch 37, CIFAR-10 Batch 3:  Cost : 0.9627295732498169, Accuracy : 0.6695998311042786\n",
      "Epoch 37, CIFAR-10 Batch 4:  Cost : 0.9833365678787231, Accuracy : 0.6607998609542847\n",
      "Epoch 37, CIFAR-10 Batch 5:  Cost : 0.9819349646568298, Accuracy : 0.6661999225616455\n",
      "Epoch 38, CIFAR-10 Batch 1:  Cost : 0.9833158850669861, Accuracy : 0.6619999408721924\n",
      "Epoch 38, CIFAR-10 Batch 2:  Cost : 0.9972684383392334, Accuracy : 0.6643999218940735\n",
      "Epoch 38, CIFAR-10 Batch 3:  Cost : 0.9670793414115906, Accuracy : 0.6709998846054077\n",
      "Epoch 38, CIFAR-10 Batch 4:  Cost : 0.9870624542236328, Accuracy : 0.658599853515625\n",
      "Epoch 38, CIFAR-10 Batch 5:  Cost : 0.9923121929168701, Accuracy : 0.6657998561859131\n",
      "Epoch 39, CIFAR-10 Batch 1:  Cost : 0.9782313108444214, Accuracy : 0.6643999218940735\n",
      "Epoch 39, CIFAR-10 Batch 2:  Cost : 1.0030796527862549, Accuracy : 0.6603999137878418\n",
      "Epoch 39, CIFAR-10 Batch 3:  Cost : 0.9658330082893372, Accuracy : 0.6689999103546143\n",
      "Epoch 39, CIFAR-10 Batch 4:  Cost : 0.9832618236541748, Accuracy : 0.6645998954772949\n",
      "Epoch 39, CIFAR-10 Batch 5:  Cost : 0.982804000377655, Accuracy : 0.6663998961448669\n",
      "Epoch 40, CIFAR-10 Batch 1:  Cost : 0.9781192541122437, Accuracy : 0.6657999753952026\n",
      "Epoch 40, CIFAR-10 Batch 2:  Cost : 1.0228279829025269, Accuracy : 0.64739990234375\n",
      "Epoch 40, CIFAR-10 Batch 3:  Cost : 0.9745990633964539, Accuracy : 0.6721999049186707\n",
      "Epoch 40, CIFAR-10 Batch 4:  Cost : 0.9888180494308472, Accuracy : 0.6629998683929443\n",
      "Epoch 40, CIFAR-10 Batch 5:  Cost : 0.9790817499160767, Accuracy : 0.6679999232292175\n",
      "Epoch 41, CIFAR-10 Batch 1:  Cost : 0.974554181098938, Accuracy : 0.6667999029159546\n",
      "Epoch 41, CIFAR-10 Batch 2:  Cost : 0.9993957281112671, Accuracy : 0.6595999002456665\n",
      "Epoch 41, CIFAR-10 Batch 3:  Cost : 0.9824013710021973, Accuracy : 0.6675999164581299\n",
      "Epoch 41, CIFAR-10 Batch 4:  Cost : 0.989670991897583, Accuracy : 0.6627998352050781\n",
      "Epoch 41, CIFAR-10 Batch 5:  Cost : 0.9760048985481262, Accuracy : 0.6679998636245728\n",
      "Epoch 42, CIFAR-10 Batch 1:  Cost : 0.9735127091407776, Accuracy : 0.6691998839378357\n",
      "Epoch 42, CIFAR-10 Batch 2:  Cost : 1.0132012367248535, Accuracy : 0.6625999212265015\n",
      "Epoch 42, CIFAR-10 Batch 3:  Cost : 0.9694530963897705, Accuracy : 0.6711998581886292\n",
      "Epoch 42, CIFAR-10 Batch 4:  Cost : 0.9974789619445801, Accuracy : 0.6605998873710632\n",
      "Epoch 42, CIFAR-10 Batch 5:  Cost : 1.000603437423706, Accuracy : 0.6619998812675476\n",
      "Epoch 43, CIFAR-10 Batch 1:  Cost : 0.996692955493927, Accuracy : 0.6609998941421509\n",
      "Epoch 43, CIFAR-10 Batch 2:  Cost : 1.0097252130508423, Accuracy : 0.6565998792648315\n",
      "Epoch 43, CIFAR-10 Batch 3:  Cost : 0.9837932586669922, Accuracy : 0.663399875164032\n",
      "Epoch 43, CIFAR-10 Batch 4:  Cost : 0.9928916096687317, Accuracy : 0.6581999063491821\n",
      "Epoch 43, CIFAR-10 Batch 5:  Cost : 0.98248690366745, Accuracy : 0.6645998954772949\n",
      "Epoch 44, CIFAR-10 Batch 1:  Cost : 0.986672043800354, Accuracy : 0.6643998622894287\n",
      "Epoch 44, CIFAR-10 Batch 2:  Cost : 1.0262852907180786, Accuracy : 0.6517999172210693\n",
      "Epoch 44, CIFAR-10 Batch 3:  Cost : 0.9689728021621704, Accuracy : 0.6699998378753662\n",
      "Epoch 44, CIFAR-10 Batch 4:  Cost : 1.0007444620132446, Accuracy : 0.6573999524116516\n",
      "Epoch 44, CIFAR-10 Batch 5:  Cost : 0.9759546518325806, Accuracy : 0.6695998907089233\n",
      "Epoch 45, CIFAR-10 Batch 1:  Cost : 0.9882197380065918, Accuracy : 0.665199875831604\n",
      "Epoch 45, CIFAR-10 Batch 2:  Cost : 1.0199460983276367, Accuracy : 0.6559998989105225\n",
      "Epoch 45, CIFAR-10 Batch 3:  Cost : 0.9698935151100159, Accuracy : 0.6711998581886292\n",
      "Epoch 45, CIFAR-10 Batch 4:  Cost : 1.0000709295272827, Accuracy : 0.6583999395370483\n",
      "Epoch 45, CIFAR-10 Batch 5:  Cost : 0.9818620681762695, Accuracy : 0.6695998907089233\n",
      "Epoch 46, CIFAR-10 Batch 1:  Cost : 0.9875712990760803, Accuracy : 0.6667999029159546\n",
      "Epoch 46, CIFAR-10 Batch 2:  Cost : 1.0082499980926514, Accuracy : 0.6631998419761658\n",
      "Epoch 46, CIFAR-10 Batch 3:  Cost : 0.9829154014587402, Accuracy : 0.6685999035835266\n",
      "Epoch 46, CIFAR-10 Batch 4:  Cost : 1.0151069164276123, Accuracy : 0.6541998982429504\n",
      "Epoch 46, CIFAR-10 Batch 5:  Cost : 0.9870770573616028, Accuracy : 0.6689998507499695\n",
      "Epoch 47, CIFAR-10 Batch 1:  Cost : 0.9975877404212952, Accuracy : 0.6621999144554138\n",
      "Epoch 47, CIFAR-10 Batch 2:  Cost : 1.0287383794784546, Accuracy : 0.6553997993469238\n",
      "Epoch 47, CIFAR-10 Batch 3:  Cost : 0.9935121536254883, Accuracy : 0.6575998663902283\n",
      "Epoch 47, CIFAR-10 Batch 4:  Cost : 0.9886329770088196, Accuracy : 0.6617999076843262\n",
      "Epoch 47, CIFAR-10 Batch 5:  Cost : 0.9810531735420227, Accuracy : 0.6701998710632324\n",
      "Epoch 48, CIFAR-10 Batch 1:  Cost : 0.987472414970398, Accuracy : 0.6661998629570007\n",
      "Epoch 48, CIFAR-10 Batch 2:  Cost : 1.0072284936904907, Accuracy : 0.6635998487472534\n",
      "Epoch 48, CIFAR-10 Batch 3:  Cost : 0.9794740676879883, Accuracy : 0.6693998575210571\n",
      "Epoch 48, CIFAR-10 Batch 4:  Cost : 0.9987942576408386, Accuracy : 0.660399854183197\n",
      "Epoch 48, CIFAR-10 Batch 5:  Cost : 0.984161913394928, Accuracy : 0.6675999164581299\n",
      "Epoch 49, CIFAR-10 Batch 1:  Cost : 0.9955921173095703, Accuracy : 0.6635999083518982\n",
      "Epoch 49, CIFAR-10 Batch 2:  Cost : 1.0206913948059082, Accuracy : 0.6585999131202698\n",
      "Epoch 49, CIFAR-10 Batch 3:  Cost : 0.991486668586731, Accuracy : 0.6647998690605164\n",
      "Epoch 49, CIFAR-10 Batch 4:  Cost : 1.0082141160964966, Accuracy : 0.656799852848053\n",
      "Epoch 49, CIFAR-10 Batch 5:  Cost : 0.9891020059585571, Accuracy : 0.6673998832702637\n",
      "Epoch 50, CIFAR-10 Batch 1:  Cost : 0.9972448348999023, Accuracy : 0.6633999347686768\n",
      "Epoch 50, CIFAR-10 Batch 2:  Cost : 1.036116361618042, Accuracy : 0.6577998399734497\n",
      "Epoch 50, CIFAR-10 Batch 3:  Cost : 0.9870008826255798, Accuracy : 0.6665998697280884\n",
      "Epoch 50, CIFAR-10 Batch 4:  Cost : 0.9905625581741333, Accuracy : 0.6639997959136963\n",
      "Epoch 50, CIFAR-10 Batch 5:  Cost : 0.9755213856697083, Accuracy : 0.671799898147583\n",
      "Epoch 51, CIFAR-10 Batch 1:  Cost : 1.0059576034545898, Accuracy : 0.6625998616218567\n",
      "Epoch 51, CIFAR-10 Batch 2:  Cost : 1.0345157384872437, Accuracy : 0.6535998582839966\n",
      "Epoch 51, CIFAR-10 Batch 3:  Cost : 0.9915542006492615, Accuracy : 0.6657998561859131\n",
      "Epoch 51, CIFAR-10 Batch 4:  Cost : 1.0022984743118286, Accuracy : 0.6621999144554138\n",
      "Epoch 51, CIFAR-10 Batch 5:  Cost : 0.9858584403991699, Accuracy : 0.6723998785018921\n",
      "Epoch 52, CIFAR-10 Batch 1:  Cost : 1.0143458843231201, Accuracy : 0.6569998860359192\n",
      "Epoch 52, CIFAR-10 Batch 2:  Cost : 1.018877387046814, Accuracy : 0.6559998989105225\n",
      "Epoch 52, CIFAR-10 Batch 3:  Cost : 0.9870566725730896, Accuracy : 0.6679998636245728\n",
      "Epoch 52, CIFAR-10 Batch 4:  Cost : 0.996153712272644, Accuracy : 0.6665998697280884\n",
      "Epoch 52, CIFAR-10 Batch 5:  Cost : 0.992554783821106, Accuracy : 0.6677998900413513\n",
      "Epoch 53, CIFAR-10 Batch 1:  Cost : 0.9927240014076233, Accuracy : 0.6685999035835266\n",
      "Epoch 53, CIFAR-10 Batch 2:  Cost : 1.0226290225982666, Accuracy : 0.6579998731613159\n",
      "Epoch 53, CIFAR-10 Batch 3:  Cost : 0.9995869994163513, Accuracy : 0.6647998094558716\n",
      "Epoch 53, CIFAR-10 Batch 4:  Cost : 1.0116500854492188, Accuracy : 0.6563999056816101\n",
      "Epoch 53, CIFAR-10 Batch 5:  Cost : 1.0009430646896362, Accuracy : 0.6655998826026917\n",
      "Epoch 54, CIFAR-10 Batch 1:  Cost : 0.9954771995544434, Accuracy : 0.6647999286651611\n",
      "Epoch 54, CIFAR-10 Batch 2:  Cost : 1.0291422605514526, Accuracy : 0.6609998941421509\n",
      "Epoch 54, CIFAR-10 Batch 3:  Cost : 0.9926643967628479, Accuracy : 0.6673998832702637\n",
      "Epoch 54, CIFAR-10 Batch 4:  Cost : 0.9973399639129639, Accuracy : 0.6613998413085938\n",
      "Epoch 54, CIFAR-10 Batch 5:  Cost : 0.9865569472312927, Accuracy : 0.671799898147583\n",
      "Epoch 55, CIFAR-10 Batch 1:  Cost : 0.991082489490509, Accuracy : 0.6709998846054077\n",
      "Epoch 55, CIFAR-10 Batch 2:  Cost : 1.0463201999664307, Accuracy : 0.6511998772621155\n",
      "Epoch 55, CIFAR-10 Batch 3:  Cost : 0.9874409437179565, Accuracy : 0.668199896812439\n",
      "Epoch 55, CIFAR-10 Batch 4:  Cost : 0.9961507320404053, Accuracy : 0.665199875831604\n",
      "Epoch 55, CIFAR-10 Batch 5:  Cost : 0.9966750144958496, Accuracy : 0.6703998446464539\n",
      "Epoch 56, CIFAR-10 Batch 1:  Cost : 1.0099306106567383, Accuracy : 0.6601998805999756\n",
      "Epoch 56, CIFAR-10 Batch 2:  Cost : 1.0201207399368286, Accuracy : 0.663399875164032\n",
      "Epoch 56, CIFAR-10 Batch 3:  Cost : 1.004820466041565, Accuracy : 0.6611999273300171\n",
      "Epoch 56, CIFAR-10 Batch 4:  Cost : 0.9955012798309326, Accuracy : 0.6665998697280884\n",
      "Epoch 56, CIFAR-10 Batch 5:  Cost : 0.9957193732261658, Accuracy : 0.6683998107910156\n",
      "Epoch 57, CIFAR-10 Batch 1:  Cost : 1.014086127281189, Accuracy : 0.6617999076843262\n",
      "Epoch 57, CIFAR-10 Batch 2:  Cost : 1.044029712677002, Accuracy : 0.6543998718261719\n",
      "Epoch 57, CIFAR-10 Batch 3:  Cost : 1.0079675912857056, Accuracy : 0.665199875831604\n",
      "Epoch 57, CIFAR-10 Batch 4:  Cost : 1.0082073211669922, Accuracy : 0.6635999083518982\n",
      "Epoch 57, CIFAR-10 Batch 5:  Cost : 0.9841262102127075, Accuracy : 0.6689998507499695\n",
      "Epoch 58, CIFAR-10 Batch 1:  Cost : 1.0047858953475952, Accuracy : 0.6623998880386353\n",
      "Epoch 58, CIFAR-10 Batch 2:  Cost : 1.0266717672348022, Accuracy : 0.6587998867034912\n",
      "Epoch 58, CIFAR-10 Batch 3:  Cost : 0.9997602105140686, Accuracy : 0.6607999205589294\n",
      "Epoch 58, CIFAR-10 Batch 4:  Cost : 1.0015063285827637, Accuracy : 0.663399875164032\n",
      "Epoch 58, CIFAR-10 Batch 5:  Cost : 0.988667368888855, Accuracy : 0.6677998900413513\n",
      "Epoch 59, CIFAR-10 Batch 1:  Cost : 1.0078744888305664, Accuracy : 0.6603999137878418\n",
      "Epoch 59, CIFAR-10 Batch 2:  Cost : 1.0137994289398193, Accuracy : 0.6625998020172119\n",
      "Epoch 59, CIFAR-10 Batch 3:  Cost : 1.022968053817749, Accuracy : 0.6595998406410217\n",
      "Epoch 59, CIFAR-10 Batch 4:  Cost : 0.9995882511138916, Accuracy : 0.6611998677253723\n",
      "Epoch 59, CIFAR-10 Batch 5:  Cost : 0.9913033843040466, Accuracy : 0.6709998250007629\n",
      "Epoch 60, CIFAR-10 Batch 1:  Cost : 1.0076885223388672, Accuracy : 0.6673998236656189\n",
      "Epoch 60, CIFAR-10 Batch 2:  Cost : 1.0131937265396118, Accuracy : 0.6595998406410217\n",
      "Epoch 60, CIFAR-10 Batch 3:  Cost : 1.006593942642212, Accuracy : 0.6675998568534851\n",
      "Epoch 60, CIFAR-10 Batch 4:  Cost : 1.0008299350738525, Accuracy : 0.6647998690605164\n",
      "Epoch 60, CIFAR-10 Batch 5:  Cost : 0.9914169311523438, Accuracy : 0.6709998250007629\n",
      "Epoch 61, CIFAR-10 Batch 1:  Cost : 1.0025177001953125, Accuracy : 0.6679998636245728\n",
      "Epoch 61, CIFAR-10 Batch 2:  Cost : 1.0227998495101929, Accuracy : 0.6597998142242432\n",
      "Epoch 61, CIFAR-10 Batch 3:  Cost : 1.002807378768921, Accuracy : 0.6677998900413513\n",
      "Epoch 61, CIFAR-10 Batch 4:  Cost : 1.0070927143096924, Accuracy : 0.6625999212265015\n",
      "Epoch 61, CIFAR-10 Batch 5:  Cost : 0.9918813705444336, Accuracy : 0.6671999096870422\n",
      "Epoch 62, CIFAR-10 Batch 1:  Cost : 1.0182104110717773, Accuracy : 0.6645998954772949\n",
      "Epoch 62, CIFAR-10 Batch 2:  Cost : 1.0250225067138672, Accuracy : 0.6589999198913574\n",
      "Epoch 62, CIFAR-10 Batch 3:  Cost : 1.0106160640716553, Accuracy : 0.6617999076843262\n",
      "Epoch 62, CIFAR-10 Batch 4:  Cost : 1.0115317106246948, Accuracy : 0.6645998954772949\n",
      "Epoch 62, CIFAR-10 Batch 5:  Cost : 0.9989610314369202, Accuracy : 0.6679998636245728\n",
      "Epoch 63, CIFAR-10 Batch 1:  Cost : 1.0157711505889893, Accuracy : 0.665199875831604\n",
      "Epoch 63, CIFAR-10 Batch 2:  Cost : 1.0170953273773193, Accuracy : 0.6581999063491821\n",
      "Epoch 63, CIFAR-10 Batch 3:  Cost : 1.0240074396133423, Accuracy : 0.6607998609542847\n",
      "Epoch 63, CIFAR-10 Batch 4:  Cost : 1.0043941736221313, Accuracy : 0.6645998954772949\n",
      "Epoch 63, CIFAR-10 Batch 5:  Cost : 0.9934784770011902, Accuracy : 0.6671998500823975\n",
      "Epoch 64, CIFAR-10 Batch 1:  Cost : 1.0088465213775635, Accuracy : 0.6657998561859131\n",
      "Epoch 64, CIFAR-10 Batch 2:  Cost : 1.019856572151184, Accuracy : 0.6617999076843262\n",
      "Epoch 64, CIFAR-10 Batch 3:  Cost : 1.0114719867706299, Accuracy : 0.6645998358726501\n",
      "Epoch 64, CIFAR-10 Batch 4:  Cost : 1.01063871383667, Accuracy : 0.663399875164032\n",
      "Epoch 64, CIFAR-10 Batch 5:  Cost : 1.004223108291626, Accuracy : 0.6697999238967896\n",
      "Epoch 65, CIFAR-10 Batch 1:  Cost : 1.0165417194366455, Accuracy : 0.6683998703956604\n",
      "Epoch 65, CIFAR-10 Batch 2:  Cost : 1.0317611694335938, Accuracy : 0.6589998602867126\n",
      "Epoch 65, CIFAR-10 Batch 3:  Cost : 1.0223265886306763, Accuracy : 0.6631998419761658\n",
      "Epoch 65, CIFAR-10 Batch 4:  Cost : 1.0196367502212524, Accuracy : 0.6619999408721924\n",
      "Epoch 65, CIFAR-10 Batch 5:  Cost : 1.0062494277954102, Accuracy : 0.668199896812439\n",
      "Epoch 66, CIFAR-10 Batch 1:  Cost : 1.029569387435913, Accuracy : 0.6579999327659607\n",
      "Epoch 66, CIFAR-10 Batch 2:  Cost : 1.0347281694412231, Accuracy : 0.6579998731613159\n",
      "Epoch 66, CIFAR-10 Batch 3:  Cost : 1.0312907695770264, Accuracy : 0.6595999002456665\n",
      "Epoch 66, CIFAR-10 Batch 4:  Cost : 1.0159121751785278, Accuracy : 0.6655998826026917\n",
      "Epoch 66, CIFAR-10 Batch 5:  Cost : 1.0055320262908936, Accuracy : 0.666999876499176\n",
      "Epoch 67, CIFAR-10 Batch 1:  Cost : 1.0206199884414673, Accuracy : 0.6649998426437378\n",
      "Epoch 67, CIFAR-10 Batch 2:  Cost : 1.0272741317749023, Accuracy : 0.6653999090194702\n",
      "Epoch 67, CIFAR-10 Batch 3:  Cost : 1.0420137643814087, Accuracy : 0.6587998867034912\n",
      "Epoch 67, CIFAR-10 Batch 4:  Cost : 1.0191086530685425, Accuracy : 0.6647998690605164\n",
      "Epoch 67, CIFAR-10 Batch 5:  Cost : 0.9987310171127319, Accuracy : 0.6675998568534851\n",
      "Epoch 68, CIFAR-10 Batch 1:  Cost : 1.025629997253418, Accuracy : 0.6613999009132385\n",
      "Epoch 68, CIFAR-10 Batch 2:  Cost : 1.0197852849960327, Accuracy : 0.6637998819351196\n",
      "Epoch 68, CIFAR-10 Batch 3:  Cost : 1.0276265144348145, Accuracy : 0.6581999063491821\n",
      "Epoch 68, CIFAR-10 Batch 4:  Cost : 1.027950406074524, Accuracy : 0.6609998345375061\n",
      "Epoch 68, CIFAR-10 Batch 5:  Cost : 1.0045232772827148, Accuracy : 0.6675999164581299\n",
      "Epoch 69, CIFAR-10 Batch 1:  Cost : 1.0184115171432495, Accuracy : 0.6677998900413513\n",
      "Epoch 69, CIFAR-10 Batch 2:  Cost : 1.0331745147705078, Accuracy : 0.6583998799324036\n",
      "Epoch 69, CIFAR-10 Batch 3:  Cost : 1.0426664352416992, Accuracy : 0.6601998209953308\n",
      "Epoch 69, CIFAR-10 Batch 4:  Cost : 1.0175358057022095, Accuracy : 0.6655998826026917\n",
      "Epoch 69, CIFAR-10 Batch 5:  Cost : 1.0134127140045166, Accuracy : 0.6667998433113098\n",
      "Epoch 70, CIFAR-10 Batch 1:  Cost : 1.0227605104446411, Accuracy : 0.6685999035835266\n",
      "Epoch 70, CIFAR-10 Batch 2:  Cost : 1.034144639968872, Accuracy : 0.662199854850769\n",
      "Epoch 70, CIFAR-10 Batch 3:  Cost : 1.0305936336517334, Accuracy : 0.6621999144554138\n",
      "Epoch 70, CIFAR-10 Batch 4:  Cost : 1.0143523216247559, Accuracy : 0.6641998887062073\n",
      "Epoch 70, CIFAR-10 Batch 5:  Cost : 0.9997259378433228, Accuracy : 0.6679998636245728\n",
      "Epoch 71, CIFAR-10 Batch 1:  Cost : 1.041578769683838, Accuracy : 0.6579998731613159\n",
      "Epoch 71, CIFAR-10 Batch 2:  Cost : 1.044548749923706, Accuracy : 0.6567999124526978\n",
      "Epoch 71, CIFAR-10 Batch 3:  Cost : 1.023993968963623, Accuracy : 0.6673998832702637\n",
      "Epoch 71, CIFAR-10 Batch 4:  Cost : 1.0285218954086304, Accuracy : 0.6653999090194702\n",
      "Epoch 71, CIFAR-10 Batch 5:  Cost : 1.0128731727600098, Accuracy : 0.6721998453140259\n",
      "Epoch 72, CIFAR-10 Batch 1:  Cost : 1.0389854907989502, Accuracy : 0.6579998731613159\n",
      "Epoch 72, CIFAR-10 Batch 2:  Cost : 1.024031639099121, Accuracy : 0.662199854850769\n",
      "Epoch 72, CIFAR-10 Batch 3:  Cost : 1.0423376560211182, Accuracy : 0.6627998948097229\n",
      "Epoch 72, CIFAR-10 Batch 4:  Cost : 1.0544562339782715, Accuracy : 0.6533999443054199\n",
      "Epoch 72, CIFAR-10 Batch 5:  Cost : 1.0186063051223755, Accuracy : 0.6691998243331909\n",
      "Epoch 73, CIFAR-10 Batch 1:  Cost : 1.0604923963546753, Accuracy : 0.6489998698234558\n",
      "Epoch 73, CIFAR-10 Batch 2:  Cost : 1.028152346611023, Accuracy : 0.6655998229980469\n",
      "Epoch 73, CIFAR-10 Batch 3:  Cost : 1.035954475402832, Accuracy : 0.6643998622894287\n",
      "Epoch 73, CIFAR-10 Batch 4:  Cost : 1.0247712135314941, Accuracy : 0.6637998819351196\n",
      "Epoch 73, CIFAR-10 Batch 5:  Cost : 1.0085463523864746, Accuracy : 0.6697999238967896\n",
      "Epoch 74, CIFAR-10 Batch 1:  Cost : 1.0373114347457886, Accuracy : 0.6621999144554138\n",
      "Epoch 74, CIFAR-10 Batch 2:  Cost : 1.053800106048584, Accuracy : 0.6543999314308167\n",
      "Epoch 74, CIFAR-10 Batch 3:  Cost : 1.0451406240463257, Accuracy : 0.66159987449646\n",
      "Epoch 74, CIFAR-10 Batch 4:  Cost : 1.021402359008789, Accuracy : 0.6659998297691345\n",
      "Epoch 74, CIFAR-10 Batch 5:  Cost : 1.0159332752227783, Accuracy : 0.6657998561859131\n",
      "Epoch 75, CIFAR-10 Batch 1:  Cost : 1.042991280555725, Accuracy : 0.6589999198913574\n",
      "Epoch 75, CIFAR-10 Batch 2:  Cost : 1.0189764499664307, Accuracy : 0.6643998622894287\n",
      "Epoch 75, CIFAR-10 Batch 3:  Cost : 1.0367554426193237, Accuracy : 0.6623998880386353\n",
      "Epoch 75, CIFAR-10 Batch 4:  Cost : 1.032171368598938, Accuracy : 0.6613998413085938\n",
      "Epoch 75, CIFAR-10 Batch 5:  Cost : 1.0176509618759155, Accuracy : 0.6705998778343201\n",
      "Epoch 76, CIFAR-10 Batch 1:  Cost : 1.0429928302764893, Accuracy : 0.6633999347686768\n",
      "Epoch 76, CIFAR-10 Batch 2:  Cost : 1.0254374742507935, Accuracy : 0.6665999293327332\n",
      "Epoch 76, CIFAR-10 Batch 3:  Cost : 1.0562701225280762, Accuracy : 0.6531999111175537\n",
      "Epoch 76, CIFAR-10 Batch 4:  Cost : 1.0365993976593018, Accuracy : 0.6561998724937439\n",
      "Epoch 76, CIFAR-10 Batch 5:  Cost : 1.028304934501648, Accuracy : 0.6611998677253723\n",
      "Epoch 77, CIFAR-10 Batch 1:  Cost : 1.0429356098175049, Accuracy : 0.6563998460769653\n",
      "Epoch 77, CIFAR-10 Batch 2:  Cost : 1.0325238704681396, Accuracy : 0.6627998948097229\n",
      "Epoch 77, CIFAR-10 Batch 3:  Cost : 1.0406981706619263, Accuracy : 0.6607998609542847\n",
      "Epoch 77, CIFAR-10 Batch 4:  Cost : 1.0288153886795044, Accuracy : 0.6599999070167542\n",
      "Epoch 77, CIFAR-10 Batch 5:  Cost : 1.0195882320404053, Accuracy : 0.6659999489784241\n",
      "Epoch 78, CIFAR-10 Batch 1:  Cost : 1.0358468294143677, Accuracy : 0.6639999151229858\n",
      "Epoch 78, CIFAR-10 Batch 2:  Cost : 1.0575778484344482, Accuracy : 0.6591998934745789\n",
      "Epoch 78, CIFAR-10 Batch 3:  Cost : 1.0368403196334839, Accuracy : 0.6609998941421509\n",
      "Epoch 78, CIFAR-10 Batch 4:  Cost : 1.0475702285766602, Accuracy : 0.6549999117851257\n",
      "Epoch 78, CIFAR-10 Batch 5:  Cost : 1.0235743522644043, Accuracy : 0.6629998683929443\n",
      "Epoch 79, CIFAR-10 Batch 1:  Cost : 1.0404690504074097, Accuracy : 0.6581999063491821\n",
      "Epoch 79, CIFAR-10 Batch 2:  Cost : 1.0293986797332764, Accuracy : 0.6627998948097229\n",
      "Epoch 79, CIFAR-10 Batch 3:  Cost : 1.0474035739898682, Accuracy : 0.6581998467445374\n",
      "Epoch 79, CIFAR-10 Batch 4:  Cost : 1.024273157119751, Accuracy : 0.6607998609542847\n",
      "Epoch 79, CIFAR-10 Batch 5:  Cost : 1.0297363996505737, Accuracy : 0.6629998683929443\n",
      "Epoch 80, CIFAR-10 Batch 1:  Cost : 1.0480090379714966, Accuracy : 0.6561998724937439\n",
      "Epoch 80, CIFAR-10 Batch 2:  Cost : 1.0357613563537598, Accuracy : 0.6659998893737793\n",
      "Epoch 80, CIFAR-10 Batch 3:  Cost : 1.0589306354522705, Accuracy : 0.6617999076843262\n",
      "Epoch 80, CIFAR-10 Batch 4:  Cost : 1.0472688674926758, Accuracy : 0.6545998454093933\n",
      "Epoch 80, CIFAR-10 Batch 5:  Cost : 1.0262444019317627, Accuracy : 0.6655998826026917\n",
      "Epoch 81, CIFAR-10 Batch 1:  Cost : 1.063817024230957, Accuracy : 0.6573998928070068\n",
      "Epoch 81, CIFAR-10 Batch 2:  Cost : 1.0480613708496094, Accuracy : 0.6593998670578003\n",
      "Epoch 81, CIFAR-10 Batch 3:  Cost : 1.0613384246826172, Accuracy : 0.65559983253479\n",
      "Epoch 81, CIFAR-10 Batch 4:  Cost : 1.0361151695251465, Accuracy : 0.6613998413085938\n",
      "Epoch 81, CIFAR-10 Batch 5:  Cost : 1.0329393148422241, Accuracy : 0.6647998690605164\n",
      "Epoch 82, CIFAR-10 Batch 1:  Cost : 1.0709959268569946, Accuracy : 0.6531999707221985\n",
      "Epoch 82, CIFAR-10 Batch 2:  Cost : 1.0486974716186523, Accuracy : 0.6625998616218567\n",
      "Epoch 82, CIFAR-10 Batch 3:  Cost : 1.0604337453842163, Accuracy : 0.6591998338699341\n",
      "Epoch 82, CIFAR-10 Batch 4:  Cost : 1.036238670349121, Accuracy : 0.6601998805999756\n",
      "Epoch 82, CIFAR-10 Batch 5:  Cost : 1.0323641300201416, Accuracy : 0.6655998826026917\n",
      "Epoch 83, CIFAR-10 Batch 1:  Cost : 1.0548291206359863, Accuracy : 0.6601998805999756\n",
      "Epoch 83, CIFAR-10 Batch 2:  Cost : 1.0414631366729736, Accuracy : 0.66159987449646\n",
      "Epoch 83, CIFAR-10 Batch 3:  Cost : 1.0661942958831787, Accuracy : 0.65559983253479\n",
      "Epoch 83, CIFAR-10 Batch 4:  Cost : 1.0368322134017944, Accuracy : 0.6607998609542847\n",
      "Epoch 83, CIFAR-10 Batch 5:  Cost : 1.0379966497421265, Accuracy : 0.6593999266624451\n",
      "Epoch 84, CIFAR-10 Batch 1:  Cost : 1.0519939661026, Accuracy : 0.6597999334335327\n",
      "Epoch 84, CIFAR-10 Batch 2:  Cost : 1.0362695455551147, Accuracy : 0.6681998372077942\n",
      "Epoch 84, CIFAR-10 Batch 3:  Cost : 1.0662543773651123, Accuracy : 0.6591998934745789\n",
      "Epoch 84, CIFAR-10 Batch 4:  Cost : 1.036731243133545, Accuracy : 0.6649998426437378\n",
      "Epoch 84, CIFAR-10 Batch 5:  Cost : 1.0253994464874268, Accuracy : 0.663399875164032\n",
      "Epoch 85, CIFAR-10 Batch 1:  Cost : 1.0644603967666626, Accuracy : 0.6517998576164246\n",
      "Epoch 85, CIFAR-10 Batch 2:  Cost : 1.0407999753952026, Accuracy : 0.6659998893737793\n",
      "Epoch 85, CIFAR-10 Batch 3:  Cost : 1.0659199953079224, Accuracy : 0.6559998989105225\n",
      "Epoch 85, CIFAR-10 Batch 4:  Cost : 1.0451056957244873, Accuracy : 0.6595998406410217\n",
      "Epoch 85, CIFAR-10 Batch 5:  Cost : 1.04015052318573, Accuracy : 0.6645998954772949\n",
      "Epoch 86, CIFAR-10 Batch 1:  Cost : 1.063468337059021, Accuracy : 0.6587998867034912\n",
      "Epoch 86, CIFAR-10 Batch 2:  Cost : 1.0459924936294556, Accuracy : 0.6557998657226562\n",
      "Epoch 86, CIFAR-10 Batch 3:  Cost : 1.0733689069747925, Accuracy : 0.6559998989105225\n",
      "Epoch 86, CIFAR-10 Batch 4:  Cost : 1.0449918508529663, Accuracy : 0.6589999198913574\n",
      "Epoch 86, CIFAR-10 Batch 5:  Cost : 1.0469765663146973, Accuracy : 0.6673998236656189\n",
      "Epoch 87, CIFAR-10 Batch 1:  Cost : 1.060696005821228, Accuracy : 0.657599925994873\n",
      "Epoch 87, CIFAR-10 Batch 2:  Cost : 1.0440716743469238, Accuracy : 0.6639998555183411\n",
      "Epoch 87, CIFAR-10 Batch 3:  Cost : 1.0592119693756104, Accuracy : 0.6579999327659607\n",
      "Epoch 87, CIFAR-10 Batch 4:  Cost : 1.0543339252471924, Accuracy : 0.6573998928070068\n",
      "Epoch 87, CIFAR-10 Batch 5:  Cost : 1.0351059436798096, Accuracy : 0.6653998494148254\n",
      "Epoch 88, CIFAR-10 Batch 1:  Cost : 1.0734221935272217, Accuracy : 0.655799925327301\n",
      "Epoch 88, CIFAR-10 Batch 2:  Cost : 1.0486356019973755, Accuracy : 0.6623998880386353\n",
      "Epoch 88, CIFAR-10 Batch 3:  Cost : 1.0689640045166016, Accuracy : 0.6595999002456665\n",
      "Epoch 88, CIFAR-10 Batch 4:  Cost : 1.0638203620910645, Accuracy : 0.6593998670578003\n",
      "Epoch 88, CIFAR-10 Batch 5:  Cost : 1.041898250579834, Accuracy : 0.66159987449646\n",
      "Epoch 89, CIFAR-10 Batch 1:  Cost : 1.067130208015442, Accuracy : 0.6581998467445374\n",
      "Epoch 89, CIFAR-10 Batch 2:  Cost : 1.0612642765045166, Accuracy : 0.6643998622894287\n",
      "Epoch 89, CIFAR-10 Batch 3:  Cost : 1.0641525983810425, Accuracy : 0.6571998596191406\n",
      "Epoch 89, CIFAR-10 Batch 4:  Cost : 1.0538318157196045, Accuracy : 0.6589998602867126\n",
      "Epoch 89, CIFAR-10 Batch 5:  Cost : 1.0504575967788696, Accuracy : 0.6645998954772949\n",
      "Epoch 90, CIFAR-10 Batch 1:  Cost : 1.0932965278625488, Accuracy : 0.650999903678894\n",
      "Epoch 90, CIFAR-10 Batch 2:  Cost : 1.0742580890655518, Accuracy : 0.6583999395370483\n",
      "Epoch 90, CIFAR-10 Batch 3:  Cost : 1.0741084814071655, Accuracy : 0.6601998805999756\n",
      "Epoch 90, CIFAR-10 Batch 4:  Cost : 1.0474066734313965, Accuracy : 0.6637998819351196\n",
      "Epoch 90, CIFAR-10 Batch 5:  Cost : 1.0430999994277954, Accuracy : 0.6637998819351196\n",
      "Epoch 91, CIFAR-10 Batch 1:  Cost : 1.0773708820343018, Accuracy : 0.6541998982429504\n",
      "Epoch 91, CIFAR-10 Batch 2:  Cost : 1.0656280517578125, Accuracy : 0.6571998596191406\n",
      "Epoch 91, CIFAR-10 Batch 3:  Cost : 1.065250039100647, Accuracy : 0.6581998467445374\n",
      "Epoch 91, CIFAR-10 Batch 4:  Cost : 1.0611226558685303, Accuracy : 0.6577998995780945\n",
      "Epoch 91, CIFAR-10 Batch 5:  Cost : 1.0542776584625244, Accuracy : 0.6617999076843262\n",
      "Epoch 92, CIFAR-10 Batch 1:  Cost : 1.083935022354126, Accuracy : 0.6589999198913574\n",
      "Epoch 92, CIFAR-10 Batch 2:  Cost : 1.0444704294204712, Accuracy : 0.6627998948097229\n",
      "Epoch 92, CIFAR-10 Batch 3:  Cost : 1.079546570777893, Accuracy : 0.6605998277664185\n",
      "Epoch 92, CIFAR-10 Batch 4:  Cost : 1.0721484422683716, Accuracy : 0.6543998718261719\n",
      "Epoch 92, CIFAR-10 Batch 5:  Cost : 1.050786018371582, Accuracy : 0.6595999002456665\n",
      "Epoch 93, CIFAR-10 Batch 1:  Cost : 1.0817670822143555, Accuracy : 0.652199923992157\n",
      "Epoch 93, CIFAR-10 Batch 2:  Cost : 1.0525360107421875, Accuracy : 0.6631999015808105\n",
      "Epoch 93, CIFAR-10 Batch 3:  Cost : 1.0966532230377197, Accuracy : 0.653799831867218\n",
      "Epoch 93, CIFAR-10 Batch 4:  Cost : 1.0565532445907593, Accuracy : 0.6595999002456665\n",
      "Epoch 93, CIFAR-10 Batch 5:  Cost : 1.0566458702087402, Accuracy : 0.6613998413085938\n",
      "Epoch 94, CIFAR-10 Batch 1:  Cost : 1.1041206121444702, Accuracy : 0.6489998698234558\n",
      "Epoch 94, CIFAR-10 Batch 2:  Cost : 1.0645657777786255, Accuracy : 0.6655998826026917\n",
      "Epoch 94, CIFAR-10 Batch 3:  Cost : 1.085898518562317, Accuracy : 0.6581998467445374\n",
      "Epoch 94, CIFAR-10 Batch 4:  Cost : 1.0619399547576904, Accuracy : 0.6599999070167542\n",
      "Epoch 94, CIFAR-10 Batch 5:  Cost : 1.0580564737319946, Accuracy : 0.6609998941421509\n",
      "Epoch 95, CIFAR-10 Batch 1:  Cost : 1.0876514911651611, Accuracy : 0.6559998989105225\n",
      "Epoch 95, CIFAR-10 Batch 2:  Cost : 1.0537536144256592, Accuracy : 0.6637998819351196\n",
      "Epoch 95, CIFAR-10 Batch 3:  Cost : 1.0837658643722534, Accuracy : 0.6561999320983887\n",
      "Epoch 95, CIFAR-10 Batch 4:  Cost : 1.0754832029342651, Accuracy : 0.6595999002456665\n",
      "Epoch 95, CIFAR-10 Batch 5:  Cost : 1.0616470575332642, Accuracy : 0.6647998690605164\n",
      "Epoch 96, CIFAR-10 Batch 1:  Cost : 1.1138454675674438, Accuracy : 0.6453999280929565\n",
      "Epoch 96, CIFAR-10 Batch 2:  Cost : 1.0765421390533447, Accuracy : 0.658599853515625\n",
      "Epoch 96, CIFAR-10 Batch 3:  Cost : 1.0760982036590576, Accuracy : 0.6619998216629028\n",
      "Epoch 96, CIFAR-10 Batch 4:  Cost : 1.0608793497085571, Accuracy : 0.6593998670578003\n",
      "Epoch 96, CIFAR-10 Batch 5:  Cost : 1.0550755262374878, Accuracy : 0.666999876499176\n",
      "Epoch 97, CIFAR-10 Batch 1:  Cost : 1.089770793914795, Accuracy : 0.6563998460769653\n",
      "Epoch 97, CIFAR-10 Batch 2:  Cost : 1.0585874319076538, Accuracy : 0.6645998954772949\n",
      "Epoch 97, CIFAR-10 Batch 3:  Cost : 1.0982171297073364, Accuracy : 0.6547999382019043\n",
      "Epoch 97, CIFAR-10 Batch 4:  Cost : 1.0713227987289429, Accuracy : 0.6615999341011047\n",
      "Epoch 97, CIFAR-10 Batch 5:  Cost : 1.070258617401123, Accuracy : 0.6639998555183411\n",
      "Epoch 98, CIFAR-10 Batch 1:  Cost : 1.1170058250427246, Accuracy : 0.6469999551773071\n",
      "Epoch 98, CIFAR-10 Batch 2:  Cost : 1.0618507862091064, Accuracy : 0.663399875164032\n",
      "Epoch 98, CIFAR-10 Batch 3:  Cost : 1.0938632488250732, Accuracy : 0.658599853515625\n",
      "Epoch 98, CIFAR-10 Batch 4:  Cost : 1.0651499032974243, Accuracy : 0.6601998805999756\n",
      "Epoch 98, CIFAR-10 Batch 5:  Cost : 1.0700483322143555, Accuracy : 0.6625998616218567\n",
      "Epoch 99, CIFAR-10 Batch 1:  Cost : 1.0945725440979004, Accuracy : 0.6557998657226562\n",
      "Epoch 99, CIFAR-10 Batch 2:  Cost : 1.072505235671997, Accuracy : 0.6583998799324036\n",
      "Epoch 99, CIFAR-10 Batch 3:  Cost : 1.096788763999939, Accuracy : 0.6561998724937439\n",
      "Epoch 99, CIFAR-10 Batch 4:  Cost : 1.0828020572662354, Accuracy : 0.6559998989105225\n",
      "Epoch 99, CIFAR-10 Batch 5:  Cost : 1.080290675163269, Accuracy : 0.6629998683929443\n",
      "Epoch 100, CIFAR-10 Batch 1:  Cost : 1.077566385269165, Accuracy : 0.6605998873710632\n",
      "Epoch 100, CIFAR-10 Batch 2:  Cost : 1.0727035999298096, Accuracy : 0.6603999137878418\n",
      "Epoch 100, CIFAR-10 Batch 3:  Cost : 1.104417085647583, Accuracy : 0.6567999124526978\n",
      "Epoch 100, CIFAR-10 Batch 4:  Cost : 1.0838847160339355, Accuracy : 0.6541998386383057\n",
      "Epoch 100, CIFAR-10 Batch 5:  Cost : 1.0638625621795654, Accuracy : 0.6639998555183411\n"
     ]
    }
   ],
   "source": [
    "\"\"\"\n",
    "DON'T MODIFY ANYTHING IN THIS CELL\n",
    "\"\"\"\n",
    "save_model_path = './image_classification'\n",
    "\n",
    "print('Training...')\n",
    "with tf.Session() as sess:\n",
    "    # Initializing the variables\n",
    "    sess.run(tf.global_variables_initializer())\n",
    "    \n",
    "    # Training cycle\n",
    "    for epoch in range(epochs):\n",
    "        # Loop over all batches\n",
    "        n_batches = 5\n",
    "        for batch_i in range(1, n_batches + 1):\n",
    "            for batch_features, batch_labels in helper.load_preprocess_training_batch(batch_i, batch_size):\n",
    "                train_neural_network(sess, optimizer, keep_probability, batch_features, batch_labels)\n",
    "            print('Epoch {:>2}, CIFAR-10 Batch {}:  '.format(epoch + 1, batch_i), end='')\n",
    "            print_stats(sess, batch_features, batch_labels, cost, accuracy)\n",
    "            \n",
    "    # Save Model\n",
    "    saver = tf.train.Saver()\n",
    "    save_path = saver.save(sess, save_model_path)"
   ]
  },
  {
   "cell_type": "markdown",
   "metadata": {
    "deletable": true,
    "editable": true
   },
   "source": [
    "# Checkpoint\n",
    "The model has been saved to disk.\n",
    "## Test Model\n",
    "Test your model against the test dataset.  This will be your final accuracy. You should have an accuracy greater than 50%. If you don't, keep tweaking the model architecture and parameters."
   ]
  },
  {
   "cell_type": "code",
   "execution_count": 71,
   "metadata": {
    "collapsed": false,
    "deletable": true,
    "editable": true
   },
   "outputs": [
    {
     "name": "stdout",
     "output_type": "stream",
     "text": [
      "Testing Accuracy: 0.66787109375\n",
      "\n"
     ]
    },
    {
     "data": {
      "image/png": "[encoded data removed]",
      "text/plain": [
       "<matplotlib.figure.Figure at 0x7f0d01056438>"
      ]
     },
     "metadata": {
      "image/png": {
       "height": 319,
       "width": 355
      }
     },
     "output_type": "display_data"
    }
   ],
   "source": [
    "\"\"\"\n",
    "DON'T MODIFY ANYTHING IN THIS CELL\n",
    "\"\"\"\n",
    "%matplotlib inline\n",
    "%config InlineBackend.figure_format = 'retina'\n",
    "\n",
    "import tensorflow as tf\n",
    "import pickle\n",
    "import helper\n",
    "import random\n",
    "\n",
    "# Set batch size if not already set\n",
    "try:\n",
    "    if batch_size:\n",
    "        pass\n",
    "except NameError:\n",
    "    batch_size = 64\n",
    "\n",
    "save_model_path = './image_classification'\n",
    "n_samples = 4\n",
    "top_n_predictions = 3\n",
    "\n",
    "def test_model():\n",
    "    \"\"\"\n",
    "    Test the saved model against the test dataset\n",
    "    \"\"\"\n",
    "\n",
    "    test_features, test_labels = pickle.load(open('preprocess_test.p', mode='rb'))\n",
    "    loaded_graph = tf.Graph()\n",
    "\n",
    "    with tf.Session(graph=loaded_graph) as sess:\n",
    "        # Load model\n",
    "        loader = tf.train.import_meta_graph(save_model_path + '.meta')\n",
    "        loader.restore(sess, save_model_path)\n",
    "\n",
    "        # Get Tensors from loaded model\n",
    "        loaded_x = loaded_graph.get_tensor_by_name('x:0')\n",
    "        loaded_y = loaded_graph.get_tensor_by_name('y:0')\n",
    "        loaded_keep_prob = loaded_graph.get_tensor_by_name('keep_prob:0')\n",
    "        loaded_logits = loaded_graph.get_tensor_by_name('logits:0')\n",
    "        loaded_acc = loaded_graph.get_tensor_by_name('accuracy:0')\n",
    "        \n",
    "        # Get accuracy in batches for memory limitations\n",
    "        test_batch_acc_total = 0\n",
    "        test_batch_count = 0\n",
    "        \n",
    "        for test_feature_batch, test_label_batch in helper.batch_features_labels(test_features, test_labels, batch_size):\n",
    "            test_batch_acc_total += sess.run(\n",
    "                loaded_acc,\n",
    "                feed_dict={loaded_x: test_feature_batch, loaded_y: test_label_batch, loaded_keep_prob: 1.0})\n",
    "            test_batch_count += 1\n",
    "\n",
    "        print('Testing Accuracy: {}\\n'.format(test_batch_acc_total/test_batch_count))\n",
    "\n",
    "        # Print Random Samples\n",
    "        random_test_features, random_test_labels = tuple(zip(*random.sample(list(zip(test_features, test_labels)), n_samples)))\n",
    "        random_test_predictions = sess.run(\n",
    "            tf.nn.top_k(tf.nn.softmax(loaded_logits), top_n_predictions),\n",
    "            feed_dict={loaded_x: random_test_features, loaded_y: random_test_labels, loaded_keep_prob: 1.0})\n",
    "        helper.display_image_predictions(random_test_features, random_test_labels, random_test_predictions)\n",
    "\n",
    "\n",
    "test_model()"
   ]
  },
  {
   "cell_type": "markdown",
   "metadata": {
    "deletable": true,
    "editable": true
   },
   "source": [
    "## Why 50-80% Accuracy?\n",
    "You might be wondering why you can't get an accuracy any higher. First things first, 50% isn't bad for a simple CNN.  Pure guessing would get you 10% accuracy. However, you might notice people are getting scores [well above 80%](http://rodrigob.github.io/are_we_there_yet/build/classification_datasets_results.html#43494641522d3130).  That's because we haven't taught you all there is to know about neural networks. We still need to cover a few more techniques.\n",
    "## Submitting This Project\n",
    "When submitting this project, make sure to run all the cells before saving the notebook.  Save the notebook file as \"dlnd_image_classification.ipynb\" and save it as a HTML file under \"File\" -> \"Download as\".  Include the \"helper.py\" and \"problem_unittests.py\" files in your submission."
   ]
  }
 ],
 "metadata": {
  "kernelspec": {
   "display_name": "Python 3",
   "language": "python",
   "name": "python3"
  },
  "language_info": {
   "codemirror_mode": {
    "name": "ipython",
    "version": 3
   },
   "file_extension": ".py",
   "mimetype": "text/x-python",
   "name": "python",
   "nbconvert_exporter": "python",
   "pygments_lexer": "ipython3",
   "version": "3.5.2"
  },
  "widgets": {
   "state": {},
   "version": "1.1.2"
  }
 },
 "nbformat": 4,
 "nbformat_minor": 0
}
